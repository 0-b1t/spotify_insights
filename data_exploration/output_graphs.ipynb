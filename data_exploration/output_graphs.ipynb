{
 "cells": [
  {
   "cell_type": "code",
   "execution_count": 1,
   "metadata": {},
   "outputs": [
    {
     "data": {
      "application/javascript": [
       "\n",
       "            setTimeout(function() {\n",
       "                var nbb_cell_id = 1;\n",
       "                var nbb_unformatted_code = \"%reload_ext nb_black\";\n",
       "                var nbb_formatted_code = \"%reload_ext nb_black\";\n",
       "                var nbb_cells = Jupyter.notebook.get_cells();\n",
       "                for (var i = 0; i < nbb_cells.length; ++i) {\n",
       "                    if (nbb_cells[i].input_prompt_number == nbb_cell_id) {\n",
       "                        if (nbb_cells[i].get_text() == nbb_unformatted_code) {\n",
       "                             nbb_cells[i].set_text(nbb_formatted_code);\n",
       "                        }\n",
       "                        break;\n",
       "                    }\n",
       "                }\n",
       "            }, 500);\n",
       "            "
      ],
      "text/plain": [
       "<IPython.core.display.Javascript object>"
      ]
     },
     "metadata": {},
     "output_type": "display_data"
    }
   ],
   "source": [
    "%reload_ext nb_black"
   ]
  },
  {
   "cell_type": "code",
   "execution_count": 2,
   "metadata": {},
   "outputs": [
    {
     "data": {
      "application/javascript": [
       "\n",
       "            setTimeout(function() {\n",
       "                var nbb_cell_id = 2;\n",
       "                var nbb_unformatted_code = \"import pandas as pd\\nimport numpy as np\\nfrom scipy import stats\\nimport seaborn as sns\\nimport matplotlib.pyplot as plt\\nfrom non_param_effect_size import calc_non_param_ci, cles_ind, rbc_ind\\n\\n%matplotlib inline\\n\\n\\ndef get_95_ci(x1, x2):\\n    \\\"\\\"\\\"Calculate a 95% CI for 2 1d numpy arrays\\\"\\\"\\\"\\n    signal = x1.mean() - x2.mean()\\n    noise = np.sqrt(x1.var() / x1.size + x2.var() / x2.size)\\n\\n    ci_lo = signal - 1.96 * noise\\n    ci_hi = signal + 1.96 * noise\\n\\n    return ci_lo, ci_hi\";\n",
       "                var nbb_formatted_code = \"import pandas as pd\\nimport numpy as np\\nfrom scipy import stats\\nimport seaborn as sns\\nimport matplotlib.pyplot as plt\\nfrom non_param_effect_size import calc_non_param_ci, cles_ind, rbc_ind\\n\\n%matplotlib inline\\n\\n\\ndef get_95_ci(x1, x2):\\n    \\\"\\\"\\\"Calculate a 95% CI for 2 1d numpy arrays\\\"\\\"\\\"\\n    signal = x1.mean() - x2.mean()\\n    noise = np.sqrt(x1.var() / x1.size + x2.var() / x2.size)\\n\\n    ci_lo = signal - 1.96 * noise\\n    ci_hi = signal + 1.96 * noise\\n\\n    return ci_lo, ci_hi\";\n",
       "                var nbb_cells = Jupyter.notebook.get_cells();\n",
       "                for (var i = 0; i < nbb_cells.length; ++i) {\n",
       "                    if (nbb_cells[i].input_prompt_number == nbb_cell_id) {\n",
       "                        if (nbb_cells[i].get_text() == nbb_unformatted_code) {\n",
       "                             nbb_cells[i].set_text(nbb_formatted_code);\n",
       "                        }\n",
       "                        break;\n",
       "                    }\n",
       "                }\n",
       "            }, 500);\n",
       "            "
      ],
      "text/plain": [
       "<IPython.core.display.Javascript object>"
      ]
     },
     "metadata": {},
     "output_type": "display_data"
    }
   ],
   "source": [
    "import pandas as pd\n",
    "import numpy as np\n",
    "from scipy import stats\n",
    "import seaborn as sns\n",
    "import matplotlib.pyplot as plt\n",
    "from non_param_effect_size import calc_non_param_ci, cles_ind, rbc_ind\n",
    "\n",
    "%matplotlib inline\n",
    "\n",
    "\n",
    "def get_95_ci(x1, x2):\n",
    "    \"\"\"Calculate a 95% CI for 2 1d numpy arrays\"\"\"\n",
    "    signal = x1.mean() - x2.mean()\n",
    "    noise = np.sqrt(x1.var() / x1.size + x2.var() / x2.size)\n",
    "\n",
    "    ci_lo = signal - 1.96 * noise\n",
    "    ci_hi = signal + 1.96 * noise\n",
    "\n",
    "    return ci_lo, ci_hi"
   ]
  },
  {
   "cell_type": "code",
   "execution_count": 72,
   "metadata": {},
   "outputs": [
    {
     "data": {
      "application/javascript": [
       "\n",
       "            setTimeout(function() {\n",
       "                var nbb_cell_id = 72;\n",
       "                var nbb_unformatted_code = \"running = pd.read_csv(\\\"../data/running_playlist_tracks.csv\\\")\\nrunning.drop(columns=\\\"Unnamed: 0\\\", inplace=True)\\ngen = pd.read_csv(\\\"../data/sampled_set.csv\\\")\\ngen.drop(columns=\\\"Unnamed: 0\\\", inplace=True)\\nstudy = pd.read_csv(\\\"../data/study_playlist_tracks.csv\\\")\\nstudy.drop(columns=\\\"Unnamed: 0\\\", inplace=True)\";\n",
       "                var nbb_formatted_code = \"running = pd.read_csv(\\\"../data/running_playlist_tracks.csv\\\")\\nrunning.drop(columns=\\\"Unnamed: 0\\\", inplace=True)\\ngen = pd.read_csv(\\\"../data/sampled_set.csv\\\")\\ngen.drop(columns=\\\"Unnamed: 0\\\", inplace=True)\\nstudy = pd.read_csv(\\\"../data/study_playlist_tracks.csv\\\")\\nstudy.drop(columns=\\\"Unnamed: 0\\\", inplace=True)\";\n",
       "                var nbb_cells = Jupyter.notebook.get_cells();\n",
       "                for (var i = 0; i < nbb_cells.length; ++i) {\n",
       "                    if (nbb_cells[i].input_prompt_number == nbb_cell_id) {\n",
       "                        if (nbb_cells[i].get_text() == nbb_unformatted_code) {\n",
       "                             nbb_cells[i].set_text(nbb_formatted_code);\n",
       "                        }\n",
       "                        break;\n",
       "                    }\n",
       "                }\n",
       "            }, 500);\n",
       "            "
      ],
      "text/plain": [
       "<IPython.core.display.Javascript object>"
      ]
     },
     "metadata": {},
     "output_type": "display_data"
    }
   ],
   "source": [
    "running = pd.read_csv(\"../data/running_playlist_tracks.csv\")\n",
    "running.drop(columns=\"Unnamed: 0\", inplace=True)\n",
    "gen = pd.read_csv(\"../data/sampled_set.csv\")\n",
    "gen.drop(columns=\"Unnamed: 0\", inplace=True)\n",
    "study = pd.read_csv(\"../data/study_playlist_tracks.csv\")\n",
    "study.drop(columns=\"Unnamed: 0\", inplace=True)"
   ]
  },
  {
   "cell_type": "code",
   "execution_count": null,
   "metadata": {},
   "outputs": [],
   "source": []
  },
  {
   "cell_type": "code",
   "execution_count": 73,
   "metadata": {},
   "outputs": [
    {
     "data": {
      "application/javascript": [
       "\n",
       "            setTimeout(function() {\n",
       "                var nbb_cell_id = 73;\n",
       "                var nbb_unformatted_code = \"# initialize colors to be used for visualizations\\ngen_bar_color = \\\"#23d05fff\\\"  # spotify green\\ngen_line_color = \\\"#49ECF2\\\"  # cyan\\n\\nrun_bar_color = \\\"#233DD0\\\"  # blue\\nrun_line_color = \\\"#CD5D00\\\"  # orange\\n\\nstud_bar_color = \\\"#D02394\\\"  # Pink\\nstud_line_color = \\\"#8BE413\\\"  # green\";\n",
       "                var nbb_formatted_code = \"# initialize colors to be used for visualizations\\ngen_bar_color = \\\"#23d05fff\\\"  # spotify green\\ngen_line_color = \\\"#49ECF2\\\"  # cyan\\n\\nrun_bar_color = \\\"#233DD0\\\"  # blue\\nrun_line_color = \\\"#CD5D00\\\"  # orange\\n\\nstud_bar_color = \\\"#D02394\\\"  # Pink\\nstud_line_color = \\\"#8BE413\\\"  # green\";\n",
       "                var nbb_cells = Jupyter.notebook.get_cells();\n",
       "                for (var i = 0; i < nbb_cells.length; ++i) {\n",
       "                    if (nbb_cells[i].input_prompt_number == nbb_cell_id) {\n",
       "                        if (nbb_cells[i].get_text() == nbb_unformatted_code) {\n",
       "                             nbb_cells[i].set_text(nbb_formatted_code);\n",
       "                        }\n",
       "                        break;\n",
       "                    }\n",
       "                }\n",
       "            }, 500);\n",
       "            "
      ],
      "text/plain": [
       "<IPython.core.display.Javascript object>"
      ]
     },
     "metadata": {},
     "output_type": "display_data"
    }
   ],
   "source": [
    "# initialize colors to be used for visualizations\n",
    "gen_bar_color = \"#23d05fff\"  # spotify green\n",
    "gen_line_color = \"#49ECF2\"  # cyan\n",
    "\n",
    "run_bar_color = \"#233DD0\"  # blue\n",
    "run_line_color = \"#CD5D00\"  # orange\n",
    "\n",
    "stud_bar_color = \"#D02394\"  # Pink\n",
    "stud_line_color = \"#8BE413\"  # green"
   ]
  },
  {
   "cell_type": "code",
   "execution_count": 14,
   "metadata": {
    "scrolled": true
   },
   "outputs": [
    {
     "data": {
      "image/png": "[encoded data removed]",
      "text/plain": [
       "<Figure size 432x288 with 1 Axes>"
      ]
     },
     "metadata": {
      "needs_background": "light"
     },
     "output_type": "display_data"
    },
    {
     "data": {
      "application/javascript": [
       "\n",
       "            setTimeout(function() {\n",
       "                var nbb_cell_id = 14;\n",
       "                var nbb_unformatted_code = \"# Get rid of zeros because they represent either incomplete or erroneous data.\\ngen_filtered = gen[gen[\\\"tempo\\\"] != 0]\\nrun_filtered = running[running[\\\"tempo\\\"] != 0]\\ngen_filtered[\\\"tempo\\\"].hist(bins=30, alpha=0.75, label=\\\"GP\\\", color=gen_bar_color)\\nrun_filtered[\\\"tempo\\\"].hist(bins=30, alpha=0.75, label=\\\"Running\\\", color=run_bar_color)\\n#plt.legend()\\nplt.grid(b=None)\\nplt.show()\";\n",
       "                var nbb_formatted_code = \"# Get rid of zeros because they represent either incomplete or erroneous data.\\ngen_filtered = gen[gen[\\\"tempo\\\"] != 0]\\nrun_filtered = running[running[\\\"tempo\\\"] != 0]\\ngen_filtered[\\\"tempo\\\"].hist(bins=30, alpha=0.75, label=\\\"GP\\\", color=gen_bar_color)\\nrun_filtered[\\\"tempo\\\"].hist(bins=30, alpha=0.75, label=\\\"Running\\\", color=run_bar_color)\\n# plt.legend()\\nplt.grid(b=None)\\nplt.show()\";\n",
       "                var nbb_cells = Jupyter.notebook.get_cells();\n",
       "                for (var i = 0; i < nbb_cells.length; ++i) {\n",
       "                    if (nbb_cells[i].input_prompt_number == nbb_cell_id) {\n",
       "                        if (nbb_cells[i].get_text() == nbb_unformatted_code) {\n",
       "                             nbb_cells[i].set_text(nbb_formatted_code);\n",
       "                        }\n",
       "                        break;\n",
       "                    }\n",
       "                }\n",
       "            }, 500);\n",
       "            "
      ],
      "text/plain": [
       "<IPython.core.display.Javascript object>"
      ]
     },
     "metadata": {},
     "output_type": "display_data"
    }
   ],
   "source": [
    "# Get rid of zeros because they represent either incomplete or erroneous data.\n",
    "gen_filtered = gen[gen[\"tempo\"] != 0]\n",
    "run_filtered = running[running[\"tempo\"] != 0]\n"
   ]
  },
  {
   "cell_type": "code",
   "execution_count": 48,
   "metadata": {},
   "outputs": [
    {
     "data": {
      "image/png": "[encoded data removed]",
      "text/plain": [
       "<Figure size 432x288 with 1 Axes>"
      ]
     },
     "metadata": {
      "needs_background": "light"
     },
     "output_type": "display_data"
    },
    {
     "data": {
      "application/javascript": [
       "\n",
       "            setTimeout(function() {\n",
       "                var nbb_cell_id = 48;\n",
       "                var nbb_unformatted_code = \"gen_filtered[\\\"tempo\\\"].hist(bins=30, alpha=1, label=\\\"GP\\\", color=gen_bar_color)\\nrun_filtered[\\\"tempo\\\"].hist(bins=30, alpha=0.0, label=\\\"Running\\\", color=run_bar_color)\\n# plt.legend()\\nplt.grid(b=None)\\nplt.title(\\\"General Population (sampled)\\\")\\nplt.xlabel(\\\"Tempo\\\")\\nplt.savefig(\\\"../imgs/gen_tempo\\\", transparent=True)\\nplt.show()\";\n",
       "                var nbb_formatted_code = \"gen_filtered[\\\"tempo\\\"].hist(bins=30, alpha=1, label=\\\"GP\\\", color=gen_bar_color)\\nrun_filtered[\\\"tempo\\\"].hist(bins=30, alpha=0.0, label=\\\"Running\\\", color=run_bar_color)\\n# plt.legend()\\nplt.grid(b=None)\\nplt.title(\\\"General Population (sampled)\\\")\\nplt.xlabel(\\\"Tempo\\\")\\nplt.savefig(\\\"../imgs/gen_tempo\\\", transparent=True)\\nplt.show()\";\n",
       "                var nbb_cells = Jupyter.notebook.get_cells();\n",
       "                for (var i = 0; i < nbb_cells.length; ++i) {\n",
       "                    if (nbb_cells[i].input_prompt_number == nbb_cell_id) {\n",
       "                        if (nbb_cells[i].get_text() == nbb_unformatted_code) {\n",
       "                             nbb_cells[i].set_text(nbb_formatted_code);\n",
       "                        }\n",
       "                        break;\n",
       "                    }\n",
       "                }\n",
       "            }, 500);\n",
       "            "
      ],
      "text/plain": [
       "<IPython.core.display.Javascript object>"
      ]
     },
     "metadata": {},
     "output_type": "display_data"
    }
   ],
   "source": [
    "gen_filtered[\"tempo\"].hist(bins=30, alpha=1, label=\"GP\", color=gen_bar_color)\n",
    "run_filtered[\"tempo\"].hist(bins=30, alpha=0.0, label=\"Running\", color=run_bar_color)\n",
    "# plt.legend()\n",
    "plt.grid(b=None)\n",
    "plt.title(\"General Population (sampled)\")\n",
    "plt.xlabel(\"Tempo\")\n",
    "plt.savefig(\"../imgs/gen_tempo\", transparent=True)\n",
    "plt.show()"
   ]
  },
  {
   "cell_type": "code",
   "execution_count": 49,
   "metadata": {
    "scrolled": true
   },
   "outputs": [
    {
     "data": {
      "image/png": "[encoded data removed]",
      "text/plain": [
       "<Figure size 432x288 with 1 Axes>"
      ]
     },
     "metadata": {
      "needs_background": "light"
     },
     "output_type": "display_data"
    },
    {
     "data": {
      "application/javascript": [
       "\n",
       "            setTimeout(function() {\n",
       "                var nbb_cell_id = 49;\n",
       "                var nbb_unformatted_code = \"gen_filtered[\\\"tempo\\\"].hist(bins=30, alpha=0.7, label=\\\"GP\\\", color=gen_bar_color)\\nrun_filtered[\\\"tempo\\\"].hist(bins=30, alpha=1, label=\\\"Running\\\", color=run_bar_color)\\n# plt.legend()\\nplt.grid(b=None)\\nplt.title(\\\"General Population & Running Songs\\\")\\nplt.xlabel(\\\"Tempo\\\")\\nplt.savefig(\\\"../imgs/run_gen_tempo\\\", transparent=True)\\nplt.show()\";\n",
       "                var nbb_formatted_code = \"gen_filtered[\\\"tempo\\\"].hist(bins=30, alpha=0.7, label=\\\"GP\\\", color=gen_bar_color)\\nrun_filtered[\\\"tempo\\\"].hist(bins=30, alpha=1, label=\\\"Running\\\", color=run_bar_color)\\n# plt.legend()\\nplt.grid(b=None)\\nplt.title(\\\"General Population & Running Songs\\\")\\nplt.xlabel(\\\"Tempo\\\")\\nplt.savefig(\\\"../imgs/run_gen_tempo\\\", transparent=True)\\nplt.show()\";\n",
       "                var nbb_cells = Jupyter.notebook.get_cells();\n",
       "                for (var i = 0; i < nbb_cells.length; ++i) {\n",
       "                    if (nbb_cells[i].input_prompt_number == nbb_cell_id) {\n",
       "                        if (nbb_cells[i].get_text() == nbb_unformatted_code) {\n",
       "                             nbb_cells[i].set_text(nbb_formatted_code);\n",
       "                        }\n",
       "                        break;\n",
       "                    }\n",
       "                }\n",
       "            }, 500);\n",
       "            "
      ],
      "text/plain": [
       "<IPython.core.display.Javascript object>"
      ]
     },
     "metadata": {},
     "output_type": "display_data"
    }
   ],
   "source": [
    "gen_filtered[\"tempo\"].hist(bins=30, alpha=0.7, label=\"GP\", color=gen_bar_color)\n",
    "run_filtered[\"tempo\"].hist(bins=30, alpha=1, label=\"Running\", color=run_bar_color)\n",
    "# plt.legend()\n",
    "plt.grid(b=None)\n",
    "plt.title(\"General Population & Running Songs\")\n",
    "plt.xlabel(\"Tempo\")\n",
    "plt.savefig(\"../imgs/run_gen_tempo\", transparent=True)\n",
    "plt.show()"
   ]
  },
  {
   "cell_type": "code",
   "execution_count": 51,
   "metadata": {
    "scrolled": false
   },
   "outputs": [
    {
     "data": {
      "image/png": "[encoded data removed]",
      "text/plain": [
       "<Figure size 432x288 with 1 Axes>"
      ]
     },
     "metadata": {
      "needs_background": "light"
     },
     "output_type": "display_data"
    },
    {
     "data": {
      "application/javascript": [
       "\n",
       "            setTimeout(function() {\n",
       "                var nbb_cell_id = 51;\n",
       "                var nbb_unformatted_code = \"gen_temp = pd.DataFrame(data=gen_filtered[\\\"tempo\\\"])\\ngen_temp = gen_temp.rename(columns={\\\"tempo\\\": \\\"gen\\\"})\\nrun_temp = pd.DataFrame(run_filtered[\\\"tempo\\\"])\\nrun_temp = run_temp.rename(columns={\\\"tempo\\\": \\\"run\\\"})\\n\\nbox_df_tempo = pd.concat([gen_temp, run_temp], axis=1)\\n\\nbp = sns.boxplot(data=box_df_tempo, palette=[gen_bar_color, run_bar_color])\\n# bp.set_xticklabels((\\\"GP\\\", \\\"Running\\\"))\\nbp.set_xticklabels([None])\\nplt.title(\\\"General Population & Running Songs\\\")\\nplt.ylabel(\\\"Tempo\\\")\\nplt.tight_layout()\\n\\nplt.savefig(\\\"../imgs/box_run_gen_tempo\\\", transparent=True)\\nplt.show()\";\n",
       "                var nbb_formatted_code = \"gen_temp = pd.DataFrame(data=gen_filtered[\\\"tempo\\\"])\\ngen_temp = gen_temp.rename(columns={\\\"tempo\\\": \\\"gen\\\"})\\nrun_temp = pd.DataFrame(run_filtered[\\\"tempo\\\"])\\nrun_temp = run_temp.rename(columns={\\\"tempo\\\": \\\"run\\\"})\\n\\nbox_df_tempo = pd.concat([gen_temp, run_temp], axis=1)\\n\\nbp = sns.boxplot(data=box_df_tempo, palette=[gen_bar_color, run_bar_color])\\n# bp.set_xticklabels((\\\"GP\\\", \\\"Running\\\"))\\nbp.set_xticklabels([None])\\nplt.title(\\\"General Population & Running Songs\\\")\\nplt.ylabel(\\\"Tempo\\\")\\nplt.tight_layout()\\n\\nplt.savefig(\\\"../imgs/box_run_gen_tempo\\\", transparent=True)\\nplt.show()\";\n",
       "                var nbb_cells = Jupyter.notebook.get_cells();\n",
       "                for (var i = 0; i < nbb_cells.length; ++i) {\n",
       "                    if (nbb_cells[i].input_prompt_number == nbb_cell_id) {\n",
       "                        if (nbb_cells[i].get_text() == nbb_unformatted_code) {\n",
       "                             nbb_cells[i].set_text(nbb_formatted_code);\n",
       "                        }\n",
       "                        break;\n",
       "                    }\n",
       "                }\n",
       "            }, 500);\n",
       "            "
      ],
      "text/plain": [
       "<IPython.core.display.Javascript object>"
      ]
     },
     "metadata": {},
     "output_type": "display_data"
    }
   ],
   "source": [
    "gen_temp = pd.DataFrame(data=gen_filtered[\"tempo\"])\n",
    "gen_temp = gen_temp.rename(columns={\"tempo\": \"gen\"})\n",
    "run_temp = pd.DataFrame(run_filtered[\"tempo\"])\n",
    "run_temp = run_temp.rename(columns={\"tempo\": \"run\"})\n",
    "\n",
    "box_df_tempo = pd.concat([gen_temp, run_temp], axis=1)\n",
    "\n",
    "bp = sns.boxplot(data=box_df_tempo, palette=[gen_bar_color, run_bar_color])\n",
    "# bp.set_xticklabels((\"GP\", \"Running\"))\n",
    "bp.set_xticklabels([None])\n",
    "plt.title(\"General Population & Running Songs\")\n",
    "plt.ylabel(\"Tempo\")\n",
    "plt.tight_layout()\n",
    "\n",
    "plt.savefig(\"../imgs/box_run_gen_tempo\", transparent=True)\n",
    "plt.show()"
   ]
  },
  {
   "cell_type": "code",
   "execution_count": 52,
   "metadata": {
    "scrolled": true
   },
   "outputs": [
    {
     "data": {
      "image/png": "[encoded data removed]",
      "text/plain": [
       "<Figure size 432x288 with 1 Axes>"
      ]
     },
     "metadata": {
      "needs_background": "light"
     },
     "output_type": "display_data"
    },
    {
     "data": {
      "application/javascript": [
       "\n",
       "            setTimeout(function() {\n",
       "                var nbb_cell_id = 52;\n",
       "                var nbb_unformatted_code = \"run_filtered[\\\"tempo\\\"].hist(bins=30, alpha=1, color=run_bar_color)\\n\\n# put lines at the mean and  IQR\\nline_col = \\\"#0f0f0f\\\"\\n\\nplt.axvline(x=run_filtered[\\\"tempo\\\"].mean(), color=line_col)\\nplt.axvline(x=run_filtered[\\\"tempo\\\"].describe()[\\\"25%\\\"], color=line_col)\\nplt.axvline(x=run_filtered[\\\"tempo\\\"].describe()[\\\"75%\\\"], color=line_col)\\n\\n# plt.legend()\\nplt.grid(b=None)\\nplt.title(\\\"Running Songs (IQR)\\\")\\nplt.xlabel('Tempo')\\nplt.tight_layout()\\nplt.savefig(\\\"../imgs/run_tempo_iqr_hist\\\", transparent=True)\\nplt.show()\";\n",
       "                var nbb_formatted_code = \"run_filtered[\\\"tempo\\\"].hist(bins=30, alpha=1, color=run_bar_color)\\n\\n# put lines at the mean and  IQR\\nline_col = \\\"#0f0f0f\\\"\\n\\nplt.axvline(x=run_filtered[\\\"tempo\\\"].mean(), color=line_col)\\nplt.axvline(x=run_filtered[\\\"tempo\\\"].describe()[\\\"25%\\\"], color=line_col)\\nplt.axvline(x=run_filtered[\\\"tempo\\\"].describe()[\\\"75%\\\"], color=line_col)\\n\\n# plt.legend()\\nplt.grid(b=None)\\nplt.title(\\\"Running Songs (IQR)\\\")\\nplt.xlabel(\\\"Tempo\\\")\\nplt.tight_layout()\\nplt.savefig(\\\"../imgs/run_tempo_iqr_hist\\\", transparent=True)\\nplt.show()\";\n",
       "                var nbb_cells = Jupyter.notebook.get_cells();\n",
       "                for (var i = 0; i < nbb_cells.length; ++i) {\n",
       "                    if (nbb_cells[i].input_prompt_number == nbb_cell_id) {\n",
       "                        if (nbb_cells[i].get_text() == nbb_unformatted_code) {\n",
       "                             nbb_cells[i].set_text(nbb_formatted_code);\n",
       "                        }\n",
       "                        break;\n",
       "                    }\n",
       "                }\n",
       "            }, 500);\n",
       "            "
      ],
      "text/plain": [
       "<IPython.core.display.Javascript object>"
      ]
     },
     "metadata": {},
     "output_type": "display_data"
    }
   ],
   "source": [
    "run_filtered[\"tempo\"].hist(bins=30, alpha=1, color=run_bar_color)\n",
    "\n",
    "# put lines at the mean and  IQR\n",
    "line_col = \"#0f0f0f\"\n",
    "\n",
    "plt.axvline(x=run_filtered[\"tempo\"].mean(), color=line_col)\n",
    "plt.axvline(x=run_filtered[\"tempo\"].describe()[\"25%\"], color=line_col)\n",
    "plt.axvline(x=run_filtered[\"tempo\"].describe()[\"75%\"], color=line_col)\n",
    "\n",
    "# plt.legend()\n",
    "plt.grid(b=None)\n",
    "plt.title(\"Running Songs (IQR)\")\n",
    "plt.xlabel(\"Tempo\")\n",
    "plt.tight_layout()\n",
    "plt.savefig(\"../imgs/run_tempo_iqr_hist\", transparent=True)\n",
    "plt.show()"
   ]
  },
  {
   "cell_type": "code",
   "execution_count": 53,
   "metadata": {},
   "outputs": [
    {
     "data": {
      "image/png": "[encoded data removed]",
      "text/plain": [
       "<Figure size 432x288 with 1 Axes>"
      ]
     },
     "metadata": {
      "needs_background": "light"
     },
     "output_type": "display_data"
    },
    {
     "data": {
      "application/javascript": [
       "\n",
       "            setTimeout(function() {\n",
       "                var nbb_cell_id = 53;\n",
       "                var nbb_unformatted_code = \"gen[\\\"energy\\\"].hist(bins=30, alpha=1, color=gen_bar_color)\\nrunning[\\\"energy\\\"].hist(bins=30, alpha=0.0, color=run_bar_color)\\nplt.grid(b=None)\\nplt.title(\\\"General Population (sampled)\\\")\\nplt.xlabel(\\\"Energy\\\")\\nplt.savefig(\\\"../imgs/gen_energy\\\", transparent=True)\\nplt.show()\";\n",
       "                var nbb_formatted_code = \"gen[\\\"energy\\\"].hist(bins=30, alpha=1, color=gen_bar_color)\\nrunning[\\\"energy\\\"].hist(bins=30, alpha=0.0, color=run_bar_color)\\nplt.grid(b=None)\\nplt.title(\\\"General Population (sampled)\\\")\\nplt.xlabel(\\\"Energy\\\")\\nplt.savefig(\\\"../imgs/gen_energy\\\", transparent=True)\\nplt.show()\";\n",
       "                var nbb_cells = Jupyter.notebook.get_cells();\n",
       "                for (var i = 0; i < nbb_cells.length; ++i) {\n",
       "                    if (nbb_cells[i].input_prompt_number == nbb_cell_id) {\n",
       "                        if (nbb_cells[i].get_text() == nbb_unformatted_code) {\n",
       "                             nbb_cells[i].set_text(nbb_formatted_code);\n",
       "                        }\n",
       "                        break;\n",
       "                    }\n",
       "                }\n",
       "            }, 500);\n",
       "            "
      ],
      "text/plain": [
       "<IPython.core.display.Javascript object>"
      ]
     },
     "metadata": {},
     "output_type": "display_data"
    }
   ],
   "source": [
    "gen[\"energy\"].hist(bins=30, alpha=1, color=gen_bar_color)\n",
    "running[\"energy\"].hist(bins=30, alpha=0.0, color=run_bar_color)\n",
    "plt.grid(b=None)\n",
    "plt.title(\"General Population (sampled)\")\n",
    "plt.xlabel(\"Energy\")\n",
    "plt.savefig(\"../imgs/gen_energy\", transparent=True)\n",
    "plt.show()"
   ]
  },
  {
   "cell_type": "code",
   "execution_count": 57,
   "metadata": {},
   "outputs": [
    {
     "data": {
      "image/png": "[encoded data removed]",
      "text/plain": [
       "<Figure size 432x288 with 1 Axes>"
      ]
     },
     "metadata": {
      "needs_background": "light"
     },
     "output_type": "display_data"
    },
    {
     "data": {
      "application/javascript": [
       "\n",
       "            setTimeout(function() {\n",
       "                var nbb_cell_id = 57;\n",
       "                var nbb_unformatted_code = \"gen[\\\"energy\\\"].hist(bins=30, alpha=0.6, color=gen_bar_color)\\nrunning[\\\"energy\\\"].hist(bins=30, alpha=0.9, color=run_bar_color)\\n\\n\\nplt.grid(b=None)\\nplt.title(\\\"General Population & Running Songs\\\")\\nplt.xlabel(\\\"Energy\\\")\\nplt.savefig(\\\"../imgs/gen_run_energy\\\", transparent=True)\\nplt.show()\";\n",
       "                var nbb_formatted_code = \"gen[\\\"energy\\\"].hist(bins=30, alpha=0.6, color=gen_bar_color)\\nrunning[\\\"energy\\\"].hist(bins=30, alpha=0.9, color=run_bar_color)\\n\\n\\nplt.grid(b=None)\\nplt.title(\\\"General Population & Running Songs\\\")\\nplt.xlabel(\\\"Energy\\\")\\nplt.savefig(\\\"../imgs/gen_run_energy\\\", transparent=True)\\nplt.show()\";\n",
       "                var nbb_cells = Jupyter.notebook.get_cells();\n",
       "                for (var i = 0; i < nbb_cells.length; ++i) {\n",
       "                    if (nbb_cells[i].input_prompt_number == nbb_cell_id) {\n",
       "                        if (nbb_cells[i].get_text() == nbb_unformatted_code) {\n",
       "                             nbb_cells[i].set_text(nbb_formatted_code);\n",
       "                        }\n",
       "                        break;\n",
       "                    }\n",
       "                }\n",
       "            }, 500);\n",
       "            "
      ],
      "text/plain": [
       "<IPython.core.display.Javascript object>"
      ]
     },
     "metadata": {},
     "output_type": "display_data"
    }
   ],
   "source": [
    "gen[\"energy\"].hist(bins=30, alpha=0.6, color=gen_bar_color)\n",
    "running[\"energy\"].hist(bins=30, alpha=0.9, color=run_bar_color)\n",
    "\n",
    "\n",
    "plt.grid(b=None)\n",
    "plt.title(\"General Population & Running Songs\")\n",
    "plt.xlabel(\"Energy\")\n",
    "plt.savefig(\"../imgs/gen_run_energy\", transparent=True)\n",
    "plt.show()"
   ]
  },
  {
   "cell_type": "code",
   "execution_count": 58,
   "metadata": {},
   "outputs": [
    {
     "data": {
      "image/png": "[encoded data removed]",
      "text/plain": [
       "<Figure size 432x288 with 1 Axes>"
      ]
     },
     "metadata": {
      "needs_background": "light"
     },
     "output_type": "display_data"
    },
    {
     "data": {
      "application/javascript": [
       "\n",
       "            setTimeout(function() {\n",
       "                var nbb_cell_id = 58;\n",
       "                var nbb_unformatted_code = \"gen[\\\"acousticness\\\"].hist(bins=30, alpha=1, color=gen_bar_color, label=\\\"GP\\\")\\nrunning[\\\"acousticness\\\"].hist(bins=30, alpha=0, color=run_bar_color, label=\\\"Running\\\")\\nplt.grid(b=None)\\nplt.title(\\\"General Population (sampled)\\\")\\nplt.xlabel(\\\"Acousticness (confidence)\\\")\\nplt.savefig(\\\"../imgs/gen_acoustic\\\", transparent=True)\\n\\nplt.show()\";\n",
       "                var nbb_formatted_code = \"gen[\\\"acousticness\\\"].hist(bins=30, alpha=1, color=gen_bar_color, label=\\\"GP\\\")\\nrunning[\\\"acousticness\\\"].hist(bins=30, alpha=0, color=run_bar_color, label=\\\"Running\\\")\\nplt.grid(b=None)\\nplt.title(\\\"General Population (sampled)\\\")\\nplt.xlabel(\\\"Acousticness (confidence)\\\")\\nplt.savefig(\\\"../imgs/gen_acoustic\\\", transparent=True)\\n\\nplt.show()\";\n",
       "                var nbb_cells = Jupyter.notebook.get_cells();\n",
       "                for (var i = 0; i < nbb_cells.length; ++i) {\n",
       "                    if (nbb_cells[i].input_prompt_number == nbb_cell_id) {\n",
       "                        if (nbb_cells[i].get_text() == nbb_unformatted_code) {\n",
       "                             nbb_cells[i].set_text(nbb_formatted_code);\n",
       "                        }\n",
       "                        break;\n",
       "                    }\n",
       "                }\n",
       "            }, 500);\n",
       "            "
      ],
      "text/plain": [
       "<IPython.core.display.Javascript object>"
      ]
     },
     "metadata": {},
     "output_type": "display_data"
    }
   ],
   "source": [
    "gen[\"acousticness\"].hist(bins=30, alpha=1, color=gen_bar_color, label=\"GP\")\n",
    "running[\"acousticness\"].hist(bins=30, alpha=0, color=run_bar_color, label=\"Running\")\n",
    "plt.grid(b=None)\n",
    "plt.title(\"General Population (sampled)\")\n",
    "plt.xlabel(\"Acousticness (confidence)\")\n",
    "plt.savefig(\"../imgs/gen_acoustic\", transparent=True)\n",
    "\n",
    "plt.show()"
   ]
  },
  {
   "cell_type": "code",
   "execution_count": 59,
   "metadata": {
    "scrolled": false
   },
   "outputs": [
    {
     "data": {
      "image/png": "[encoded data removed]",
      "text/plain": [
       "<Figure size 432x288 with 1 Axes>"
      ]
     },
     "metadata": {
      "needs_background": "light"
     },
     "output_type": "display_data"
    },
    {
     "data": {
      "application/javascript": [
       "\n",
       "            setTimeout(function() {\n",
       "                var nbb_cell_id = 59;\n",
       "                var nbb_unformatted_code = \"gen[\\\"acousticness\\\"].hist(bins=30, alpha=0.7, color=gen_bar_color, label=\\\"GP\\\")\\nrunning[\\\"acousticness\\\"].hist(bins=30, alpha=0.9, color=run_bar_color, label=\\\"Running\\\")\\nplt.grid(b=None)\\nplt.title(\\\"General Population & Running Songs\\\")\\nplt.xlabel(\\\"Acousticness (confidence)\\\")\\nplt.savefig(\\\"../imgs/gen_run_acoustic\\\", transparent=True)\\n\\nplt.show()\";\n",
       "                var nbb_formatted_code = \"gen[\\\"acousticness\\\"].hist(bins=30, alpha=0.7, color=gen_bar_color, label=\\\"GP\\\")\\nrunning[\\\"acousticness\\\"].hist(bins=30, alpha=0.9, color=run_bar_color, label=\\\"Running\\\")\\nplt.grid(b=None)\\nplt.title(\\\"General Population & Running Songs\\\")\\nplt.xlabel(\\\"Acousticness (confidence)\\\")\\nplt.savefig(\\\"../imgs/gen_run_acoustic\\\", transparent=True)\\n\\nplt.show()\";\n",
       "                var nbb_cells = Jupyter.notebook.get_cells();\n",
       "                for (var i = 0; i < nbb_cells.length; ++i) {\n",
       "                    if (nbb_cells[i].input_prompt_number == nbb_cell_id) {\n",
       "                        if (nbb_cells[i].get_text() == nbb_unformatted_code) {\n",
       "                             nbb_cells[i].set_text(nbb_formatted_code);\n",
       "                        }\n",
       "                        break;\n",
       "                    }\n",
       "                }\n",
       "            }, 500);\n",
       "            "
      ],
      "text/plain": [
       "<IPython.core.display.Javascript object>"
      ]
     },
     "metadata": {},
     "output_type": "display_data"
    }
   ],
   "source": [
    "gen[\"acousticness\"].hist(bins=30, alpha=0.7, color=gen_bar_color, label=\"GP\")\n",
    "running[\"acousticness\"].hist(bins=30, alpha=0.9, color=run_bar_color, label=\"Running\")\n",
    "plt.grid(b=None)\n",
    "plt.title(\"General Population & Running Songs\")\n",
    "plt.xlabel(\"Acousticness (confidence)\")\n",
    "plt.savefig(\"../imgs/gen_run_acoustic\", transparent=True)\n",
    "\n",
    "plt.show()"
   ]
  },
  {
   "cell_type": "code",
   "execution_count": 70,
   "metadata": {
    "scrolled": false
   },
   "outputs": [
    {
     "data": {
      "image/png": "[encoded data removed]",
      "text/plain": [
       "<Figure size 432x288 with 1 Axes>"
      ]
     },
     "metadata": {
      "needs_background": "light"
     },
     "output_type": "display_data"
    },
    {
     "data": {
      "application/javascript": [
       "\n",
       "            setTimeout(function() {\n",
       "                var nbb_cell_id = 70;\n",
       "                var nbb_unformatted_code = \"gen[\\\"valence\\\"].hist(bins=30, alpha=1, color=gen_bar_color, label=\\\"GP\\\")\\nrunning[\\\"valence\\\"].hist(bins=30, alpha=0, color=run_bar_color, label=\\\"Running\\\")\\nplt.grid(b=None)\\nplt.title(\\\"General Population (sampled)\\\")\\nplt.xlabel(\\\"Valence (mood)\\\")\\nplt.savefig(\\\"../imgs/gen_val\\\", transparent=True)\\n\\nplt.show()\";\n",
       "                var nbb_formatted_code = \"gen[\\\"valence\\\"].hist(bins=30, alpha=1, color=gen_bar_color, label=\\\"GP\\\")\\nrunning[\\\"valence\\\"].hist(bins=30, alpha=0, color=run_bar_color, label=\\\"Running\\\")\\nplt.grid(b=None)\\nplt.title(\\\"General Population (sampled)\\\")\\nplt.xlabel(\\\"Valence (mood)\\\")\\nplt.savefig(\\\"../imgs/gen_val\\\", transparent=True)\\n\\nplt.show()\";\n",
       "                var nbb_cells = Jupyter.notebook.get_cells();\n",
       "                for (var i = 0; i < nbb_cells.length; ++i) {\n",
       "                    if (nbb_cells[i].input_prompt_number == nbb_cell_id) {\n",
       "                        if (nbb_cells[i].get_text() == nbb_unformatted_code) {\n",
       "                             nbb_cells[i].set_text(nbb_formatted_code);\n",
       "                        }\n",
       "                        break;\n",
       "                    }\n",
       "                }\n",
       "            }, 500);\n",
       "            "
      ],
      "text/plain": [
       "<IPython.core.display.Javascript object>"
      ]
     },
     "metadata": {},
     "output_type": "display_data"
    }
   ],
   "source": [
    "gen[\"valence\"].hist(bins=30, alpha=1, color=gen_bar_color, label=\"GP\")\n",
    "running[\"valence\"].hist(bins=30, alpha=0, color=run_bar_color, label=\"Running\")\n",
    "plt.grid(b=None)\n",
    "plt.title(\"General Population (sampled)\")\n",
    "plt.xlabel(\"Valence (mood)\")\n",
    "plt.savefig(\"../imgs/gen_val\", transparent=True)\n",
    "\n",
    "plt.show()"
   ]
  },
  {
   "cell_type": "code",
   "execution_count": 71,
   "metadata": {
    "scrolled": true
   },
   "outputs": [
    {
     "data": {
      "image/png": "[encoded data removed]",
      "text/plain": [
       "<Figure size 432x288 with 1 Axes>"
      ]
     },
     "metadata": {
      "needs_background": "light"
     },
     "output_type": "display_data"
    },
    {
     "data": {
      "application/javascript": [
       "\n",
       "            setTimeout(function() {\n",
       "                var nbb_cell_id = 71;\n",
       "                var nbb_unformatted_code = \"gen[\\\"valence\\\"].hist(bins=30, alpha=0.6, color=gen_bar_color, label=\\\"GP\\\")\\nrunning[\\\"valence\\\"].hist(bins=30, alpha=0.9, color=run_bar_color, label=\\\"Running\\\")\\nplt.grid(b=None)\\nplt.title(\\\"General Population & Running Songs\\\")\\nplt.xlabel(\\\"Valence (mood)\\\")\\nplt.savefig(\\\"../imgs/gen_run_val\\\", transparent=True)\\n\\nplt.show()\";\n",
       "                var nbb_formatted_code = \"gen[\\\"valence\\\"].hist(bins=30, alpha=0.6, color=gen_bar_color, label=\\\"GP\\\")\\nrunning[\\\"valence\\\"].hist(bins=30, alpha=0.9, color=run_bar_color, label=\\\"Running\\\")\\nplt.grid(b=None)\\nplt.title(\\\"General Population & Running Songs\\\")\\nplt.xlabel(\\\"Valence (mood)\\\")\\nplt.savefig(\\\"../imgs/gen_run_val\\\", transparent=True)\\n\\nplt.show()\";\n",
       "                var nbb_cells = Jupyter.notebook.get_cells();\n",
       "                for (var i = 0; i < nbb_cells.length; ++i) {\n",
       "                    if (nbb_cells[i].input_prompt_number == nbb_cell_id) {\n",
       "                        if (nbb_cells[i].get_text() == nbb_unformatted_code) {\n",
       "                             nbb_cells[i].set_text(nbb_formatted_code);\n",
       "                        }\n",
       "                        break;\n",
       "                    }\n",
       "                }\n",
       "            }, 500);\n",
       "            "
      ],
      "text/plain": [
       "<IPython.core.display.Javascript object>"
      ]
     },
     "metadata": {},
     "output_type": "display_data"
    }
   ],
   "source": [
    "gen[\"valence\"].hist(bins=30, alpha=0.6, color=gen_bar_color, label=\"GP\")\n",
    "running[\"valence\"].hist(bins=30, alpha=0.9, color=run_bar_color, label=\"Running\")\n",
    "plt.grid(b=None)\n",
    "plt.title(\"General Population & Running Songs\")\n",
    "plt.xlabel(\"Valence (mood)\")\n",
    "plt.savefig(\"../imgs/gen_run_val\", transparent=True)\n",
    "\n",
    "plt.show()"
   ]
  },
  {
   "cell_type": "code",
   "execution_count": 76,
   "metadata": {},
   "outputs": [
    {
     "data": {
      "application/javascript": [
       "\n",
       "            setTimeout(function() {\n",
       "                var nbb_cell_id = 76;\n",
       "                var nbb_unformatted_code = \"stud_filtered = study[study[\\\"tempo\\\"] != 0]\";\n",
       "                var nbb_formatted_code = \"stud_filtered = study[study[\\\"tempo\\\"] != 0]\";\n",
       "                var nbb_cells = Jupyter.notebook.get_cells();\n",
       "                for (var i = 0; i < nbb_cells.length; ++i) {\n",
       "                    if (nbb_cells[i].input_prompt_number == nbb_cell_id) {\n",
       "                        if (nbb_cells[i].get_text() == nbb_unformatted_code) {\n",
       "                             nbb_cells[i].set_text(nbb_formatted_code);\n",
       "                        }\n",
       "                        break;\n",
       "                    }\n",
       "                }\n",
       "            }, 500);\n",
       "            "
      ],
      "text/plain": [
       "<IPython.core.display.Javascript object>"
      ]
     },
     "metadata": {},
     "output_type": "display_data"
    }
   ],
   "source": [
    "stud_filtered = study[study[\"tempo\"] != 0]"
   ]
  },
  {
   "cell_type": "code",
   "execution_count": 79,
   "metadata": {
    "scrolled": true
   },
   "outputs": [
    {
     "data": {
      "image/png": "[encoded data removed]",
      "text/plain": [
       "<Figure size 432x288 with 1 Axes>"
      ]
     },
     "metadata": {
      "needs_background": "light"
     },
     "output_type": "display_data"
    },
    {
     "data": {
      "application/javascript": [
       "\n",
       "            setTimeout(function() {\n",
       "                var nbb_cell_id = 79;\n",
       "                var nbb_unformatted_code = \"gen_filtered[\\\"tempo\\\"].hist(bins=30, alpha=0.7, color=gen_bar_color)\\nstud_filtered[\\\"tempo\\\"].hist(bins=30, alpha=0.85, color=stud_bar_color)\\n# plt.legend()\\nplt.grid(b=None)\\nplt.title(\\\"General Population & Study Songs\\\")\\nplt.xlabel(\\\"Tempo\\\")\\nplt.savefig(\\\"../imgs/stud_gen_tempo\\\", transparent=True)\\nplt.show()\";\n",
       "                var nbb_formatted_code = \"gen_filtered[\\\"tempo\\\"].hist(bins=30, alpha=0.7, color=gen_bar_color)\\nstud_filtered[\\\"tempo\\\"].hist(bins=30, alpha=0.85, color=stud_bar_color)\\n# plt.legend()\\nplt.grid(b=None)\\nplt.title(\\\"General Population & Study Songs\\\")\\nplt.xlabel(\\\"Tempo\\\")\\nplt.savefig(\\\"../imgs/stud_gen_tempo\\\", transparent=True)\\nplt.show()\";\n",
       "                var nbb_cells = Jupyter.notebook.get_cells();\n",
       "                for (var i = 0; i < nbb_cells.length; ++i) {\n",
       "                    if (nbb_cells[i].input_prompt_number == nbb_cell_id) {\n",
       "                        if (nbb_cells[i].get_text() == nbb_unformatted_code) {\n",
       "                             nbb_cells[i].set_text(nbb_formatted_code);\n",
       "                        }\n",
       "                        break;\n",
       "                    }\n",
       "                }\n",
       "            }, 500);\n",
       "            "
      ],
      "text/plain": [
       "<IPython.core.display.Javascript object>"
      ]
     },
     "metadata": {},
     "output_type": "display_data"
    }
   ],
   "source": [
    "gen_filtered[\"tempo\"].hist(bins=30, alpha=0.7, color=gen_bar_color)\n",
    "stud_filtered[\"tempo\"].hist(bins=30, alpha=0.85, color=stud_bar_color)\n",
    "# plt.legend()\n",
    "plt.grid(b=None)\n",
    "plt.title(\"General Population & Study Songs\")\n",
    "plt.xlabel(\"Tempo\")\n",
    "plt.savefig(\"../imgs/stud_gen_tempo\", transparent=True)\n",
    "plt.show()"
   ]
  },
  {
   "cell_type": "code",
   "execution_count": 82,
   "metadata": {
    "scrolled": true
   },
   "outputs": [
    {
     "data": {
      "image/png": "[encoded data removed]",
      "text/plain": [
       "<Figure size 432x288 with 1 Axes>"
      ]
     },
     "metadata": {
      "needs_background": "light"
     },
     "output_type": "display_data"
    },
    {
     "data": {
      "application/javascript": [
       "\n",
       "            setTimeout(function() {\n",
       "                var nbb_cell_id = 82;\n",
       "                var nbb_unformatted_code = \"stud_filtered[\\\"tempo\\\"].hist(bins=30, alpha=1, color=stud_bar_color)\\n\\n# put lines at the mean and  IQR\\nline_col = \\\"#0f0f0f\\\"\\n\\nplt.axvline(x=stud_filtered[\\\"tempo\\\"].mean(), color=line_col)\\nplt.axvline(x=stud_filtered[\\\"tempo\\\"].describe()[\\\"25%\\\"], color=line_col)\\nplt.axvline(x=stud_filtered[\\\"tempo\\\"].describe()[\\\"75%\\\"], color=line_col)\\n\\n# plt.legend()\\nplt.grid(b=None)\\nplt.title(\\\"Study Songs (IQR)\\\")\\nplt.xlabel(\\\"Tempo\\\")\\nplt.tight_layout()\\nplt.savefig(\\\"../imgs/stud_tempo_iqr_hist\\\", transparent=True)\\nplt.show()\";\n",
       "                var nbb_formatted_code = \"stud_filtered[\\\"tempo\\\"].hist(bins=30, alpha=1, color=stud_bar_color)\\n\\n# put lines at the mean and  IQR\\nline_col = \\\"#0f0f0f\\\"\\n\\nplt.axvline(x=stud_filtered[\\\"tempo\\\"].mean(), color=line_col)\\nplt.axvline(x=stud_filtered[\\\"tempo\\\"].describe()[\\\"25%\\\"], color=line_col)\\nplt.axvline(x=stud_filtered[\\\"tempo\\\"].describe()[\\\"75%\\\"], color=line_col)\\n\\n# plt.legend()\\nplt.grid(b=None)\\nplt.title(\\\"Study Songs (IQR)\\\")\\nplt.xlabel(\\\"Tempo\\\")\\nplt.tight_layout()\\nplt.savefig(\\\"../imgs/stud_tempo_iqr_hist\\\", transparent=True)\\nplt.show()\";\n",
       "                var nbb_cells = Jupyter.notebook.get_cells();\n",
       "                for (var i = 0; i < nbb_cells.length; ++i) {\n",
       "                    if (nbb_cells[i].input_prompt_number == nbb_cell_id) {\n",
       "                        if (nbb_cells[i].get_text() == nbb_unformatted_code) {\n",
       "                             nbb_cells[i].set_text(nbb_formatted_code);\n",
       "                        }\n",
       "                        break;\n",
       "                    }\n",
       "                }\n",
       "            }, 500);\n",
       "            "
      ],
      "text/plain": [
       "<IPython.core.display.Javascript object>"
      ]
     },
     "metadata": {},
     "output_type": "display_data"
    }
   ],
   "source": [
    "stud_filtered[\"tempo\"].hist(bins=30, alpha=1, color=stud_bar_color)\n",
    "\n",
    "# put lines at the mean and  IQR\n",
    "line_col = \"#0f0f0f\"\n",
    "\n",
    "plt.axvline(x=stud_filtered[\"tempo\"].mean(), color=line_col)\n",
    "plt.axvline(x=stud_filtered[\"tempo\"].describe()[\"25%\"], color=line_col)\n",
    "plt.axvline(x=stud_filtered[\"tempo\"].describe()[\"75%\"], color=line_col)\n",
    "\n",
    "# plt.legend()\n",
    "plt.grid(b=None)\n",
    "plt.title(\"Study Songs (IQR)\")\n",
    "plt.xlabel(\"Tempo\")\n",
    "plt.tight_layout()\n",
    "plt.savefig(\"../imgs/stud_tempo_iqr_hist\", transparent=True)\n",
    "plt.show()"
   ]
  },
  {
   "cell_type": "code",
   "execution_count": 83,
   "metadata": {
    "scrolled": true
   },
   "outputs": [
    {
     "data": {
      "image/png": "[encoded data removed]",
      "text/plain": [
       "<Figure size 432x288 with 1 Axes>"
      ]
     },
     "metadata": {
      "needs_background": "light"
     },
     "output_type": "display_data"
    },
    {
     "data": {
      "application/javascript": [
       "\n",
       "            setTimeout(function() {\n",
       "                var nbb_cell_id = 83;\n",
       "                var nbb_unformatted_code = \"gen[\\\"energy\\\"].hist(bins=30, alpha=0.6, color=gen_bar_color)\\nstudy[\\\"energy\\\"].hist(bins=30, alpha=0.9, color=stud_bar_color)\\n\\n\\nplt.grid(b=None)\\nplt.title(\\\"General Population & Study Songs\\\")\\nplt.xlabel(\\\"Energy\\\")\\nplt.savefig(\\\"../imgs/gen_srud_energy\\\", transparent=True)\\nplt.show()\";\n",
       "                var nbb_formatted_code = \"gen[\\\"energy\\\"].hist(bins=30, alpha=0.6, color=gen_bar_color)\\nstudy[\\\"energy\\\"].hist(bins=30, alpha=0.9, color=stud_bar_color)\\n\\n\\nplt.grid(b=None)\\nplt.title(\\\"General Population & Study Songs\\\")\\nplt.xlabel(\\\"Energy\\\")\\nplt.savefig(\\\"../imgs/gen_srud_energy\\\", transparent=True)\\nplt.show()\";\n",
       "                var nbb_cells = Jupyter.notebook.get_cells();\n",
       "                for (var i = 0; i < nbb_cells.length; ++i) {\n",
       "                    if (nbb_cells[i].input_prompt_number == nbb_cell_id) {\n",
       "                        if (nbb_cells[i].get_text() == nbb_unformatted_code) {\n",
       "                             nbb_cells[i].set_text(nbb_formatted_code);\n",
       "                        }\n",
       "                        break;\n",
       "                    }\n",
       "                }\n",
       "            }, 500);\n",
       "            "
      ],
      "text/plain": [
       "<IPython.core.display.Javascript object>"
      ]
     },
     "metadata": {},
     "output_type": "display_data"
    }
   ],
   "source": [
    "gen[\"energy\"].hist(bins=30, alpha=0.6, color=gen_bar_color)\n",
    "study[\"energy\"].hist(bins=30, alpha=0.9, color=stud_bar_color)\n",
    "\n",
    "\n",
    "plt.grid(b=None)\n",
    "plt.title(\"General Population & Study Songs\")\n",
    "plt.xlabel(\"Energy\")\n",
    "plt.savefig(\"../imgs/gen_srud_energy\", transparent=True)\n",
    "plt.show()"
   ]
  },
  {
   "cell_type": "code",
   "execution_count": 84,
   "metadata": {
    "scrolled": false
   },
   "outputs": [
    {
     "data": {
      "image/png": "[encoded data removed]",
      "text/plain": [
       "<Figure size 432x288 with 1 Axes>"
      ]
     },
     "metadata": {
      "needs_background": "light"
     },
     "output_type": "display_data"
    },
    {
     "data": {
      "application/javascript": [
       "\n",
       "            setTimeout(function() {\n",
       "                var nbb_cell_id = 84;\n",
       "                var nbb_unformatted_code = \"gen[\\\"acousticness\\\"].hist(bins=30, alpha=0.6, color=gen_bar_color)\\nstudy[\\\"acousticness\\\"].hist(bins=30, alpha=0.9, color=stud_bar_color)\\n\\n\\nplt.grid(b=None)\\nplt.title(\\\"General Population & Study Songs\\\")\\nplt.xlabel(\\\"Acousticness (confidence level)\\\")\\nplt.savefig(\\\"../imgs/gen_srud_aco\\\", transparent=True)\\nplt.show()\";\n",
       "                var nbb_formatted_code = \"gen[\\\"acousticness\\\"].hist(bins=30, alpha=0.6, color=gen_bar_color)\\nstudy[\\\"acousticness\\\"].hist(bins=30, alpha=0.9, color=stud_bar_color)\\n\\n\\nplt.grid(b=None)\\nplt.title(\\\"General Population & Study Songs\\\")\\nplt.xlabel(\\\"Acousticness (confidence level)\\\")\\nplt.savefig(\\\"../imgs/gen_srud_aco\\\", transparent=True)\\nplt.show()\";\n",
       "                var nbb_cells = Jupyter.notebook.get_cells();\n",
       "                for (var i = 0; i < nbb_cells.length; ++i) {\n",
       "                    if (nbb_cells[i].input_prompt_number == nbb_cell_id) {\n",
       "                        if (nbb_cells[i].get_text() == nbb_unformatted_code) {\n",
       "                             nbb_cells[i].set_text(nbb_formatted_code);\n",
       "                        }\n",
       "                        break;\n",
       "                    }\n",
       "                }\n",
       "            }, 500);\n",
       "            "
      ],
      "text/plain": [
       "<IPython.core.display.Javascript object>"
      ]
     },
     "metadata": {},
     "output_type": "display_data"
    }
   ],
   "source": [
    "gen[\"acousticness\"].hist(bins=30, alpha=0.6, color=gen_bar_color)\n",
    "study[\"acousticness\"].hist(bins=30, alpha=0.9, color=stud_bar_color)\n",
    "\n",
    "\n",
    "plt.grid(b=None)\n",
    "plt.title(\"General Population & Study Songs\")\n",
    "plt.xlabel(\"Acousticness (confidence level)\")\n",
    "plt.savefig(\"../imgs/gen_srud_aco\", transparent=True)\n",
    "plt.show()"
   ]
  },
  {
   "cell_type": "code",
   "execution_count": 85,
   "metadata": {
    "scrolled": true
   },
   "outputs": [
    {
     "data": {
      "image/png": "[encoded data removed]",
      "text/plain": [
       "<Figure size 432x288 with 1 Axes>"
      ]
     },
     "metadata": {
      "needs_background": "light"
     },
     "output_type": "display_data"
    },
    {
     "data": {
      "application/javascript": [
       "\n",
       "            setTimeout(function() {\n",
       "                var nbb_cell_id = 85;\n",
       "                var nbb_unformatted_code = \"gen[\\\"valence\\\"].hist(bins=30, alpha=0.6, color=gen_bar_color)\\nstudy[\\\"valence\\\"].hist(bins=30, alpha=0.9, color=stud_bar_color)\\n\\n\\nplt.grid(b=None)\\nplt.title(\\\"General Population & Study Songs\\\")\\nplt.xlabel(\\\"Valence (mood)\\\")\\nplt.savefig(\\\"../imgs/gen_srud_val\\\", transparent=True)\\nplt.show()\";\n",
       "                var nbb_formatted_code = \"gen[\\\"valence\\\"].hist(bins=30, alpha=0.6, color=gen_bar_color)\\nstudy[\\\"valence\\\"].hist(bins=30, alpha=0.9, color=stud_bar_color)\\n\\n\\nplt.grid(b=None)\\nplt.title(\\\"General Population & Study Songs\\\")\\nplt.xlabel(\\\"Valence (mood)\\\")\\nplt.savefig(\\\"../imgs/gen_srud_val\\\", transparent=True)\\nplt.show()\";\n",
       "                var nbb_cells = Jupyter.notebook.get_cells();\n",
       "                for (var i = 0; i < nbb_cells.length; ++i) {\n",
       "                    if (nbb_cells[i].input_prompt_number == nbb_cell_id) {\n",
       "                        if (nbb_cells[i].get_text() == nbb_unformatted_code) {\n",
       "                             nbb_cells[i].set_text(nbb_formatted_code);\n",
       "                        }\n",
       "                        break;\n",
       "                    }\n",
       "                }\n",
       "            }, 500);\n",
       "            "
      ],
      "text/plain": [
       "<IPython.core.display.Javascript object>"
      ]
     },
     "metadata": {},
     "output_type": "display_data"
    }
   ],
   "source": [
    "gen[\"valence\"].hist(bins=30, alpha=0.6, color=gen_bar_color)\n",
    "study[\"valence\"].hist(bins=30, alpha=0.9, color=stud_bar_color)\n",
    "\n",
    "\n",
    "plt.grid(b=None)\n",
    "plt.title(\"General Population & Study Songs\")\n",
    "plt.xlabel(\"Valence (mood)\")\n",
    "plt.savefig(\"../imgs/gen_srud_val\", transparent=True)\n",
    "plt.show()"
   ]
  },
  {
   "cell_type": "code",
   "execution_count": 86,
   "metadata": {},
   "outputs": [
    {
     "data": {
      "image/png": "[encoded data removed]",
      "text/plain": [
       "<Figure size 432x288 with 1 Axes>"
      ]
     },
     "metadata": {
      "needs_background": "light"
     },
     "output_type": "display_data"
    },
    {
     "data": {
      "application/javascript": [
       "\n",
       "            setTimeout(function() {\n",
       "                var nbb_cell_id = 86;\n",
       "                var nbb_unformatted_code = \"gen[\\\"instrumentalness\\\"].hist(bins=30, alpha=1, color=gen_bar_color)\\nstudy[\\\"instrumentalness\\\"].hist(bins=30, alpha=0, color=stud_bar_color)\\n\\n\\nplt.grid(b=None)\\nplt.title(\\\"General Population\\\")\\nplt.xlabel(\\\"Instrumentalness\\\")\\nplt.savefig(\\\"../imgs/gen_inst\\\", transparent=True)\\nplt.show()\";\n",
       "                var nbb_formatted_code = \"gen[\\\"instrumentalness\\\"].hist(bins=30, alpha=1, color=gen_bar_color)\\nstudy[\\\"instrumentalness\\\"].hist(bins=30, alpha=0, color=stud_bar_color)\\n\\n\\nplt.grid(b=None)\\nplt.title(\\\"General Population\\\")\\nplt.xlabel(\\\"Instrumentalness\\\")\\nplt.savefig(\\\"../imgs/gen_inst\\\", transparent=True)\\nplt.show()\";\n",
       "                var nbb_cells = Jupyter.notebook.get_cells();\n",
       "                for (var i = 0; i < nbb_cells.length; ++i) {\n",
       "                    if (nbb_cells[i].input_prompt_number == nbb_cell_id) {\n",
       "                        if (nbb_cells[i].get_text() == nbb_unformatted_code) {\n",
       "                             nbb_cells[i].set_text(nbb_formatted_code);\n",
       "                        }\n",
       "                        break;\n",
       "                    }\n",
       "                }\n",
       "            }, 500);\n",
       "            "
      ],
      "text/plain": [
       "<IPython.core.display.Javascript object>"
      ]
     },
     "metadata": {},
     "output_type": "display_data"
    }
   ],
   "source": [
    "gen[\"instrumentalness\"].hist(bins=30, alpha=1, color=gen_bar_color)\n",
    "study[\"instrumentalness\"].hist(bins=30, alpha=0, color=stud_bar_color)\n",
    "\n",
    "\n",
    "plt.grid(b=None)\n",
    "plt.title(\"General Population\")\n",
    "plt.xlabel(\"Instrumentalness\")\n",
    "plt.savefig(\"../imgs/gen_inst\", transparent=True)\n",
    "plt.show()"
   ]
  },
  {
   "cell_type": "code",
   "execution_count": 87,
   "metadata": {},
   "outputs": [
    {
     "data": {
      "image/png": "[encoded data removed]",
      "text/plain": [
       "<Figure size 432x288 with 1 Axes>"
      ]
     },
     "metadata": {
      "needs_background": "light"
     },
     "output_type": "display_data"
    },
    {
     "data": {
      "application/javascript": [
       "\n",
       "            setTimeout(function() {\n",
       "                var nbb_cell_id = 87;\n",
       "                var nbb_unformatted_code = \"gen[\\\"instrumentalness\\\"].hist(bins=30, alpha=0.6, color=gen_bar_color)\\nstudy[\\\"instrumentalness\\\"].hist(bins=30, alpha=0.9, color=stud_bar_color)\\n\\n\\nplt.grid(b=None)\\nplt.title(\\\"General Population & Study Songs\\\")\\nplt.xlabel(\\\"Instrumentalness\\\")\\nplt.savefig(\\\"../imgs/gen_stud_inst\\\", transparent=True)\\nplt.show()\";\n",
       "                var nbb_formatted_code = \"gen[\\\"instrumentalness\\\"].hist(bins=30, alpha=0.6, color=gen_bar_color)\\nstudy[\\\"instrumentalness\\\"].hist(bins=30, alpha=0.9, color=stud_bar_color)\\n\\n\\nplt.grid(b=None)\\nplt.title(\\\"General Population & Study Songs\\\")\\nplt.xlabel(\\\"Instrumentalness\\\")\\nplt.savefig(\\\"../imgs/gen_stud_inst\\\", transparent=True)\\nplt.show()\";\n",
       "                var nbb_cells = Jupyter.notebook.get_cells();\n",
       "                for (var i = 0; i < nbb_cells.length; ++i) {\n",
       "                    if (nbb_cells[i].input_prompt_number == nbb_cell_id) {\n",
       "                        if (nbb_cells[i].get_text() == nbb_unformatted_code) {\n",
       "                             nbb_cells[i].set_text(nbb_formatted_code);\n",
       "                        }\n",
       "                        break;\n",
       "                    }\n",
       "                }\n",
       "            }, 500);\n",
       "            "
      ],
      "text/plain": [
       "<IPython.core.display.Javascript object>"
      ]
     },
     "metadata": {},
     "output_type": "display_data"
    }
   ],
   "source": [
    "gen[\"instrumentalness\"].hist(bins=30, alpha=0.6, color=gen_bar_color)\n",
    "study[\"instrumentalness\"].hist(bins=30, alpha=0.9, color=stud_bar_color)\n",
    "\n",
    "\n",
    "plt.grid(b=None)\n",
    "plt.title(\"General Population & Study Songs\")\n",
    "plt.xlabel(\"Instrumentalness\")\n",
    "plt.savefig(\"../imgs/gen_stud_inst\", transparent=True)\n",
    "plt.show()"
   ]
  },
  {
   "cell_type": "code",
   "execution_count": 91,
   "metadata": {},
   "outputs": [
    {
     "data": {
      "image/png": "[encoded data removed]",
      "text/plain": [
       "<Figure size 432x288 with 1 Axes>"
      ]
     },
     "metadata": {
      "needs_background": "light"
     },
     "output_type": "display_data"
    },
    {
     "data": {
      "application/javascript": [
       "\n",
       "            setTimeout(function() {\n",
       "                var nbb_cell_id = 91;\n",
       "                var nbb_unformatted_code = \"stud_filtered[\\\"tempo\\\"].hist(bins=30, alpha=0.7, color=stud_bar_color)\\nrun_filtered[\\\"tempo\\\"].hist(bins=30, alpha=0.7, color=run_bar_color)\\n\\n# plt.legend()\\nplt.grid(b=None)\\nplt.title(\\\"Running & Study Songs\\\")\\nplt.xlabel(\\\"Tempo\\\")\\nplt.savefig(\\\"../imgs/stud_run_tempo\\\", transparent=True)\\nplt.show()\";\n",
       "                var nbb_formatted_code = \"stud_filtered[\\\"tempo\\\"].hist(bins=30, alpha=0.7, color=stud_bar_color)\\nrun_filtered[\\\"tempo\\\"].hist(bins=30, alpha=0.7, color=run_bar_color)\\n\\n# plt.legend()\\nplt.grid(b=None)\\nplt.title(\\\"Running & Study Songs\\\")\\nplt.xlabel(\\\"Tempo\\\")\\nplt.savefig(\\\"../imgs/stud_run_tempo\\\", transparent=True)\\nplt.show()\";\n",
       "                var nbb_cells = Jupyter.notebook.get_cells();\n",
       "                for (var i = 0; i < nbb_cells.length; ++i) {\n",
       "                    if (nbb_cells[i].input_prompt_number == nbb_cell_id) {\n",
       "                        if (nbb_cells[i].get_text() == nbb_unformatted_code) {\n",
       "                             nbb_cells[i].set_text(nbb_formatted_code);\n",
       "                        }\n",
       "                        break;\n",
       "                    }\n",
       "                }\n",
       "            }, 500);\n",
       "            "
      ],
      "text/plain": [
       "<IPython.core.display.Javascript object>"
      ]
     },
     "metadata": {},
     "output_type": "display_data"
    }
   ],
   "source": [
    "stud_filtered[\"tempo\"].hist(bins=30, alpha=0.7, color=stud_bar_color)\n",
    "run_filtered[\"tempo\"].hist(bins=30, alpha=0.7, color=run_bar_color)\n",
    "\n",
    "# plt.legend()\n",
    "plt.grid(b=None)\n",
    "plt.title(\"Running & Study Songs\")\n",
    "plt.xlabel(\"Tempo\")\n",
    "plt.savefig(\"../imgs/stud_run_tempo\", transparent=True)\n",
    "plt.show()"
   ]
  },
  {
   "cell_type": "code",
   "execution_count": 92,
   "metadata": {
    "scrolled": true
   },
   "outputs": [
    {
     "data": {
      "image/png": "[encoded data removed]",
      "text/plain": [
       "<Figure size 432x288 with 1 Axes>"
      ]
     },
     "metadata": {
      "needs_background": "light"
     },
     "output_type": "display_data"
    },
    {
     "data": {
      "application/javascript": [
       "\n",
       "            setTimeout(function() {\n",
       "                var nbb_cell_id = 92;\n",
       "                var nbb_unformatted_code = \"study[\\\"energy\\\"].hist(bins=30, alpha=0.7, color=stud_bar_color)\\nrunning[\\\"energy\\\"].hist(bins=30, alpha=0.7, color=run_bar_color)\\n\\n# plt.legend()\\nplt.grid(b=None)\\nplt.title(\\\"Running & Study Songs\\\")\\nplt.xlabel(\\\"Energy\\\")\\nplt.savefig(\\\"../imgs/stud_run_energy\\\", transparent=True)\\nplt.show()\";\n",
       "                var nbb_formatted_code = \"study[\\\"energy\\\"].hist(bins=30, alpha=0.7, color=stud_bar_color)\\nrunning[\\\"energy\\\"].hist(bins=30, alpha=0.7, color=run_bar_color)\\n\\n# plt.legend()\\nplt.grid(b=None)\\nplt.title(\\\"Running & Study Songs\\\")\\nplt.xlabel(\\\"Energy\\\")\\nplt.savefig(\\\"../imgs/stud_run_energy\\\", transparent=True)\\nplt.show()\";\n",
       "                var nbb_cells = Jupyter.notebook.get_cells();\n",
       "                for (var i = 0; i < nbb_cells.length; ++i) {\n",
       "                    if (nbb_cells[i].input_prompt_number == nbb_cell_id) {\n",
       "                        if (nbb_cells[i].get_text() == nbb_unformatted_code) {\n",
       "                             nbb_cells[i].set_text(nbb_formatted_code);\n",
       "                        }\n",
       "                        break;\n",
       "                    }\n",
       "                }\n",
       "            }, 500);\n",
       "            "
      ],
      "text/plain": [
       "<IPython.core.display.Javascript object>"
      ]
     },
     "metadata": {},
     "output_type": "display_data"
    }
   ],
   "source": [
    "study[\"energy\"].hist(bins=30, alpha=0.7, color=stud_bar_color)\n",
    "running[\"energy\"].hist(bins=30, alpha=0.7, color=run_bar_color)\n",
    "\n",
    "# plt.legend()\n",
    "plt.grid(b=None)\n",
    "plt.title(\"Running & Study Songs\")\n",
    "plt.xlabel(\"Energy\")\n",
    "plt.savefig(\"../imgs/stud_run_energy\", transparent=True)\n",
    "plt.show()"
   ]
  },
  {
   "cell_type": "code",
   "execution_count": 93,
   "metadata": {
    "scrolled": false
   },
   "outputs": [
    {
     "data": {
      "image/png": "[encoded data removed]",
      "text/plain": [
       "<Figure size 432x288 with 1 Axes>"
      ]
     },
     "metadata": {
      "needs_background": "light"
     },
     "output_type": "display_data"
    },
    {
     "data": {
      "application/javascript": [
       "\n",
       "            setTimeout(function() {\n",
       "                var nbb_cell_id = 93;\n",
       "                var nbb_unformatted_code = \"study[\\\"acousticness\\\"].hist(bins=30, alpha=0.7, color=stud_bar_color)\\nrunning[\\\"acousticness\\\"].hist(bins=30, alpha=0.7, color=run_bar_color)\\n\\n# plt.legend()\\nplt.grid(b=None)\\nplt.title(\\\"Running & Study Songs\\\")\\nplt.xlabel(\\\"Acousticness (confidence level)\\\")\\nplt.savefig(\\\"../imgs/stud_run_aco\\\", transparent=True)\\nplt.show()\";\n",
       "                var nbb_formatted_code = \"study[\\\"acousticness\\\"].hist(bins=30, alpha=0.7, color=stud_bar_color)\\nrunning[\\\"acousticness\\\"].hist(bins=30, alpha=0.7, color=run_bar_color)\\n\\n# plt.legend()\\nplt.grid(b=None)\\nplt.title(\\\"Running & Study Songs\\\")\\nplt.xlabel(\\\"Acousticness (confidence level)\\\")\\nplt.savefig(\\\"../imgs/stud_run_aco\\\", transparent=True)\\nplt.show()\";\n",
       "                var nbb_cells = Jupyter.notebook.get_cells();\n",
       "                for (var i = 0; i < nbb_cells.length; ++i) {\n",
       "                    if (nbb_cells[i].input_prompt_number == nbb_cell_id) {\n",
       "                        if (nbb_cells[i].get_text() == nbb_unformatted_code) {\n",
       "                             nbb_cells[i].set_text(nbb_formatted_code);\n",
       "                        }\n",
       "                        break;\n",
       "                    }\n",
       "                }\n",
       "            }, 500);\n",
       "            "
      ],
      "text/plain": [
       "<IPython.core.display.Javascript object>"
      ]
     },
     "metadata": {},
     "output_type": "display_data"
    }
   ],
   "source": [
    "study[\"acousticness\"].hist(bins=30, alpha=0.7, color=stud_bar_color)\n",
    "running[\"acousticness\"].hist(bins=30, alpha=0.7, color=run_bar_color)\n",
    "\n",
    "# plt.legend()\n",
    "plt.grid(b=None)\n",
    "plt.title(\"Running & Study Songs\")\n",
    "plt.xlabel(\"Acousticness (confidence level)\")\n",
    "plt.savefig(\"../imgs/stud_run_aco\", transparent=True)\n",
    "plt.show()"
   ]
  },
  {
   "cell_type": "code",
   "execution_count": 94,
   "metadata": {},
   "outputs": [
    {
     "data": {
      "image/png": "[encoded data removed]",
      "text/plain": [
       "<Figure size 432x288 with 1 Axes>"
      ]
     },
     "metadata": {
      "needs_background": "light"
     },
     "output_type": "display_data"
    },
    {
     "data": {
      "application/javascript": [
       "\n",
       "            setTimeout(function() {\n",
       "                var nbb_cell_id = 94;\n",
       "                var nbb_unformatted_code = \"study[\\\"valence\\\"].hist(bins=30, alpha=0.7, color=stud_bar_color)\\nrunning[\\\"valence\\\"].hist(bins=30, alpha=0.7, color=run_bar_color)\\n\\n# plt.legend()\\nplt.grid(b=None)\\nplt.title(\\\"Running & Study Songs\\\")\\nplt.xlabel(\\\"Valence (mood)\\\")\\nplt.savefig(\\\"../imgs/stud_run_val\\\", transparent=True)\\nplt.show()\";\n",
       "                var nbb_formatted_code = \"study[\\\"valence\\\"].hist(bins=30, alpha=0.7, color=stud_bar_color)\\nrunning[\\\"valence\\\"].hist(bins=30, alpha=0.7, color=run_bar_color)\\n\\n# plt.legend()\\nplt.grid(b=None)\\nplt.title(\\\"Running & Study Songs\\\")\\nplt.xlabel(\\\"Valence (mood)\\\")\\nplt.savefig(\\\"../imgs/stud_run_val\\\", transparent=True)\\nplt.show()\";\n",
       "                var nbb_cells = Jupyter.notebook.get_cells();\n",
       "                for (var i = 0; i < nbb_cells.length; ++i) {\n",
       "                    if (nbb_cells[i].input_prompt_number == nbb_cell_id) {\n",
       "                        if (nbb_cells[i].get_text() == nbb_unformatted_code) {\n",
       "                             nbb_cells[i].set_text(nbb_formatted_code);\n",
       "                        }\n",
       "                        break;\n",
       "                    }\n",
       "                }\n",
       "            }, 500);\n",
       "            "
      ],
      "text/plain": [
       "<IPython.core.display.Javascript object>"
      ]
     },
     "metadata": {},
     "output_type": "display_data"
    }
   ],
   "source": [
    "study[\"valence\"].hist(bins=30, alpha=0.7, color=stud_bar_color)\n",
    "running[\"valence\"].hist(bins=30, alpha=0.7, color=run_bar_color)\n",
    "\n",
    "# plt.legend()\n",
    "plt.grid(b=None)\n",
    "plt.title(\"Running & Study Songs\")\n",
    "plt.xlabel(\"Valence (mood)\")\n",
    "plt.savefig(\"../imgs/stud_run_val\", transparent=True)\n",
    "plt.show()"
   ]
  },
  {
   "cell_type": "code",
   "execution_count": 60,
   "metadata": {},
   "outputs": [
    {
     "data": {
      "application/javascript": [
       "\n",
       "            setTimeout(function() {\n",
       "                var nbb_cell_id = 60;\n",
       "                var nbb_unformatted_code = \"from statsmodels.stats.power import TTestIndPower\";\n",
       "                var nbb_formatted_code = \"from statsmodels.stats.power import TTestIndPower\";\n",
       "                var nbb_cells = Jupyter.notebook.get_cells();\n",
       "                for (var i = 0; i < nbb_cells.length; ++i) {\n",
       "                    if (nbb_cells[i].input_prompt_number == nbb_cell_id) {\n",
       "                        if (nbb_cells[i].get_text() == nbb_unformatted_code) {\n",
       "                             nbb_cells[i].set_text(nbb_formatted_code);\n",
       "                        }\n",
       "                        break;\n",
       "                    }\n",
       "                }\n",
       "            }, 500);\n",
       "            "
      ],
      "text/plain": [
       "<IPython.core.display.Javascript object>"
      ]
     },
     "metadata": {},
     "output_type": "display_data"
    }
   ],
   "source": [
    "from statsmodels.stats.power import TTestIndPower\n"
   ]
  },
  {
   "cell_type": "code",
   "execution_count": 61,
   "metadata": {},
   "outputs": [
    {
     "data": {
      "application/javascript": [
       "\n",
       "            setTimeout(function() {\n",
       "                var nbb_cell_id = 61;\n",
       "                var nbb_unformatted_code = \"\\nx1 = gen['valence']\\nx2 = running['valence']\";\n",
       "                var nbb_formatted_code = \"x1 = gen[\\\"valence\\\"]\\nx2 = running[\\\"valence\\\"]\";\n",
       "                var nbb_cells = Jupyter.notebook.get_cells();\n",
       "                for (var i = 0; i < nbb_cells.length; ++i) {\n",
       "                    if (nbb_cells[i].input_prompt_number == nbb_cell_id) {\n",
       "                        if (nbb_cells[i].get_text() == nbb_unformatted_code) {\n",
       "                             nbb_cells[i].set_text(nbb_formatted_code);\n",
       "                        }\n",
       "                        break;\n",
       "                    }\n",
       "                }\n",
       "            }, 500);\n",
       "            "
      ],
      "text/plain": [
       "<IPython.core.display.Javascript object>"
      ]
     },
     "metadata": {},
     "output_type": "display_data"
    }
   ],
   "source": [
    "x1 = gen[\"valence\"]\n",
    "x2 = running[\"valence\"]"
   ]
  },
  {
   "cell_type": "code",
   "execution_count": 62,
   "metadata": {
    "scrolled": false
   },
   "outputs": [
    {
     "data": {
      "text/plain": [
       "0.20426374732418423"
      ]
     },
     "execution_count": 62,
     "metadata": {},
     "output_type": "execute_result"
    },
    {
     "data": {
      "application/javascript": [
       "\n",
       "            setTimeout(function() {\n",
       "                var nbb_cell_id = 62;\n",
       "                var nbb_unformatted_code = \"s_pooled_numerator = (x1.size - 1) * x1.var() + (x2.size - 1) * x2.var()\\ns_pooled_denominator = x1.size + x2.size - 2\\n\\ns_pooled = np.sqrt(s_pooled_numerator / s_pooled_denominator)\\n\\neffect_size = (x1.mean() - x2.mean()) / s_pooled\\neffect_size\";\n",
       "                var nbb_formatted_code = \"s_pooled_numerator = (x1.size - 1) * x1.var() + (x2.size - 1) * x2.var()\\ns_pooled_denominator = x1.size + x2.size - 2\\n\\ns_pooled = np.sqrt(s_pooled_numerator / s_pooled_denominator)\\n\\neffect_size = (x1.mean() - x2.mean()) / s_pooled\\neffect_size\";\n",
       "                var nbb_cells = Jupyter.notebook.get_cells();\n",
       "                for (var i = 0; i < nbb_cells.length; ++i) {\n",
       "                    if (nbb_cells[i].input_prompt_number == nbb_cell_id) {\n",
       "                        if (nbb_cells[i].get_text() == nbb_unformatted_code) {\n",
       "                             nbb_cells[i].set_text(nbb_formatted_code);\n",
       "                        }\n",
       "                        break;\n",
       "                    }\n",
       "                }\n",
       "            }, 500);\n",
       "            "
      ],
      "text/plain": [
       "<IPython.core.display.Javascript object>"
      ]
     },
     "metadata": {},
     "output_type": "display_data"
    }
   ],
   "source": [
    "s_pooled_numerator = (x1.size - 1) * x1.var() + (x2.size - 1) * x2.var()\n",
    "s_pooled_denominator = x1.size + x2.size - 2\n",
    "\n",
    "s_pooled = np.sqrt(s_pooled_numerator / s_pooled_denominator)\n",
    "\n",
    "effect_size = (x1.mean() - x2.mean()) / s_pooled\n",
    "effect_size"
   ]
  },
  {
   "cell_type": "code",
   "execution_count": 65,
   "metadata": {},
   "outputs": [
    {
     "data": {
      "application/javascript": [
       "\n",
       "            setTimeout(function() {\n",
       "                var nbb_cell_id = 65;\n",
       "                var nbb_unformatted_code = \"_, p = stats.ttest_ind(gen['valence'], running['valence'])\";\n",
       "                var nbb_formatted_code = \"_, p = stats.ttest_ind(gen[\\\"valence\\\"], running[\\\"valence\\\"])\";\n",
       "                var nbb_cells = Jupyter.notebook.get_cells();\n",
       "                for (var i = 0; i < nbb_cells.length; ++i) {\n",
       "                    if (nbb_cells[i].input_prompt_number == nbb_cell_id) {\n",
       "                        if (nbb_cells[i].get_text() == nbb_unformatted_code) {\n",
       "                             nbb_cells[i].set_text(nbb_formatted_code);\n",
       "                        }\n",
       "                        break;\n",
       "                    }\n",
       "                }\n",
       "            }, 500);\n",
       "            "
      ],
      "text/plain": [
       "<IPython.core.display.Javascript object>"
      ]
     },
     "metadata": {},
     "output_type": "display_data"
    }
   ],
   "source": [
    "_, p = stats.ttest_ind(gen[\"valence\"], running[\"valence\"])"
   ]
  },
  {
   "cell_type": "code",
   "execution_count": 66,
   "metadata": {},
   "outputs": [
    {
     "data": {
      "text/plain": [
       "0.7226205186808824"
      ]
     },
     "execution_count": 66,
     "metadata": {},
     "output_type": "execute_result"
    },
    {
     "data": {
      "application/javascript": [
       "\n",
       "            setTimeout(function() {\n",
       "                var nbb_cell_id = 66;\n",
       "                var nbb_unformatted_code = \"analysis = TTestIndPower()\\nanalysis.solve_power(\\n    effect_size=effect_size, alpha=p, nobs1=x1.size, ratio=x1.size / x2.size\\n)\";\n",
       "                var nbb_formatted_code = \"analysis = TTestIndPower()\\nanalysis.solve_power(\\n    effect_size=effect_size, alpha=p, nobs1=x1.size, ratio=x1.size / x2.size\\n)\";\n",
       "                var nbb_cells = Jupyter.notebook.get_cells();\n",
       "                for (var i = 0; i < nbb_cells.length; ++i) {\n",
       "                    if (nbb_cells[i].input_prompt_number == nbb_cell_id) {\n",
       "                        if (nbb_cells[i].get_text() == nbb_unformatted_code) {\n",
       "                             nbb_cells[i].set_text(nbb_formatted_code);\n",
       "                        }\n",
       "                        break;\n",
       "                    }\n",
       "                }\n",
       "            }, 500);\n",
       "            "
      ],
      "text/plain": [
       "<IPython.core.display.Javascript object>"
      ]
     },
     "metadata": {},
     "output_type": "display_data"
    }
   ],
   "source": [
    "analysis = TTestIndPower()\n",
    "analysis.solve_power(\n",
    "    effect_size=effect_size, alpha=p, nobs1=x1.size, ratio=x1.size / x2.size\n",
    ")"
   ]
  }
 ],
 "metadata": {
  "kernelspec": {
   "display_name": "Python 3",
   "language": "python",
   "name": "python3"
  },
  "language_info": {
   "codemirror_mode": {
    "name": "ipython",
    "version": 3
   },
   "file_extension": ".py",
   "mimetype": "text/x-python",
   "name": "python",
   "nbconvert_exporter": "python",
   "pygments_lexer": "ipython3",
   "version": "3.7.6"
  }
 },
 "nbformat": 4,
 "nbformat_minor": 4
}
