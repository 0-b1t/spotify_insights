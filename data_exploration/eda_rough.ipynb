{
 "cells": [
  {
   "cell_type": "code",
   "execution_count": 1,
   "metadata": {},
   "outputs": [
    {
     "data": {
      "application/javascript": [
       "\n",
       "            setTimeout(function() {\n",
       "                var nbb_cell_id = 1;\n",
       "                var nbb_unformatted_code = \"%reload_ext nb_black\";\n",
       "                var nbb_formatted_code = \"%reload_ext nb_black\";\n",
       "                var nbb_cells = Jupyter.notebook.get_cells();\n",
       "                for (var i = 0; i < nbb_cells.length; ++i) {\n",
       "                    if (nbb_cells[i].input_prompt_number == nbb_cell_id) {\n",
       "                        if (nbb_cells[i].get_text() == nbb_unformatted_code) {\n",
       "                             nbb_cells[i].set_text(nbb_formatted_code);\n",
       "                        }\n",
       "                        break;\n",
       "                    }\n",
       "                }\n",
       "            }, 500);\n",
       "            "
      ],
      "text/plain": [
       "<IPython.core.display.Javascript object>"
      ]
     },
     "metadata": {},
     "output_type": "display_data"
    }
   ],
   "source": [
    "%reload_ext nb_black"
   ]
  },
  {
   "cell_type": "markdown",
   "metadata": {},
   "source": [
    "# Analysis\n",
    "\n",
    "In this analysis I will be looking to answer the question what attributes, that differ from the general population of music, are typical of songs taken from a subset of playlists.\n",
    "\n",
    "-----------------\n",
    "$H_o$: The attributes of songs in specified playlists are no different than the general population.\n",
    "\n",
    "$H_a$: The attributes of songs in specified playlists are measurably different than the general population\n",
    "\n",
    "--------------\n",
    "\n",
    "First, I will be covering songs found in 'running' playlists. Then, I will do a similar analysis with songs found in 'study' playlists. The attributes covered will include tempo, valence (mood), instrumentalness, energy, acousticness and speechiness. I will explain what each of those mean as we go on but you can find explanations [here](https://developer.spotify.com/documentation/web-api/reference/tracks/get-audio-features/)."
   ]
  },
  {
   "cell_type": "code",
   "execution_count": 2,
   "metadata": {},
   "outputs": [
    {
     "data": {
      "application/javascript": [
       "\n",
       "            setTimeout(function() {\n",
       "                var nbb_cell_id = 2;\n",
       "                var nbb_unformatted_code = \"import pandas as pd\\nimport numpy as np\\nfrom scipy import stats\\nfrom statsmodels.graphics.gofplots import qqplot\\nfrom statsmodels.stats.multitest import multipletests\\nimport seaborn as sns\\nimport matplotlib.pyplot as plt\\nimport statsmodels.api as sm\\nfrom non_param_effect_size import calc_non_param_ci, cles_ind, rbc_ind\\n\\n%matplotlib inline\\n\\n\\ndef get_95_ci(x1, x2):\\n    \\\"\\\"\\\"Calculate a 95% CI for 2 1d numpy arrays\\\"\\\"\\\"\\n    signal = x1.mean() - x2.mean()\\n    noise = np.sqrt(x1.var() / x1.size + x2.var() / x2.size)\\n\\n    ci_lo = signal - 1.96 * noise\\n    ci_hi = signal + 1.96 * noise\\n\\n    return ci_lo, ci_hi\";\n",
       "                var nbb_formatted_code = \"import pandas as pd\\nimport numpy as np\\nfrom scipy import stats\\nfrom statsmodels.graphics.gofplots import qqplot\\nfrom statsmodels.stats.multitest import multipletests\\nimport seaborn as sns\\nimport matplotlib.pyplot as plt\\nimport statsmodels.api as sm\\nfrom non_param_effect_size import calc_non_param_ci, cles_ind, rbc_ind\\n\\n%matplotlib inline\\n\\n\\ndef get_95_ci(x1, x2):\\n    \\\"\\\"\\\"Calculate a 95% CI for 2 1d numpy arrays\\\"\\\"\\\"\\n    signal = x1.mean() - x2.mean()\\n    noise = np.sqrt(x1.var() / x1.size + x2.var() / x2.size)\\n\\n    ci_lo = signal - 1.96 * noise\\n    ci_hi = signal + 1.96 * noise\\n\\n    return ci_lo, ci_hi\";\n",
       "                var nbb_cells = Jupyter.notebook.get_cells();\n",
       "                for (var i = 0; i < nbb_cells.length; ++i) {\n",
       "                    if (nbb_cells[i].input_prompt_number == nbb_cell_id) {\n",
       "                        if (nbb_cells[i].get_text() == nbb_unformatted_code) {\n",
       "                             nbb_cells[i].set_text(nbb_formatted_code);\n",
       "                        }\n",
       "                        break;\n",
       "                    }\n",
       "                }\n",
       "            }, 500);\n",
       "            "
      ],
      "text/plain": [
       "<IPython.core.display.Javascript object>"
      ]
     },
     "metadata": {},
     "output_type": "display_data"
    }
   ],
   "source": [
    "import pandas as pd\n",
    "import numpy as np\n",
    "from scipy import stats\n",
    "from statsmodels.graphics.gofplots import qqplot\n",
    "from statsmodels.stats.multitest import multipletests\n",
    "import seaborn as sns\n",
    "import matplotlib.pyplot as plt\n",
    "import statsmodels.api as sm\n",
    "from non_param_effect_size import calc_non_param_ci, cles_ind, rbc_ind\n",
    "\n",
    "%matplotlib inline\n",
    "\n",
    "\n",
    "def get_95_ci(x1, x2):\n",
    "    \"\"\"Calculate a 95% CI for 2 1d numpy arrays\"\"\"\n",
    "    signal = x1.mean() - x2.mean()\n",
    "    noise = np.sqrt(x1.var() / x1.size + x2.var() / x2.size)\n",
    "\n",
    "    ci_lo = signal - 1.96 * noise\n",
    "    ci_hi = signal + 1.96 * noise\n",
    "\n",
    "    return ci_lo, ci_hi"
   ]
  },
  {
   "cell_type": "code",
   "execution_count": 3,
   "metadata": {},
   "outputs": [
    {
     "data": {
      "application/javascript": [
       "\n",
       "            setTimeout(function() {\n",
       "                var nbb_cell_id = 3;\n",
       "                var nbb_unformatted_code = \"# initialize colors to be used for visualizations\\ngen_bar_color = \\\"#97D1FB\\\"  # pale blue\\ngen_line_color = \\\"#49ECF2\\\"  # cyan\\n\\nrun_bar_color = \\\"#AC1900\\\"  # red\\nrun_line_color = \\\"#CD5D00\\\"  # orange\\n\\nstudy_bar_color = \\\"#D8CB04\\\"  # yellow\\nstudy_line_color = \\\"#8BE413\\\"  # green\";\n",
       "                var nbb_formatted_code = \"# initialize colors to be used for visualizations\\ngen_bar_color = \\\"#97D1FB\\\"  # pale blue\\ngen_line_color = \\\"#49ECF2\\\"  # cyan\\n\\nrun_bar_color = \\\"#AC1900\\\"  # red\\nrun_line_color = \\\"#CD5D00\\\"  # orange\\n\\nstudy_bar_color = \\\"#D8CB04\\\"  # yellow\\nstudy_line_color = \\\"#8BE413\\\"  # green\";\n",
       "                var nbb_cells = Jupyter.notebook.get_cells();\n",
       "                for (var i = 0; i < nbb_cells.length; ++i) {\n",
       "                    if (nbb_cells[i].input_prompt_number == nbb_cell_id) {\n",
       "                        if (nbb_cells[i].get_text() == nbb_unformatted_code) {\n",
       "                             nbb_cells[i].set_text(nbb_formatted_code);\n",
       "                        }\n",
       "                        break;\n",
       "                    }\n",
       "                }\n",
       "            }, 500);\n",
       "            "
      ],
      "text/plain": [
       "<IPython.core.display.Javascript object>"
      ]
     },
     "metadata": {},
     "output_type": "display_data"
    }
   ],
   "source": [
    "# initialize colors to be used for visualizations\n",
    "gen_bar_color = \"#97D1FB\"  # pale blue\n",
    "gen_line_color = \"#49ECF2\"  # cyan\n",
    "\n",
    "run_bar_color = \"#AC1900\"  # red\n",
    "run_line_color = \"#CD5D00\"  # orange\n",
    "\n",
    "study_bar_color = \"#D8CB04\"  # yellow\n",
    "study_line_color = \"#8BE413\"  # green"
   ]
  },
  {
   "cell_type": "markdown",
   "metadata": {},
   "source": [
    "### Run, Run, Run\n",
    "\n",
    "First, I would like to outline some base assumptions we might have about how a 'running' song may differ from the crowd. I personally am not a runner but if I were to create a running playlist, these are some of the attributes I would look for:\n",
    "- [ ] Fast\n",
    "- [ ] Energetic\n",
    "- [ ] Uplifting\n",
    "\n",
    "Fast to push my pace. Energetic to pump me up. And uplifting to escape from the pain."
   ]
  },
  {
   "cell_type": "code",
   "execution_count": 4,
   "metadata": {},
   "outputs": [
    {
     "data": {
      "application/javascript": [
       "\n",
       "            setTimeout(function() {\n",
       "                var nbb_cell_id = 4;\n",
       "                var nbb_unformatted_code = \"running = pd.read_csv(\\\"../data/running_playlist_tracks.csv\\\")\\nrunning.drop(columns=\\\"Unnamed: 0\\\", inplace=True)\\ngen = pd.read_csv(\\\"../data/sampled_set.csv\\\")\\ngen.drop(columns=\\\"Unnamed: 0\\\", inplace=True)\";\n",
       "                var nbb_formatted_code = \"running = pd.read_csv(\\\"../data/running_playlist_tracks.csv\\\")\\nrunning.drop(columns=\\\"Unnamed: 0\\\", inplace=True)\\ngen = pd.read_csv(\\\"../data/sampled_set.csv\\\")\\ngen.drop(columns=\\\"Unnamed: 0\\\", inplace=True)\";\n",
       "                var nbb_cells = Jupyter.notebook.get_cells();\n",
       "                for (var i = 0; i < nbb_cells.length; ++i) {\n",
       "                    if (nbb_cells[i].input_prompt_number == nbb_cell_id) {\n",
       "                        if (nbb_cells[i].get_text() == nbb_unformatted_code) {\n",
       "                             nbb_cells[i].set_text(nbb_formatted_code);\n",
       "                        }\n",
       "                        break;\n",
       "                    }\n",
       "                }\n",
       "            }, 500);\n",
       "            "
      ],
      "text/plain": [
       "<IPython.core.display.Javascript object>"
      ]
     },
     "metadata": {},
     "output_type": "display_data"
    }
   ],
   "source": [
    "running = pd.read_csv(\"../data/running_playlist_tracks.csv\")\n",
    "running.drop(columns=\"Unnamed: 0\", inplace=True)\n",
    "gen = pd.read_csv(\"../data/sampled_set.csv\")\n",
    "gen.drop(columns=\"Unnamed: 0\", inplace=True)"
   ]
  },
  {
   "cell_type": "markdown",
   "metadata": {},
   "source": [
    "#### Up the Tempo\n",
    "\n",
    "The internal clock of a song is measured in BPM or beats per minute. The higher the BPM. the faster the song. The hypotheses:\n",
    "\n",
    "$H_o$: The average tempo of running playlist songs is the *same* as the general population\n",
    "\n",
    "$H_a$: The average tempo of running playlist songs is *higher* than the general population\n",
    "\n",
    "Let's start by just looking at the distributions:"
   ]
  },
  {
   "cell_type": "code",
   "execution_count": 5,
   "metadata": {
    "scrolled": false
   },
   "outputs": [
    {
     "data": {
      "image/png": "[encoded data removed]",
      "text/plain": [
       "<Figure size 432x288 with 1 Axes>"
      ]
     },
     "metadata": {
      "needs_background": "light"
     },
     "output_type": "display_data"
    },
    {
     "data": {
      "application/javascript": [
       "\n",
       "            setTimeout(function() {\n",
       "                var nbb_cell_id = 5;\n",
       "                var nbb_unformatted_code = \"# Get rid of zeros because they represent either incomplete or erroneous data.\\ngen_filtered = gen[gen[\\\"tempo\\\"] != 0]\\nrun_filtered = running[running[\\\"tempo\\\"] != 0]\\ngen_filtered[\\\"tempo\\\"].hist(bins=30, alpha=0.5, label=\\\"GP\\\", color=gen_bar_color)\\nrun_filtered[\\\"tempo\\\"].hist(bins=30, alpha=0.5, label=\\\"Running\\\", color=run_bar_color)\\nplt.legend()\\nplt.grid(b=None)\\nplt.show()\";\n",
       "                var nbb_formatted_code = \"# Get rid of zeros because they represent either incomplete or erroneous data.\\ngen_filtered = gen[gen[\\\"tempo\\\"] != 0]\\nrun_filtered = running[running[\\\"tempo\\\"] != 0]\\ngen_filtered[\\\"tempo\\\"].hist(bins=30, alpha=0.5, label=\\\"GP\\\", color=gen_bar_color)\\nrun_filtered[\\\"tempo\\\"].hist(bins=30, alpha=0.5, label=\\\"Running\\\", color=run_bar_color)\\nplt.legend()\\nplt.grid(b=None)\\nplt.show()\";\n",
       "                var nbb_cells = Jupyter.notebook.get_cells();\n",
       "                for (var i = 0; i < nbb_cells.length; ++i) {\n",
       "                    if (nbb_cells[i].input_prompt_number == nbb_cell_id) {\n",
       "                        if (nbb_cells[i].get_text() == nbb_unformatted_code) {\n",
       "                             nbb_cells[i].set_text(nbb_formatted_code);\n",
       "                        }\n",
       "                        break;\n",
       "                    }\n",
       "                }\n",
       "            }, 500);\n",
       "            "
      ],
      "text/plain": [
       "<IPython.core.display.Javascript object>"
      ]
     },
     "metadata": {},
     "output_type": "display_data"
    }
   ],
   "source": [
    "# Get rid of zeros because they represent either incomplete or erroneous data.\n",
    "gen_filtered = gen[gen[\"tempo\"] != 0]\n",
    "run_filtered = running[running[\"tempo\"] != 0]\n",
    "gen_filtered[\"tempo\"].hist(bins=30, alpha=0.5, label=\"GP\", color=gen_bar_color)\n",
    "run_filtered[\"tempo\"].hist(bins=30, alpha=0.5, label=\"Running\", color=run_bar_color)\n",
    "plt.legend()\n",
    "plt.grid(b=None)\n",
    "plt.show()"
   ]
  },
  {
   "cell_type": "markdown",
   "metadata": {},
   "source": [
    "There's an obvious spike around 125 in the running playlist data. Let's run a quick test for normality before continuing on to a t-test"
   ]
  },
  {
   "cell_type": "code",
   "execution_count": 6,
   "metadata": {
    "scrolled": true
   },
   "outputs": [
    {
     "name": "stdout",
     "output_type": "stream",
     "text": [
      "DescribeResult(nobs=4995, minmax=(44.978, 216.843), mean=117.0567075075075, variance=923.1977151100659, skewness=0.5126162414952244, kurtosis=-0.2153056072706594)\n",
      "DescribeResult(nobs=4454, minmax=(57.967, 216.334), mean=122.51974449932646, variance=659.8384563128767, skewness=0.33999720681387696, kurtosis=0.09191662790906507)\n"
     ]
    },
    {
     "data": {
      "application/javascript": [
       "\n",
       "            setTimeout(function() {\n",
       "                var nbb_cell_id = 6;\n",
       "                var nbb_unformatted_code = \"print(stats.describe(gen_filtered[\\\"tempo\\\"]))\\nprint(stats.describe(run_filtered[\\\"tempo\\\"]))\";\n",
       "                var nbb_formatted_code = \"print(stats.describe(gen_filtered[\\\"tempo\\\"]))\\nprint(stats.describe(run_filtered[\\\"tempo\\\"]))\";\n",
       "                var nbb_cells = Jupyter.notebook.get_cells();\n",
       "                for (var i = 0; i < nbb_cells.length; ++i) {\n",
       "                    if (nbb_cells[i].input_prompt_number == nbb_cell_id) {\n",
       "                        if (nbb_cells[i].get_text() == nbb_unformatted_code) {\n",
       "                             nbb_cells[i].set_text(nbb_formatted_code);\n",
       "                        }\n",
       "                        break;\n",
       "                    }\n",
       "                }\n",
       "            }, 500);\n",
       "            "
      ],
      "text/plain": [
       "<IPython.core.display.Javascript object>"
      ]
     },
     "metadata": {},
     "output_type": "display_data"
    }
   ],
   "source": [
    "print(stats.describe(gen_filtered[\"tempo\"]))\n",
    "print(stats.describe(run_filtered[\"tempo\"]))"
   ]
  },
  {
   "cell_type": "code",
   "execution_count": 7,
   "metadata": {},
   "outputs": [
    {
     "name": "stdout",
     "output_type": "stream",
     "text": [
      "8.304645583849454e-21\n"
     ]
    },
    {
     "data": {
      "application/javascript": [
       "\n",
       "            setTimeout(function() {\n",
       "                var nbb_cell_id = 7;\n",
       "                var nbb_unformatted_code = \"_, p = stats.ttest_ind(gen_filtered[\\\"tempo\\\"], run_filtered[\\\"tempo\\\"])\\nprint(p)\";\n",
       "                var nbb_formatted_code = \"_, p = stats.ttest_ind(gen_filtered[\\\"tempo\\\"], run_filtered[\\\"tempo\\\"])\\nprint(p)\";\n",
       "                var nbb_cells = Jupyter.notebook.get_cells();\n",
       "                for (var i = 0; i < nbb_cells.length; ++i) {\n",
       "                    if (nbb_cells[i].input_prompt_number == nbb_cell_id) {\n",
       "                        if (nbb_cells[i].get_text() == nbb_unformatted_code) {\n",
       "                             nbb_cells[i].set_text(nbb_formatted_code);\n",
       "                        }\n",
       "                        break;\n",
       "                    }\n",
       "                }\n",
       "            }, 500);\n",
       "            "
      ],
      "text/plain": [
       "<IPython.core.display.Javascript object>"
      ]
     },
     "metadata": {},
     "output_type": "display_data"
    }
   ],
   "source": [
    "_, p = stats.ttest_ind(gen_filtered[\"tempo\"], run_filtered[\"tempo\"])\n",
    "print(p)"
   ]
  },
  {
   "cell_type": "markdown",
   "metadata": {},
   "source": [
    "The t-test comes out with a pretty definitive p value of ~ $8.3 * {10}^{-21}$\n",
    "\n",
    "A 95% confidence interval will give us a good idea of how different they really are."
   ]
  },
  {
   "cell_type": "code",
   "execution_count": 8,
   "metadata": {
    "scrolled": false
   },
   "outputs": [
    {
     "name": "stdout",
     "output_type": "stream",
     "text": [
      "The confidence interval returns a range of 4.33 and 6.59 beats per minute higher than the population average\n",
      "This give a range of 121.4 and 123.7 BPM when compared to the average of the population\n"
     ]
    },
    {
     "data": {
      "application/javascript": [
       "\n",
       "            setTimeout(function() {\n",
       "                var nbb_cell_id = 8;\n",
       "                var nbb_unformatted_code = \"l, h = get_95_ci(run_filtered[\\\"tempo\\\"], gen_filtered[\\\"tempo\\\"])\\n\\nlow = gen_filtered[\\\"tempo\\\"].mean() + l\\nhigh = gen_filtered[\\\"tempo\\\"].mean() + h\\n\\n(low, high)\\nl, h\\n\\nprint(\\n    f\\\"The confidence interval returns a range of {round(l, 2)} and {round(h, 2)} beats per minute higher than the population average\\\"\\n)\\n\\nprint(\\n    f\\\"This give a range of {round(low,1)} and {round(high, 1)} BPM when compared to the average of the population\\\"\\n)\";\n",
       "                var nbb_formatted_code = \"l, h = get_95_ci(run_filtered[\\\"tempo\\\"], gen_filtered[\\\"tempo\\\"])\\n\\nlow = gen_filtered[\\\"tempo\\\"].mean() + l\\nhigh = gen_filtered[\\\"tempo\\\"].mean() + h\\n\\n(low, high)\\nl, h\\n\\nprint(\\n    f\\\"The confidence interval returns a range of {round(l, 2)} and {round(h, 2)} beats per minute higher than the population average\\\"\\n)\\n\\nprint(\\n    f\\\"This give a range of {round(low,1)} and {round(high, 1)} BPM when compared to the average of the population\\\"\\n)\";\n",
       "                var nbb_cells = Jupyter.notebook.get_cells();\n",
       "                for (var i = 0; i < nbb_cells.length; ++i) {\n",
       "                    if (nbb_cells[i].input_prompt_number == nbb_cell_id) {\n",
       "                        if (nbb_cells[i].get_text() == nbb_unformatted_code) {\n",
       "                             nbb_cells[i].set_text(nbb_formatted_code);\n",
       "                        }\n",
       "                        break;\n",
       "                    }\n",
       "                }\n",
       "            }, 500);\n",
       "            "
      ],
      "text/plain": [
       "<IPython.core.display.Javascript object>"
      ]
     },
     "metadata": {},
     "output_type": "display_data"
    }
   ],
   "source": [
    "l, h = get_95_ci(run_filtered[\"tempo\"], gen_filtered[\"tempo\"])\n",
    "\n",
    "low = gen_filtered[\"tempo\"].mean() + l\n",
    "high = gen_filtered[\"tempo\"].mean() + h\n",
    "\n",
    "(low, high)\n",
    "l, h\n",
    "\n",
    "print(\n",
    "    f\"The confidence interval returns a range of {round(l, 2)} and {round(h, 2)} beats per minute higher than the population average\"\n",
    ")\n",
    "\n",
    "print(\n",
    "    f\"This give a range of {round(low,1)} and {round(high, 1)} BPM when compared to the average of the population\"\n",
    ")"
   ]
  },
  {
   "cell_type": "markdown",
   "metadata": {},
   "source": [
    "The range of 121.4 to 123.7 gives us a good ballpark of where the middle is at least in relation to the overall population. However, now that we have established there is in fact a difference, I think a more poignant bit of data would be looking at the summary of only the running playlist songs.\n",
    "\n",
    "Not only is the average among running songs higher, the range is significantly narrower as well."
   ]
  },
  {
   "cell_type": "code",
   "execution_count": 9,
   "metadata": {
    "scrolled": true
   },
   "outputs": [
    {
     "data": {
      "image/png": "[encoded data removed]",
      "text/plain": [
       "<Figure size 432x288 with 1 Axes>"
      ]
     },
     "metadata": {
      "needs_background": "light"
     },
     "output_type": "display_data"
    },
    {
     "data": {
      "application/javascript": [
       "\n",
       "            setTimeout(function() {\n",
       "                var nbb_cell_id = 9;\n",
       "                var nbb_unformatted_code = \"gen_temp = pd.DataFrame(data=gen_filtered[\\\"tempo\\\"])\\ngen_temp = gen_temp.rename(columns={\\\"tempo\\\": \\\"gen\\\"})\\nrun_temp = pd.DataFrame(run_filtered[\\\"tempo\\\"])\\nrun_temp = run_temp.rename(columns={\\\"tempo\\\": \\\"run\\\"})\\n\\nbox_df_tempo = pd.concat([gen_temp, run_temp], axis=1)\\n\\nbp = sns.boxplot(data=box_df_tempo, palette=[gen_bar_color, run_bar_color])\\nbp.set_xticklabels((\\\"GP\\\", \\\"Running\\\"))\\nplt.show()\";\n",
       "                var nbb_formatted_code = \"gen_temp = pd.DataFrame(data=gen_filtered[\\\"tempo\\\"])\\ngen_temp = gen_temp.rename(columns={\\\"tempo\\\": \\\"gen\\\"})\\nrun_temp = pd.DataFrame(run_filtered[\\\"tempo\\\"])\\nrun_temp = run_temp.rename(columns={\\\"tempo\\\": \\\"run\\\"})\\n\\nbox_df_tempo = pd.concat([gen_temp, run_temp], axis=1)\\n\\nbp = sns.boxplot(data=box_df_tempo, palette=[gen_bar_color, run_bar_color])\\nbp.set_xticklabels((\\\"GP\\\", \\\"Running\\\"))\\nplt.show()\";\n",
       "                var nbb_cells = Jupyter.notebook.get_cells();\n",
       "                for (var i = 0; i < nbb_cells.length; ++i) {\n",
       "                    if (nbb_cells[i].input_prompt_number == nbb_cell_id) {\n",
       "                        if (nbb_cells[i].get_text() == nbb_unformatted_code) {\n",
       "                             nbb_cells[i].set_text(nbb_formatted_code);\n",
       "                        }\n",
       "                        break;\n",
       "                    }\n",
       "                }\n",
       "            }, 500);\n",
       "            "
      ],
      "text/plain": [
       "<IPython.core.display.Javascript object>"
      ]
     },
     "metadata": {},
     "output_type": "display_data"
    }
   ],
   "source": [
    "gen_temp = pd.DataFrame(data=gen_filtered[\"tempo\"])\n",
    "gen_temp = gen_temp.rename(columns={\"tempo\": \"gen\"})\n",
    "run_temp = pd.DataFrame(run_filtered[\"tempo\"])\n",
    "run_temp = run_temp.rename(columns={\"tempo\": \"run\"})\n",
    "\n",
    "box_df_tempo = pd.concat([gen_temp, run_temp], axis=1)\n",
    "\n",
    "bp = sns.boxplot(data=box_df_tempo, palette=[gen_bar_color, run_bar_color])\n",
    "bp.set_xticklabels((\"GP\", \"Running\"))\n",
    "plt.show()"
   ]
  },
  {
   "cell_type": "code",
   "execution_count": 10,
   "metadata": {},
   "outputs": [
    {
     "name": "stdout",
     "output_type": "stream",
     "text": [
      "The range of BPM as defined by the mean(122.5) +/- standard deviation is 96.8 to 148.2\n"
     ]
    },
    {
     "data": {
      "application/javascript": [
       "\n",
       "            setTimeout(function() {\n",
       "                var nbb_cell_id = 10;\n",
       "                var nbb_unformatted_code = \"gm = gen_filtered[\\\"tempo\\\"].mean()\\ngs = gen_filtered[\\\"tempo\\\"].std()\\nrm = run_filtered[\\\"tempo\\\"].mean()\\nrs = run_filtered[\\\"tempo\\\"].std()\\n\\nprint(\\n    f\\\"The range of BPM as defined by the mean({round(rm,1)}) +/- standard deviation is {round(rm-rs, 1)} to {round(rm+rs, 1)}\\\"\\n)\";\n",
       "                var nbb_formatted_code = \"gm = gen_filtered[\\\"tempo\\\"].mean()\\ngs = gen_filtered[\\\"tempo\\\"].std()\\nrm = run_filtered[\\\"tempo\\\"].mean()\\nrs = run_filtered[\\\"tempo\\\"].std()\\n\\nprint(\\n    f\\\"The range of BPM as defined by the mean({round(rm,1)}) +/- standard deviation is {round(rm-rs, 1)} to {round(rm+rs, 1)}\\\"\\n)\";\n",
       "                var nbb_cells = Jupyter.notebook.get_cells();\n",
       "                for (var i = 0; i < nbb_cells.length; ++i) {\n",
       "                    if (nbb_cells[i].input_prompt_number == nbb_cell_id) {\n",
       "                        if (nbb_cells[i].get_text() == nbb_unformatted_code) {\n",
       "                             nbb_cells[i].set_text(nbb_formatted_code);\n",
       "                        }\n",
       "                        break;\n",
       "                    }\n",
       "                }\n",
       "            }, 500);\n",
       "            "
      ],
      "text/plain": [
       "<IPython.core.display.Javascript object>"
      ]
     },
     "metadata": {},
     "output_type": "display_data"
    }
   ],
   "source": [
    "gm = gen_filtered[\"tempo\"].mean()\n",
    "gs = gen_filtered[\"tempo\"].std()\n",
    "rm = run_filtered[\"tempo\"].mean()\n",
    "rs = run_filtered[\"tempo\"].std()\n",
    "\n",
    "print(\n",
    "    f\"The range of BPM as defined by the mean({round(rm,1)}) +/- standard deviation is {round(rm-rs, 1)} to {round(rm+rs, 1)}\"\n",
    ")"
   ]
  },
  {
   "cell_type": "code",
   "execution_count": 11,
   "metadata": {
    "scrolled": true
   },
   "outputs": [
    {
     "data": {
      "image/png": "[encoded data removed]",
      "text/plain": [
       "<Figure size 432x288 with 1 Axes>"
      ]
     },
     "metadata": {
      "needs_background": "light"
     },
     "output_type": "display_data"
    },
    {
     "data": {
      "application/javascript": [
       "\n",
       "            setTimeout(function() {\n",
       "                var nbb_cell_id = 11;\n",
       "                var nbb_unformatted_code = \"# gen_filtered = gen[gen[\\\"tempo\\\"] != 0]\\nrun_filtered = running[running[\\\"tempo\\\"] != 0]\\n# gen_filtered[\\\"tempo\\\"].hist(bins=30, alpha=0.5, label=\\\"GP\\\", color=gen_bar_color)\\nrun_filtered[\\\"tempo\\\"].hist(bins=30, alpha=0.5, label=\\\"Running\\\", color=run_bar_color)\\n\\n# put lines at the mean and +- standard deviation\\n\\n# plt.axvline(x=gm, color=gen_line_color)\\n# plt.axvline(x=gm + gs, color=gen_line_color)\\n# plt.axvline(x=gm - gs, color=gen_line_color)\\n\\nplt.axvline(x=rm, color=run_line_color)\\nplt.axvline(x=rm + rs, color=run_line_color)\\nplt.axvline(x=rm - rs, color=run_line_color)\\n\\nplt.legend()\\nplt.grid(b=None)\\nplt.show()\";\n",
       "                var nbb_formatted_code = \"# gen_filtered = gen[gen[\\\"tempo\\\"] != 0]\\nrun_filtered = running[running[\\\"tempo\\\"] != 0]\\n# gen_filtered[\\\"tempo\\\"].hist(bins=30, alpha=0.5, label=\\\"GP\\\", color=gen_bar_color)\\nrun_filtered[\\\"tempo\\\"].hist(bins=30, alpha=0.5, label=\\\"Running\\\", color=run_bar_color)\\n\\n# put lines at the mean and +- standard deviation\\n\\n# plt.axvline(x=gm, color=gen_line_color)\\n# plt.axvline(x=gm + gs, color=gen_line_color)\\n# plt.axvline(x=gm - gs, color=gen_line_color)\\n\\nplt.axvline(x=rm, color=run_line_color)\\nplt.axvline(x=rm + rs, color=run_line_color)\\nplt.axvline(x=rm - rs, color=run_line_color)\\n\\nplt.legend()\\nplt.grid(b=None)\\nplt.show()\";\n",
       "                var nbb_cells = Jupyter.notebook.get_cells();\n",
       "                for (var i = 0; i < nbb_cells.length; ++i) {\n",
       "                    if (nbb_cells[i].input_prompt_number == nbb_cell_id) {\n",
       "                        if (nbb_cells[i].get_text() == nbb_unformatted_code) {\n",
       "                             nbb_cells[i].set_text(nbb_formatted_code);\n",
       "                        }\n",
       "                        break;\n",
       "                    }\n",
       "                }\n",
       "            }, 500);\n",
       "            "
      ],
      "text/plain": [
       "<IPython.core.display.Javascript object>"
      ]
     },
     "metadata": {},
     "output_type": "display_data"
    }
   ],
   "source": [
    "# gen_filtered = gen[gen[\"tempo\"] != 0]\n",
    "run_filtered = running[running[\"tempo\"] != 0]\n",
    "# gen_filtered[\"tempo\"].hist(bins=30, alpha=0.5, label=\"GP\", color=gen_bar_color)\n",
    "run_filtered[\"tempo\"].hist(bins=30, alpha=0.5, label=\"Running\", color=run_bar_color)\n",
    "\n",
    "# put lines at the mean and +- standard deviation\n",
    "\n",
    "# plt.axvline(x=gm, color=gen_line_color)\n",
    "# plt.axvline(x=gm + gs, color=gen_line_color)\n",
    "# plt.axvline(x=gm - gs, color=gen_line_color)\n",
    "\n",
    "plt.axvline(x=rm, color=run_line_color)\n",
    "plt.axvline(x=rm + rs, color=run_line_color)\n",
    "plt.axvline(x=rm - rs, color=run_line_color)\n",
    "\n",
    "plt.legend()\n",
    "plt.grid(b=None)\n",
    "plt.show()"
   ]
  },
  {
   "cell_type": "markdown",
   "metadata": {},
   "source": [
    "96.8 to 148.2 is too wide of a range and seems to include some possibly unfavorable BPMs"
   ]
  },
  {
   "cell_type": "code",
   "execution_count": 12,
   "metadata": {},
   "outputs": [
    {
     "name": "stdout",
     "output_type": "stream",
     "text": [
      "The range given as a function of IQR is 104.0 to 136.0 \n"
     ]
    },
    {
     "data": {
      "application/javascript": [
       "\n",
       "            setTimeout(function() {\n",
       "                var nbb_cell_id = 12;\n",
       "                var nbb_unformatted_code = \"print(\\n    f'The range given as a function of IQR is {round(run_filtered[\\\"tempo\\\"].describe()[\\\"25%\\\"],1)} to {round(run_filtered[\\\"tempo\\\"].describe()[\\\"75%\\\"],1)} '\\n)\";\n",
       "                var nbb_formatted_code = \"print(\\n    f'The range given as a function of IQR is {round(run_filtered[\\\"tempo\\\"].describe()[\\\"25%\\\"],1)} to {round(run_filtered[\\\"tempo\\\"].describe()[\\\"75%\\\"],1)} '\\n)\";\n",
       "                var nbb_cells = Jupyter.notebook.get_cells();\n",
       "                for (var i = 0; i < nbb_cells.length; ++i) {\n",
       "                    if (nbb_cells[i].input_prompt_number == nbb_cell_id) {\n",
       "                        if (nbb_cells[i].get_text() == nbb_unformatted_code) {\n",
       "                             nbb_cells[i].set_text(nbb_formatted_code);\n",
       "                        }\n",
       "                        break;\n",
       "                    }\n",
       "                }\n",
       "            }, 500);\n",
       "            "
      ],
      "text/plain": [
       "<IPython.core.display.Javascript object>"
      ]
     },
     "metadata": {},
     "output_type": "display_data"
    }
   ],
   "source": [
    "print(\n",
    "    f'The range given as a function of IQR is {round(run_filtered[\"tempo\"].describe()[\"25%\"],1)} to {round(run_filtered[\"tempo\"].describe()[\"75%\"],1)} '\n",
    ")"
   ]
  },
  {
   "cell_type": "code",
   "execution_count": 13,
   "metadata": {},
   "outputs": [
    {
     "data": {
      "image/png": "[encoded data removed]",
      "text/plain": [
       "<Figure size 432x288 with 1 Axes>"
      ]
     },
     "metadata": {
      "needs_background": "light"
     },
     "output_type": "display_data"
    },
    {
     "data": {
      "application/javascript": [
       "\n",
       "            setTimeout(function() {\n",
       "                var nbb_cell_id = 13;\n",
       "                var nbb_unformatted_code = \"# gen_filtered = gen[gen[\\\"tempo\\\"] != 0]\\nrun_filtered = running[running[\\\"tempo\\\"] != 0]\\n# gen_filtered[\\\"tempo\\\"].hist(bins=30, alpha=0.5, label=\\\"GP\\\", color=gen_bar_color)\\nrun_filtered[\\\"tempo\\\"].hist(bins=30, alpha=0.5, label=\\\"Running\\\", color=run_bar_color)\\n\\n# put lines at the mean and +- standard deviation\\n\\n# plt.axvline(x=gm, color=gen_line_color)\\n# plt.axvline(x=gm + gs, color=gen_line_color)\\n# plt.axvline(x=gm - gs, color=gen_line_color)\\n\\nplt.axvline(x=rm, color=run_line_color)\\nplt.axvline(x=run_filtered[\\\"tempo\\\"].describe()[\\\"25%\\\"], color=run_line_color)\\nplt.axvline(x=run_filtered[\\\"tempo\\\"].describe()[\\\"75%\\\"], color=run_line_color)\\n\\nplt.legend()\\nplt.grid(b=None)\\nplt.show()\";\n",
       "                var nbb_formatted_code = \"# gen_filtered = gen[gen[\\\"tempo\\\"] != 0]\\nrun_filtered = running[running[\\\"tempo\\\"] != 0]\\n# gen_filtered[\\\"tempo\\\"].hist(bins=30, alpha=0.5, label=\\\"GP\\\", color=gen_bar_color)\\nrun_filtered[\\\"tempo\\\"].hist(bins=30, alpha=0.5, label=\\\"Running\\\", color=run_bar_color)\\n\\n# put lines at the mean and +- standard deviation\\n\\n# plt.axvline(x=gm, color=gen_line_color)\\n# plt.axvline(x=gm + gs, color=gen_line_color)\\n# plt.axvline(x=gm - gs, color=gen_line_color)\\n\\nplt.axvline(x=rm, color=run_line_color)\\nplt.axvline(x=run_filtered[\\\"tempo\\\"].describe()[\\\"25%\\\"], color=run_line_color)\\nplt.axvline(x=run_filtered[\\\"tempo\\\"].describe()[\\\"75%\\\"], color=run_line_color)\\n\\nplt.legend()\\nplt.grid(b=None)\\nplt.show()\";\n",
       "                var nbb_cells = Jupyter.notebook.get_cells();\n",
       "                for (var i = 0; i < nbb_cells.length; ++i) {\n",
       "                    if (nbb_cells[i].input_prompt_number == nbb_cell_id) {\n",
       "                        if (nbb_cells[i].get_text() == nbb_unformatted_code) {\n",
       "                             nbb_cells[i].set_text(nbb_formatted_code);\n",
       "                        }\n",
       "                        break;\n",
       "                    }\n",
       "                }\n",
       "            }, 500);\n",
       "            "
      ],
      "text/plain": [
       "<IPython.core.display.Javascript object>"
      ]
     },
     "metadata": {},
     "output_type": "display_data"
    }
   ],
   "source": [
    "# gen_filtered = gen[gen[\"tempo\"] != 0]\n",
    "run_filtered = running[running[\"tempo\"] != 0]\n",
    "# gen_filtered[\"tempo\"].hist(bins=30, alpha=0.5, label=\"GP\", color=gen_bar_color)\n",
    "run_filtered[\"tempo\"].hist(bins=30, alpha=0.5, label=\"Running\", color=run_bar_color)\n",
    "\n",
    "# put lines at the mean and +- standard deviation\n",
    "\n",
    "# plt.axvline(x=gm, color=gen_line_color)\n",
    "# plt.axvline(x=gm + gs, color=gen_line_color)\n",
    "# plt.axvline(x=gm - gs, color=gen_line_color)\n",
    "\n",
    "plt.axvline(x=rm, color=run_line_color)\n",
    "plt.axvline(x=run_filtered[\"tempo\"].describe()[\"25%\"], color=run_line_color)\n",
    "plt.axvline(x=run_filtered[\"tempo\"].describe()[\"75%\"], color=run_line_color)\n",
    "\n",
    "plt.legend()\n",
    "plt.grid(b=None)\n",
    "plt.show()"
   ]
  },
  {
   "cell_type": "markdown",
   "metadata": {},
   "source": [
    "A BPM between 104 and 136 could be deemed acceptable, but considering the density around the mean, I think it would be wise to stick as close to 122 BPM as possible.\n",
    "\n",
    "---------\n",
    "In the context of our initial assumption about wanting faster songs in our running playlists, we are able to reject the null and confirm our belief. However, on the whole, running songs are only 4 to 7 BPM higher. Upon looking at purely the running songs, we are able to create a safe range with an emphasis on sticking close to the mean of 122.\n",
    "\n",
    "Looking back to our initial checklist, we can cross fast off with a note to optimal BPM.\n",
    "\n",
    "- [x] Fast (122 BPM)\n",
    "- [ ] Energetic\n",
    "- [ ] Uplifting"
   ]
  },
  {
   "cell_type": "markdown",
   "metadata": {},
   "source": [
    "### An object in motion...\n",
    "\n",
    "Moving on to \"energetic\" we'll be looking at the \"energy\" metric [which is defined](https://developer.spotify.com/documentation/web-api/reference/tracks/get-audio-features/) as such:\n",
    ">Energy is a measure from 0.0 to 1.0 and represents a perceptual measure of intensity and activity. Typically, energetic tracks feel fast, loud, and noisy. For example, death metal has high energy, while a Bach prelude scores low on the scale. Perceptual features contributing to this attribute include dynamic range, perceived loudness, timbre, onset rate, and general entropy.\n",
    "\n",
    "----------\n",
    "The hypotheses we will be testing:\n",
    "\n",
    "$H_o$: The average energy level of running playlist songs is the *same* as the general population\n",
    "\n",
    "$H_a$: The average energy level of running playlist songs is *higher* than the general population\n",
    "\n",
    "---------------\n",
    "\n",
    "Let's check the distributions first."
   ]
  },
  {
   "cell_type": "code",
   "execution_count": 14,
   "metadata": {},
   "outputs": [
    {
     "data": {
      "image/png": "[encoded data removed]",
      "text/plain": [
       "<Figure size 432x288 with 1 Axes>"
      ]
     },
     "metadata": {
      "needs_background": "light"
     },
     "output_type": "display_data"
    },
    {
     "data": {
      "application/javascript": [
       "\n",
       "            setTimeout(function() {\n",
       "                var nbb_cell_id = 14;\n",
       "                var nbb_unformatted_code = \"gen[\\\"energy\\\"].hist(bins=30, alpha=0.5, color=gen_bar_color, label=\\\"GP\\\")\\nrunning[\\\"energy\\\"].hist(bins=30, alpha=0.5, color=run_bar_color, label=\\\"Running\\\")\\nplt.legend()\\nplt.grid(b=None)\\nplt.show()\";\n",
       "                var nbb_formatted_code = \"gen[\\\"energy\\\"].hist(bins=30, alpha=0.5, color=gen_bar_color, label=\\\"GP\\\")\\nrunning[\\\"energy\\\"].hist(bins=30, alpha=0.5, color=run_bar_color, label=\\\"Running\\\")\\nplt.legend()\\nplt.grid(b=None)\\nplt.show()\";\n",
       "                var nbb_cells = Jupyter.notebook.get_cells();\n",
       "                for (var i = 0; i < nbb_cells.length; ++i) {\n",
       "                    if (nbb_cells[i].input_prompt_number == nbb_cell_id) {\n",
       "                        if (nbb_cells[i].get_text() == nbb_unformatted_code) {\n",
       "                             nbb_cells[i].set_text(nbb_formatted_code);\n",
       "                        }\n",
       "                        break;\n",
       "                    }\n",
       "                }\n",
       "            }, 500);\n",
       "            "
      ],
      "text/plain": [
       "<IPython.core.display.Javascript object>"
      ]
     },
     "metadata": {},
     "output_type": "display_data"
    }
   ],
   "source": [
    "gen[\"energy\"].hist(bins=30, alpha=0.5, color=gen_bar_color, label=\"GP\")\n",
    "running[\"energy\"].hist(bins=30, alpha=0.5, color=run_bar_color, label=\"Running\")\n",
    "plt.legend()\n",
    "plt.grid(b=None)\n",
    "plt.show()"
   ]
  },
  {
   "cell_type": "markdown",
   "metadata": {},
   "source": [
    "Pretty definitive just by looking at it but we will do some quick analysis for posterity."
   ]
  },
  {
   "cell_type": "code",
   "execution_count": 15,
   "metadata": {},
   "outputs": [
    {
     "name": "stdout",
     "output_type": "stream",
     "text": [
      "DescribeResult(nobs=4455, minmax=(0.00561, 0.997), mean=0.6993501571268238, variance=0.034823354923459816, skewness=-1.0478527833385225, kurtosis=1.506434259458909)\n",
      "DescribeResult(nobs=5000, minmax=(0.0, 0.999), mean=0.49023799132, variance=0.07200988148859735, skewness=0.05983787850779529, kurtosis=-1.1116880449765025)\n"
     ]
    },
    {
     "data": {
      "application/javascript": [
       "\n",
       "            setTimeout(function() {\n",
       "                var nbb_cell_id = 15;\n",
       "                var nbb_unformatted_code = \"print(stats.describe(running[\\\"energy\\\"]))\\nprint(stats.describe(gen[\\\"energy\\\"]))\";\n",
       "                var nbb_formatted_code = \"print(stats.describe(running[\\\"energy\\\"]))\\nprint(stats.describe(gen[\\\"energy\\\"]))\";\n",
       "                var nbb_cells = Jupyter.notebook.get_cells();\n",
       "                for (var i = 0; i < nbb_cells.length; ++i) {\n",
       "                    if (nbb_cells[i].input_prompt_number == nbb_cell_id) {\n",
       "                        if (nbb_cells[i].get_text() == nbb_unformatted_code) {\n",
       "                             nbb_cells[i].set_text(nbb_formatted_code);\n",
       "                        }\n",
       "                        break;\n",
       "                    }\n",
       "                }\n",
       "            }, 500);\n",
       "            "
      ],
      "text/plain": [
       "<IPython.core.display.Javascript object>"
      ]
     },
     "metadata": {},
     "output_type": "display_data"
    }
   ],
   "source": [
    "print(stats.describe(running[\"energy\"]))\n",
    "print(stats.describe(gen[\"energy\"]))"
   ]
  },
  {
   "cell_type": "markdown",
   "metadata": {},
   "source": [
    "Kurtosis is a little high for both but still low enough to be treated as normal"
   ]
  },
  {
   "cell_type": "code",
   "execution_count": 16,
   "metadata": {},
   "outputs": [
    {
     "data": {
      "text/plain": [
       "0.0"
      ]
     },
     "execution_count": 16,
     "metadata": {},
     "output_type": "execute_result"
    },
    {
     "data": {
      "application/javascript": [
       "\n",
       "            setTimeout(function() {\n",
       "                var nbb_cell_id = 16;\n",
       "                var nbb_unformatted_code = \"_, p = stats.ttest_ind(running[\\\"energy\\\"], gen[\\\"energy\\\"])\\np\";\n",
       "                var nbb_formatted_code = \"_, p = stats.ttest_ind(running[\\\"energy\\\"], gen[\\\"energy\\\"])\\np\";\n",
       "                var nbb_cells = Jupyter.notebook.get_cells();\n",
       "                for (var i = 0; i < nbb_cells.length; ++i) {\n",
       "                    if (nbb_cells[i].input_prompt_number == nbb_cell_id) {\n",
       "                        if (nbb_cells[i].get_text() == nbb_unformatted_code) {\n",
       "                             nbb_cells[i].set_text(nbb_formatted_code);\n",
       "                        }\n",
       "                        break;\n",
       "                    }\n",
       "                }\n",
       "            }, 500);\n",
       "            "
      ],
      "text/plain": [
       "<IPython.core.display.Javascript object>"
      ]
     },
     "metadata": {},
     "output_type": "display_data"
    }
   ],
   "source": [
    "_, p = stats.ttest_ind(running[\"energy\"], gen[\"energy\"])\n",
    "p"
   ]
  },
  {
   "cell_type": "markdown",
   "metadata": {},
   "source": [
    "The p-value is so low the function rounds it down to zero, thus confirming our suspicion."
   ]
  },
  {
   "cell_type": "code",
   "execution_count": 17,
   "metadata": {},
   "outputs": [
    {
     "name": "stdout",
     "output_type": "stream",
     "text": [
      "On average, the energy level of running songs is 0.2 to 0.218 energy points higher than general population\n",
      "The average energy level of running songs is 0.699\n"
     ]
    },
    {
     "data": {
      "application/javascript": [
       "\n",
       "            setTimeout(function() {\n",
       "                var nbb_cell_id = 17;\n",
       "                var nbb_unformatted_code = \"l, h = get_95_ci(running[\\\"energy\\\"], gen[\\\"energy\\\"])\\nl, h\\nprint(\\n    f\\\"On average, the energy level of running songs is {round(l,3)} to {round(h,3)} energy points higher than general population\\\"\\n)\\nrem = running[\\\"energy\\\"].mean()\\nprint(f\\\"The average energy level of running songs is {round(rem, 3)}\\\")\";\n",
       "                var nbb_formatted_code = \"l, h = get_95_ci(running[\\\"energy\\\"], gen[\\\"energy\\\"])\\nl, h\\nprint(\\n    f\\\"On average, the energy level of running songs is {round(l,3)} to {round(h,3)} energy points higher than general population\\\"\\n)\\nrem = running[\\\"energy\\\"].mean()\\nprint(f\\\"The average energy level of running songs is {round(rem, 3)}\\\")\";\n",
       "                var nbb_cells = Jupyter.notebook.get_cells();\n",
       "                for (var i = 0; i < nbb_cells.length; ++i) {\n",
       "                    if (nbb_cells[i].input_prompt_number == nbb_cell_id) {\n",
       "                        if (nbb_cells[i].get_text() == nbb_unformatted_code) {\n",
       "                             nbb_cells[i].set_text(nbb_formatted_code);\n",
       "                        }\n",
       "                        break;\n",
       "                    }\n",
       "                }\n",
       "            }, 500);\n",
       "            "
      ],
      "text/plain": [
       "<IPython.core.display.Javascript object>"
      ]
     },
     "metadata": {},
     "output_type": "display_data"
    }
   ],
   "source": [
    "l, h = get_95_ci(running[\"energy\"], gen[\"energy\"])\n",
    "l, h\n",
    "print(\n",
    "    f\"On average, the energy level of running songs is {round(l,3)} to {round(h,3)} energy points higher than general population\"\n",
    ")\n",
    "rem = running[\"energy\"].mean()\n",
    "print(f\"The average energy level of running songs is {round(rem, 3)}\")"
   ]
  },
  {
   "cell_type": "markdown",
   "metadata": {},
   "source": [
    "Considering the definition put forth by Spotify for what \"energy\" means, 0.2 to 0.218 \"energy points\" is highly subject to interpretation. At the very least we are able to reject the null and point out that busier, louder, more energetic songs are more likely to be put on to a running playlist. \n",
    "\n",
    "- [x] Fast (122 BPM)\n",
    "- [x] Energetic\n",
    "- [ ] Uplifting"
   ]
  },
  {
   "cell_type": "markdown",
   "metadata": {},
   "source": [
    "### Big Mood\n",
    "\n",
    "Lastly, we'll look at how \"uplifting\" the songs are in running playlists. This is by far the most subjective of the three so it should be pointed out we should be careful with our conclusions on this matter. To measure this, we will be looking at the \"valence\" metric Spotify has which is [defined as](https://developer.spotify.com/documentation/web-api/reference/tracks/get-audio-features/):\n",
    "\n",
    "> A measure from 0.0 to 1.0 describing the musical positiveness conveyed by a track. Tracks with high valence sound more positive (e.g. happy, cheerful, euphoric), while tracks with low valence sound more negative (e.g. sad, depressed, angry).\n",
    "\n",
    "So for us, we'll be taking a higher valence score to mean that a song is more uplifting.\n",
    "\n",
    "---------------\n",
    "\n",
    "The hypotheses we will be testing:\n",
    "\n",
    "$H_o$: The average valence of running playlist songs is the *same* as the general population\n",
    "\n",
    "$H_a$: The average valence of running playlist songs is *higher* than the general population\n",
    "\n",
    "---------------\n",
    "\n",
    "Let's check the distributions first."
   ]
  },
  {
   "cell_type": "code",
   "execution_count": 18,
   "metadata": {},
   "outputs": [
    {
     "data": {
      "image/png": "[encoded data removed]",
      "text/plain": [
       "<Figure size 432x288 with 1 Axes>"
      ]
     },
     "metadata": {
      "needs_background": "light"
     },
     "output_type": "display_data"
    },
    {
     "data": {
      "application/javascript": [
       "\n",
       "            setTimeout(function() {\n",
       "                var nbb_cell_id = 18;\n",
       "                var nbb_unformatted_code = \"gen[\\\"valence\\\"].hist(bins=30, alpha=0.5, color=gen_bar_color, label=\\\"GP\\\")\\nrunning[\\\"valence\\\"].hist(bins=30, alpha=0.5, color=run_bar_color, label=\\\"Running\\\")\\nplt.legend()\\nplt.grid(b=None)\\nplt.show()\";\n",
       "                var nbb_formatted_code = \"gen[\\\"valence\\\"].hist(bins=30, alpha=0.5, color=gen_bar_color, label=\\\"GP\\\")\\nrunning[\\\"valence\\\"].hist(bins=30, alpha=0.5, color=run_bar_color, label=\\\"Running\\\")\\nplt.legend()\\nplt.grid(b=None)\\nplt.show()\";\n",
       "                var nbb_cells = Jupyter.notebook.get_cells();\n",
       "                for (var i = 0; i < nbb_cells.length; ++i) {\n",
       "                    if (nbb_cells[i].input_prompt_number == nbb_cell_id) {\n",
       "                        if (nbb_cells[i].get_text() == nbb_unformatted_code) {\n",
       "                             nbb_cells[i].set_text(nbb_formatted_code);\n",
       "                        }\n",
       "                        break;\n",
       "                    }\n",
       "                }\n",
       "            }, 500);\n",
       "            "
      ],
      "text/plain": [
       "<IPython.core.display.Javascript object>"
      ]
     },
     "metadata": {},
     "output_type": "display_data"
    }
   ],
   "source": [
    "gen[\"valence\"].hist(bins=30, alpha=0.5, color=gen_bar_color, label=\"GP\")\n",
    "running[\"valence\"].hist(bins=30, alpha=0.5, color=run_bar_color, label=\"Running\")\n",
    "plt.legend()\n",
    "plt.grid(b=None)\n",
    "plt.show()"
   ]
  },
  {
   "cell_type": "markdown",
   "metadata": {},
   "source": [
    "That's a little bit surprising. It looks as though running playlist songs are on the whole *less* positive than the general population."
   ]
  },
  {
   "cell_type": "code",
   "execution_count": 19,
   "metadata": {},
   "outputs": [
    {
     "name": "stdout",
     "output_type": "stream",
     "text": [
      "DescribeResult(nobs=4455, minmax=(0.0, 0.979), mean=0.4798855667789001, variance=0.05122042288772875, skewness=0.12503156096502394, kurtosis=-0.841613763018974)\n",
      "DescribeResult(nobs=5000, minmax=(0.0, 0.984), mean=0.5300693280000001, variance=0.06850174344963834, skewness=-0.12409209967838768, kurtosis=-1.0387476268367954)\n"
     ]
    },
    {
     "data": {
      "application/javascript": [
       "\n",
       "            setTimeout(function() {\n",
       "                var nbb_cell_id = 19;\n",
       "                var nbb_unformatted_code = \"#check for normality\\nprint(stats.describe(running[\\\"valence\\\"]))\\nprint(stats.describe(gen[\\\"valence\\\"]))\\n#close enough\";\n",
       "                var nbb_formatted_code = \"# check for normality\\nprint(stats.describe(running[\\\"valence\\\"]))\\nprint(stats.describe(gen[\\\"valence\\\"]))\\n# close enough\";\n",
       "                var nbb_cells = Jupyter.notebook.get_cells();\n",
       "                for (var i = 0; i < nbb_cells.length; ++i) {\n",
       "                    if (nbb_cells[i].input_prompt_number == nbb_cell_id) {\n",
       "                        if (nbb_cells[i].get_text() == nbb_unformatted_code) {\n",
       "                             nbb_cells[i].set_text(nbb_formatted_code);\n",
       "                        }\n",
       "                        break;\n",
       "                    }\n",
       "                }\n",
       "            }, 500);\n",
       "            "
      ],
      "text/plain": [
       "<IPython.core.display.Javascript object>"
      ]
     },
     "metadata": {},
     "output_type": "display_data"
    }
   ],
   "source": [
    "# check for normality\n",
    "print(stats.describe(running[\"valence\"]))\n",
    "print(stats.describe(gen[\"valence\"]))\n",
    "# close enough"
   ]
  },
  {
   "cell_type": "code",
   "execution_count": 20,
   "metadata": {},
   "outputs": [
    {
     "data": {
      "text/plain": [
       "4.6661619210136584e-23"
      ]
     },
     "execution_count": 20,
     "metadata": {},
     "output_type": "execute_result"
    },
    {
     "data": {
      "application/javascript": [
       "\n",
       "            setTimeout(function() {\n",
       "                var nbb_cell_id = 20;\n",
       "                var nbb_unformatted_code = \"_, p = stats.ttest_ind(running[\\\"valence\\\"], gen[\\\"valence\\\"])\\np\";\n",
       "                var nbb_formatted_code = \"_, p = stats.ttest_ind(running[\\\"valence\\\"], gen[\\\"valence\\\"])\\np\";\n",
       "                var nbb_cells = Jupyter.notebook.get_cells();\n",
       "                for (var i = 0; i < nbb_cells.length; ++i) {\n",
       "                    if (nbb_cells[i].input_prompt_number == nbb_cell_id) {\n",
       "                        if (nbb_cells[i].get_text() == nbb_unformatted_code) {\n",
       "                             nbb_cells[i].set_text(nbb_formatted_code);\n",
       "                        }\n",
       "                        break;\n",
       "                    }\n",
       "                }\n",
       "            }, 500);\n",
       "            "
      ],
      "text/plain": [
       "<IPython.core.display.Javascript object>"
      ]
     },
     "metadata": {},
     "output_type": "display_data"
    }
   ],
   "source": [
    "_, p = stats.ttest_ind(running[\"valence\"], gen[\"valence\"])\n",
    "p"
   ]
  },
  {
   "cell_type": "code",
   "execution_count": 21,
   "metadata": {},
   "outputs": [
    {
     "name": "stdout",
     "output_type": "stream",
     "text": [
      "On average, the valence of running songs is 0.04 to 0.06 energy points lower than general population\n",
      "The average valence of running songs is 0.48\n"
     ]
    },
    {
     "data": {
      "application/javascript": [
       "\n",
       "            setTimeout(function() {\n",
       "                var nbb_cell_id = 21;\n",
       "                var nbb_unformatted_code = \"l, h = get_95_ci(running[\\\"valence\\\"], gen[\\\"valence\\\"])\\nl, h\\nprint(\\n    f\\\"On average, the valence of running songs is {abs(round(h,3))} to {abs(round(l,3))} energy points lower than general population\\\"\\n)\\nrvm = running[\\\"valence\\\"].mean()\\nprint(f\\\"The average valence of running songs is {round(rvm, 3)}\\\")\";\n",
       "                var nbb_formatted_code = \"l, h = get_95_ci(running[\\\"valence\\\"], gen[\\\"valence\\\"])\\nl, h\\nprint(\\n    f\\\"On average, the valence of running songs is {abs(round(h,3))} to {abs(round(l,3))} energy points lower than general population\\\"\\n)\\nrvm = running[\\\"valence\\\"].mean()\\nprint(f\\\"The average valence of running songs is {round(rvm, 3)}\\\")\";\n",
       "                var nbb_cells = Jupyter.notebook.get_cells();\n",
       "                for (var i = 0; i < nbb_cells.length; ++i) {\n",
       "                    if (nbb_cells[i].input_prompt_number == nbb_cell_id) {\n",
       "                        if (nbb_cells[i].get_text() == nbb_unformatted_code) {\n",
       "                             nbb_cells[i].set_text(nbb_formatted_code);\n",
       "                        }\n",
       "                        break;\n",
       "                    }\n",
       "                }\n",
       "            }, 500);\n",
       "            "
      ],
      "text/plain": [
       "<IPython.core.display.Javascript object>"
      ]
     },
     "metadata": {},
     "output_type": "display_data"
    }
   ],
   "source": [
    "l, h = get_95_ci(running[\"valence\"], gen[\"valence\"])\n",
    "l, h\n",
    "print(\n",
    "    f\"On average, the valence of running songs is {abs(round(h,3))} to {abs(round(l,3))} energy points lower than general population\"\n",
    ")\n",
    "rvm = running[\"valence\"].mean()\n",
    "print(f\"The average valence of running songs is {round(rvm, 3)}\")"
   ]
  },
  {
   "cell_type": "markdown",
   "metadata": {},
   "source": [
    "We do not confirm our initial assumption that running songs are more upbeat, but we are at least able to reject the null that the average \"mood\" (valence) is the same as the general population. Looking at the 95% confidence interval, it could be argued that the difference in means isn't substantial enough to for an actionable insight using the data. Although, I do think we can say with some amount of confidence that it is safer to err on the side of less positive sounding songs. "
   ]
  },
  {
   "cell_type": "markdown",
   "metadata": {},
   "source": [
    "A final look at our checklist\n",
    "\n",
    "- [x] Fast (122 BPM)\n",
    "- [x] Energetic\n",
    "- [ ] ~~Uplifting~~\n",
    "\n",
    "\n",
    "(One final note, maybe don't make an acoustic song)"
   ]
  },
  {
   "cell_type": "code",
   "execution_count": 24,
   "metadata": {
    "scrolled": true
   },
   "outputs": [
    {
     "data": {
      "image/png": "[encoded data removed]",
      "text/plain": [
       "<Figure size 432x288 with 1 Axes>"
      ]
     },
     "metadata": {
      "needs_background": "light"
     },
     "output_type": "display_data"
    },
    {
     "data": {
      "application/javascript": [
       "\n",
       "            setTimeout(function() {\n",
       "                var nbb_cell_id = 24;\n",
       "                var nbb_unformatted_code = \"gen[\\\"acousticness\\\"].hist(bins=30, alpha=0.5, color=gen_bar_color, label=\\\"GP\\\")\\nrunning[\\\"acousticness\\\"].hist(bins=30, alpha=0.5, color=run_bar_color, label=\\\"Running\\\")\\nplt.legend()\\nplt.grid(b=None)\\nplt.show()\";\n",
       "                var nbb_formatted_code = \"gen[\\\"acousticness\\\"].hist(bins=30, alpha=0.5, color=gen_bar_color, label=\\\"GP\\\")\\nrunning[\\\"acousticness\\\"].hist(bins=30, alpha=0.5, color=run_bar_color, label=\\\"Running\\\")\\nplt.legend()\\nplt.grid(b=None)\\nplt.show()\";\n",
       "                var nbb_cells = Jupyter.notebook.get_cells();\n",
       "                for (var i = 0; i < nbb_cells.length; ++i) {\n",
       "                    if (nbb_cells[i].input_prompt_number == nbb_cell_id) {\n",
       "                        if (nbb_cells[i].get_text() == nbb_unformatted_code) {\n",
       "                             nbb_cells[i].set_text(nbb_formatted_code);\n",
       "                        }\n",
       "                        break;\n",
       "                    }\n",
       "                }\n",
       "            }, 500);\n",
       "            "
      ],
      "text/plain": [
       "<IPython.core.display.Javascript object>"
      ]
     },
     "metadata": {},
     "output_type": "display_data"
    }
   ],
   "source": [
    "gen[\"acousticness\"].hist(bins=30, alpha=0.5, color=gen_bar_color, label=\"GP\")\n",
    "running[\"acousticness\"].hist(bins=30, alpha=0.5, color=run_bar_color, label=\"Running\")\n",
    "plt.legend()\n",
    "plt.grid(b=None)\n",
    "plt.show()"
   ]
  },
  {
   "cell_type": "code",
   "execution_count": 25,
   "metadata": {},
   "outputs": [
    {
     "data": {
      "text/plain": [
       "0.0"
      ]
     },
     "execution_count": 25,
     "metadata": {},
     "output_type": "execute_result"
    },
    {
     "data": {
      "application/javascript": [
       "\n",
       "            setTimeout(function() {\n",
       "                var nbb_cell_id = 25;\n",
       "                var nbb_unformatted_code = \"_, p = stats.mannwhitneyu(running[\\\"acousticness\\\"], gen[\\\"acousticness\\\"])\\np #Again, p is so low it gets rounded to 0\";\n",
       "                var nbb_formatted_code = \"_, p = stats.mannwhitneyu(running[\\\"acousticness\\\"], gen[\\\"acousticness\\\"])\\np  # Again, p is so low it gets rounded to 0\";\n",
       "                var nbb_cells = Jupyter.notebook.get_cells();\n",
       "                for (var i = 0; i < nbb_cells.length; ++i) {\n",
       "                    if (nbb_cells[i].input_prompt_number == nbb_cell_id) {\n",
       "                        if (nbb_cells[i].get_text() == nbb_unformatted_code) {\n",
       "                             nbb_cells[i].set_text(nbb_formatted_code);\n",
       "                        }\n",
       "                        break;\n",
       "                    }\n",
       "                }\n",
       "            }, 500);\n",
       "            "
      ],
      "text/plain": [
       "<IPython.core.display.Javascript object>"
      ]
     },
     "metadata": {},
     "output_type": "display_data"
    }
   ],
   "source": [
    "_, p = stats.mannwhitneyu(running[\"acousticness\"], gen[\"acousticness\"])\n",
    "p  # Again, p is so low it gets rounded to 0"
   ]
  },
  {
   "cell_type": "code",
   "execution_count": 29,
   "metadata": {
    "scrolled": false
   },
   "outputs": [
    {
     "name": "stdout",
     "output_type": "stream",
     "text": [
      "On average the 'acousticness' is 0.29 to 0.33 points lower\n",
      "The Common Language Effect Size is 0.74\n",
      "The Ranked Biserial Correlation is 0.49\n"
     ]
    },
    {
     "data": {
      "application/javascript": [
       "\n",
       "            setTimeout(function() {\n",
       "                var nbb_cell_id = 29;\n",
       "                var nbb_unformatted_code = \"h, l = calc_non_param_ci(running[\\\"acousticness\\\"], gen[\\\"acousticness\\\"])\\ncles_aco = cles_ind(running[\\\"acousticness\\\"], gen[\\\"acousticness\\\"])\\nrbc_aco = rbc_ind(running[\\\"acousticness\\\"], gen[\\\"acousticness\\\"])\\n\\nprint(\\n    f\\\"On average the 'acousticness' is {abs(round(l, 2))} to {abs(round(h, 2))} points lower\\\"\\n)\\nprint(f\\\"The Common Language Effect Size is {round(cles_aco, 2)}\\\")\\nprint(f\\\"The Ranked Biserial Correlation is {round(rbc_aco, 2)}\\\")\";\n",
       "                var nbb_formatted_code = \"h, l = calc_non_param_ci(running[\\\"acousticness\\\"], gen[\\\"acousticness\\\"])\\ncles_aco = cles_ind(running[\\\"acousticness\\\"], gen[\\\"acousticness\\\"])\\nrbc_aco = rbc_ind(running[\\\"acousticness\\\"], gen[\\\"acousticness\\\"])\\n\\nprint(\\n    f\\\"On average the 'acousticness' is {abs(round(l, 2))} to {abs(round(h, 2))} points lower\\\"\\n)\\nprint(f\\\"The Common Language Effect Size is {round(cles_aco, 2)}\\\")\\nprint(f\\\"The Ranked Biserial Correlation is {round(rbc_aco, 2)}\\\")\";\n",
       "                var nbb_cells = Jupyter.notebook.get_cells();\n",
       "                for (var i = 0; i < nbb_cells.length; ++i) {\n",
       "                    if (nbb_cells[i].input_prompt_number == nbb_cell_id) {\n",
       "                        if (nbb_cells[i].get_text() == nbb_unformatted_code) {\n",
       "                             nbb_cells[i].set_text(nbb_formatted_code);\n",
       "                        }\n",
       "                        break;\n",
       "                    }\n",
       "                }\n",
       "            }, 500);\n",
       "            "
      ],
      "text/plain": [
       "<IPython.core.display.Javascript object>"
      ]
     },
     "metadata": {},
     "output_type": "display_data"
    }
   ],
   "source": [
    "h, l = calc_non_param_ci(running[\"acousticness\"], gen[\"acousticness\"])\n",
    "cles_aco = cles_ind(running[\"acousticness\"], gen[\"acousticness\"])\n",
    "rbc_aco = rbc_ind(running[\"acousticness\"], gen[\"acousticness\"])\n",
    "\n",
    "print(\n",
    "    f\"On average the 'acousticness' is {abs(round(l, 2))} to {abs(round(h, 2))} points lower\"\n",
    ")\n",
    "print(f\"The Common Language Effect Size is {round(cles_aco, 2)}\")\n",
    "print(f\"The Ranked Biserial Correlation is {round(rbc_aco, 2)}\")"
   ]
  },
  {
   "cell_type": "markdown",
   "metadata": {},
   "source": [
    "All of this points to a strong conclusion that making an acoustic song is a bad idea if your goal is to get on running playlists."
   ]
  },
  {
   "cell_type": "markdown",
   "metadata": {},
   "source": [
    "## Final Thoughts on Running Playlists\n",
    "\n",
    "Everything considered, we are able to confidently reject the overall null hypothesis that the attributes of running songs are no different than the general population. We are now able to establish a set of guidelines that a musician can reference if their goal is to get their music on playlists used for running. Definitively:\n",
    "- Fast tempo around 122 BPM\n",
    "- High energy\n",
    "- Not acoustic\n",
    "\n",
    "And not so definitively:\n",
    "\n",
    "- Less positive overall mood\n",
    "\n",
    "It is important to note here that the data used to represent the general population skews significantly from what is shown on the API reference documentation. There is a clear bias towards acoustic music, and consqeuently, the energy is more normal as opposed to skewing towards higher energy. That being said, I am still confident in the conclusions drawn from data at hand but it might be worth revisiting after coming up with a better way of sampling the general population."
   ]
  },
  {
   "cell_type": "markdown",
   "metadata": {},
   "source": [
    "With such an insight, I'm reminded of something I heard once about music and our emotions that I can paraphrase here. \"Music gives us the space to fully realize our own emotions\"."
   ]
  }
 ],
 "metadata": {
  "kernelspec": {
   "display_name": "Python 3",
   "language": "python",
   "name": "python3"
  },
  "language_info": {
   "codemirror_mode": {
    "name": "ipython",
    "version": 3
   },
   "file_extension": ".py",
   "mimetype": "text/x-python",
   "name": "python",
   "nbconvert_exporter": "python",
   "pygments_lexer": "ipython3",
   "version": "3.7.6"
  }
 },
 "nbformat": 4,
 "nbformat_minor": 4
}
