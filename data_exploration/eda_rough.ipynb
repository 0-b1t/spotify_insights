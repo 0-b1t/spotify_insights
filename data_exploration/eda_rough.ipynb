{
 "cells": [
  {
   "cell_type": "code",
   "execution_count": 3,
   "metadata": {},
   "outputs": [
    {
     "data": {
      "application/javascript": [
       "\n",
       "            setTimeout(function() {\n",
       "                var nbb_cell_id = 3;\n",
       "                var nbb_unformatted_code = \"%reload_ext nb_black\";\n",
       "                var nbb_formatted_code = \"%reload_ext nb_black\";\n",
       "                var nbb_cells = Jupyter.notebook.get_cells();\n",
       "                for (var i = 0; i < nbb_cells.length; ++i) {\n",
       "                    if (nbb_cells[i].input_prompt_number == nbb_cell_id) {\n",
       "                        if (nbb_cells[i].get_text() == nbb_unformatted_code) {\n",
       "                             nbb_cells[i].set_text(nbb_formatted_code);\n",
       "                        }\n",
       "                        break;\n",
       "                    }\n",
       "                }\n",
       "            }, 500);\n",
       "            "
      ],
      "text/plain": [
       "<IPython.core.display.Javascript object>"
      ]
     },
     "metadata": {},
     "output_type": "display_data"
    },
    {
     "data": {
      "application/javascript": [
       "\n",
       "            setTimeout(function() {\n",
       "                var nbb_cell_id = 3;\n",
       "                var nbb_unformatted_code = \"%reload_ext nb_black\";\n",
       "                var nbb_formatted_code = \"%reload_ext nb_black\";\n",
       "                var nbb_cells = Jupyter.notebook.get_cells();\n",
       "                for (var i = 0; i < nbb_cells.length; ++i) {\n",
       "                    if (nbb_cells[i].input_prompt_number == nbb_cell_id) {\n",
       "                        if (nbb_cells[i].get_text() == nbb_unformatted_code) {\n",
       "                             nbb_cells[i].set_text(nbb_formatted_code);\n",
       "                        }\n",
       "                        break;\n",
       "                    }\n",
       "                }\n",
       "            }, 500);\n",
       "            "
      ],
      "text/plain": [
       "<IPython.core.display.Javascript object>"
      ]
     },
     "metadata": {},
     "output_type": "display_data"
    }
   ],
   "source": [
    "%reload_ext nb_black"
   ]
  },
  {
   "cell_type": "markdown",
   "metadata": {},
   "source": [
    "# Analysis\n",
    "\n",
    "In this analysis I will be looking to answer the question what attributes, that differ from the general population of music, are typical of songs taken from a subset of playlists.\n",
    "\n",
    "-----------------\n",
    "$H_o$: The attributes of songs in specified playlists are no different than the general population.\n",
    "\n",
    "$H_a$: The attributes of songs in specified playlists are measurably different than the general population\n",
    "\n",
    "--------------\n",
    "\n",
    "First, I will be covering songs found in 'running' playlists. Then, I will do a similar analysis with songs found in 'study' playlists. The attributes covered will include tempo, valence (mood), instrumentalness, energy, acousticness and speechiness. I will explain what each of those mean as we go on but you can find explanations [here](https://developer.spotify.com/documentation/web-api/reference/tracks/get-audio-features/)."
   ]
  },
  {
   "cell_type": "code",
   "execution_count": 4,
   "metadata": {},
   "outputs": [
    {
     "data": {
      "application/javascript": [
       "\n",
       "            setTimeout(function() {\n",
       "                var nbb_cell_id = 4;\n",
       "                var nbb_unformatted_code = \"import pandas as pd\\nimport numpy as np\\nfrom scipy import stats\\nfrom statsmodels.graphics.gofplots import qqplot\\nfrom statsmodels.stats.multitest import multipletests\\nimport seaborn as sns\\nimport matplotlib.pyplot as plt\\nimport statsmodels.api as sm\\nfrom non_param_effect_size import calc_non_param_ci, cles_ind, rbc_ind\\n\\n%matplotlib inline\\n\\ndef get_95_ci(x1, x2):\\n    \\\"\\\"\\\"Calculate a 95% CI for 2 1d numpy arrays\\\"\\\"\\\"\\n    signal = x1.mean() - x2.mean()\\n    noise = np.sqrt(x1.var() / x1.size + x2.var() / x2.size)\\n\\n    ci_lo = signal - 1.96 * noise\\n    ci_hi = signal + 1.96 * noise\\n\\n    return ci_lo, ci_hi\";\n",
       "                var nbb_formatted_code = \"import pandas as pd\\nimport numpy as np\\nfrom scipy import stats\\nfrom statsmodels.graphics.gofplots import qqplot\\nfrom statsmodels.stats.multitest import multipletests\\nimport seaborn as sns\\nimport matplotlib.pyplot as plt\\nimport statsmodels.api as sm\\nfrom non_param_effect_size import calc_non_param_ci, cles_ind, rbc_ind\\n\\n%matplotlib inline\\n\\n\\ndef get_95_ci(x1, x2):\\n    \\\"\\\"\\\"Calculate a 95% CI for 2 1d numpy arrays\\\"\\\"\\\"\\n    signal = x1.mean() - x2.mean()\\n    noise = np.sqrt(x1.var() / x1.size + x2.var() / x2.size)\\n\\n    ci_lo = signal - 1.96 * noise\\n    ci_hi = signal + 1.96 * noise\\n\\n    return ci_lo, ci_hi\";\n",
       "                var nbb_cells = Jupyter.notebook.get_cells();\n",
       "                for (var i = 0; i < nbb_cells.length; ++i) {\n",
       "                    if (nbb_cells[i].input_prompt_number == nbb_cell_id) {\n",
       "                        if (nbb_cells[i].get_text() == nbb_unformatted_code) {\n",
       "                             nbb_cells[i].set_text(nbb_formatted_code);\n",
       "                        }\n",
       "                        break;\n",
       "                    }\n",
       "                }\n",
       "            }, 500);\n",
       "            "
      ],
      "text/plain": [
       "<IPython.core.display.Javascript object>"
      ]
     },
     "metadata": {},
     "output_type": "display_data"
    },
    {
     "data": {
      "application/javascript": [
       "\n",
       "            setTimeout(function() {\n",
       "                var nbb_cell_id = 4;\n",
       "                var nbb_unformatted_code = \"import pandas as pd\\nimport numpy as np\\nfrom scipy import stats\\nfrom statsmodels.graphics.gofplots import qqplot\\nfrom statsmodels.stats.multitest import multipletests\\nimport seaborn as sns\\nimport matplotlib.pyplot as plt\\nimport statsmodels.api as sm\\nfrom non_param_effect_size import calc_non_param_ci, cles_ind, rbc_ind\\n\\n%matplotlib inline\\n\\ndef get_95_ci(x1, x2):\\n    \\\"\\\"\\\"Calculate a 95% CI for 2 1d numpy arrays\\\"\\\"\\\"\\n    signal = x1.mean() - x2.mean()\\n    noise = np.sqrt(x1.var() / x1.size + x2.var() / x2.size)\\n\\n    ci_lo = signal - 1.96 * noise\\n    ci_hi = signal + 1.96 * noise\\n\\n    return ci_lo, ci_hi\";\n",
       "                var nbb_formatted_code = \"import pandas as pd\\nimport numpy as np\\nfrom scipy import stats\\nfrom statsmodels.graphics.gofplots import qqplot\\nfrom statsmodels.stats.multitest import multipletests\\nimport seaborn as sns\\nimport matplotlib.pyplot as plt\\nimport statsmodels.api as sm\\nfrom non_param_effect_size import calc_non_param_ci, cles_ind, rbc_ind\\n\\n%matplotlib inline\\n\\n\\ndef get_95_ci(x1, x2):\\n    \\\"\\\"\\\"Calculate a 95% CI for 2 1d numpy arrays\\\"\\\"\\\"\\n    signal = x1.mean() - x2.mean()\\n    noise = np.sqrt(x1.var() / x1.size + x2.var() / x2.size)\\n\\n    ci_lo = signal - 1.96 * noise\\n    ci_hi = signal + 1.96 * noise\\n\\n    return ci_lo, ci_hi\";\n",
       "                var nbb_cells = Jupyter.notebook.get_cells();\n",
       "                for (var i = 0; i < nbb_cells.length; ++i) {\n",
       "                    if (nbb_cells[i].input_prompt_number == nbb_cell_id) {\n",
       "                        if (nbb_cells[i].get_text() == nbb_unformatted_code) {\n",
       "                             nbb_cells[i].set_text(nbb_formatted_code);\n",
       "                        }\n",
       "                        break;\n",
       "                    }\n",
       "                }\n",
       "            }, 500);\n",
       "            "
      ],
      "text/plain": [
       "<IPython.core.display.Javascript object>"
      ]
     },
     "metadata": {},
     "output_type": "display_data"
    }
   ],
   "source": [
    "import pandas as pd\n",
    "import numpy as np\n",
    "from scipy import stats\n",
    "from statsmodels.graphics.gofplots import qqplot\n",
    "from statsmodels.stats.multitest import multipletests\n",
    "import seaborn as sns\n",
    "import matplotlib.pyplot as plt\n",
    "import statsmodels.api as sm\n",
    "from non_param_effect_size import calc_non_param_ci, cles_ind, rbc_ind\n",
    "\n",
    "%matplotlib inline\n",
    "\n",
    "\n",
    "def get_95_ci(x1, x2):\n",
    "    \"\"\"Calculate a 95% CI for 2 1d numpy arrays\"\"\"\n",
    "    signal = x1.mean() - x2.mean()\n",
    "    noise = np.sqrt(x1.var() / x1.size + x2.var() / x2.size)\n",
    "\n",
    "    ci_lo = signal - 1.96 * noise\n",
    "    ci_hi = signal + 1.96 * noise\n",
    "\n",
    "    return ci_lo, ci_hi"
   ]
  },
  {
   "cell_type": "code",
   "execution_count": null,
   "metadata": {},
   "outputs": [],
   "source": [
    "#initialize colors to be used for visualizations\n"
   ]
  },
  {
   "cell_type": "markdown",
   "metadata": {},
   "source": [
    "### Run, Run, Run\n",
    "\n",
    "First, I would like to outline some base assumptions we might have about how a 'running' song may differ from the crowd. I personally am not a runner but if I were to create a running playlist, these are some of the attributes I would look for:\n",
    "- [ ] Fast\n",
    "- [ ] Energetic\n",
    "- [ ] Uplifting\n",
    "\n",
    "Fast to push my pace. Energetic to pump me up. And uplifting to escape from the pain."
   ]
  },
  {
   "cell_type": "code",
   "execution_count": 8,
   "metadata": {},
   "outputs": [
    {
     "data": {
      "application/javascript": [
       "\n",
       "            setTimeout(function() {\n",
       "                var nbb_cell_id = 8;\n",
       "                var nbb_unformatted_code = \"running = pd.read_csv(\\\"../data/running_playlist_tracks.csv\\\")\\nrunning.drop(columns=\\\"Unnamed: 0\\\", inplace=True)\\ngen = pd.read_csv(\\\"../data/sampled_set.csv\\\")\\ngen.drop(columns=\\\"Unnamed: 0\\\", inplace=True)\";\n",
       "                var nbb_formatted_code = \"running = pd.read_csv(\\\"../data/running_playlist_tracks.csv\\\")\\nrunning.drop(columns=\\\"Unnamed: 0\\\", inplace=True)\\ngen = pd.read_csv(\\\"../data/sampled_set.csv\\\")\\ngen.drop(columns=\\\"Unnamed: 0\\\", inplace=True)\";\n",
       "                var nbb_cells = Jupyter.notebook.get_cells();\n",
       "                for (var i = 0; i < nbb_cells.length; ++i) {\n",
       "                    if (nbb_cells[i].input_prompt_number == nbb_cell_id) {\n",
       "                        if (nbb_cells[i].get_text() == nbb_unformatted_code) {\n",
       "                             nbb_cells[i].set_text(nbb_formatted_code);\n",
       "                        }\n",
       "                        break;\n",
       "                    }\n",
       "                }\n",
       "            }, 500);\n",
       "            "
      ],
      "text/plain": [
       "<IPython.core.display.Javascript object>"
      ]
     },
     "metadata": {},
     "output_type": "display_data"
    },
    {
     "data": {
      "application/javascript": [
       "\n",
       "            setTimeout(function() {\n",
       "                var nbb_cell_id = 8;\n",
       "                var nbb_unformatted_code = \"running = pd.read_csv(\\\"../data/running_playlist_tracks.csv\\\")\\nrunning.drop(columns=\\\"Unnamed: 0\\\", inplace=True)\\ngen = pd.read_csv(\\\"../data/sampled_set.csv\\\")\\ngen.drop(columns=\\\"Unnamed: 0\\\", inplace=True)\";\n",
       "                var nbb_formatted_code = \"running = pd.read_csv(\\\"../data/running_playlist_tracks.csv\\\")\\nrunning.drop(columns=\\\"Unnamed: 0\\\", inplace=True)\\ngen = pd.read_csv(\\\"../data/sampled_set.csv\\\")\\ngen.drop(columns=\\\"Unnamed: 0\\\", inplace=True)\";\n",
       "                var nbb_cells = Jupyter.notebook.get_cells();\n",
       "                for (var i = 0; i < nbb_cells.length; ++i) {\n",
       "                    if (nbb_cells[i].input_prompt_number == nbb_cell_id) {\n",
       "                        if (nbb_cells[i].get_text() == nbb_unformatted_code) {\n",
       "                             nbb_cells[i].set_text(nbb_formatted_code);\n",
       "                        }\n",
       "                        break;\n",
       "                    }\n",
       "                }\n",
       "            }, 500);\n",
       "            "
      ],
      "text/plain": [
       "<IPython.core.display.Javascript object>"
      ]
     },
     "metadata": {},
     "output_type": "display_data"
    }
   ],
   "source": [
    "running = pd.read_csv(\"../data/running_playlist_tracks.csv\")\n",
    "running.drop(columns=\"Unnamed: 0\", inplace=True)\n",
    "gen = pd.read_csv(\"../data/sampled_set.csv\")\n",
    "gen.drop(columns=\"Unnamed: 0\", inplace=True)"
   ]
  },
  {
   "cell_type": "markdown",
   "metadata": {},
   "source": [
    "#### Up the Tempo\n",
    "\n",
    "The internal clock of a song is measured in BPM or beats per minute. The higher the BPM. the faster the song. The hypotheses:\n",
    "\n",
    "$H_o$: The average tempo of running playlist songs is the *same* as the general population\n",
    "\n",
    "$H_a$: The average tempo of running playlist songs is *higher* than the general population\n",
    "\n",
    "Let's start by just looking at the distributions:"
   ]
  },
  {
   "cell_type": "code",
   "execution_count": 16,
   "metadata": {
    "scrolled": true
   },
   "outputs": [
    {
     "data": {
      "image/png": "[encoded data removed]",
      "text/plain": [
       "<Figure size 432x288 with 1 Axes>"
      ]
     },
     "metadata": {
      "needs_background": "light"
     },
     "output_type": "display_data"
    },
    {
     "data": {
      "application/javascript": [
       "\n",
       "            setTimeout(function() {\n",
       "                var nbb_cell_id = 16;\n",
       "                var nbb_unformatted_code = \"# Get rid of zeros because they represent either incomplete or erroneous data.\\ngen_filtered = gen[gen[\\\"tempo\\\"] != 0]\\nrun_filtered = running[running[\\\"tempo\\\"] != 0]\\ngen_filtered[\\\"tempo\\\"].hist(bins=30, alpha=0.5, label=\\\"GP\\\", color=\\\"#e6e0fd\\\")\\nrun_filtered[\\\"tempo\\\"].hist(bins=30, alpha=0.5, label=\\\"Running\\\", color = '#56e5cc')\\nplt.legend()\\nplt.grid(b=None)\\nplt.show()\";\n",
       "                var nbb_formatted_code = \"# Get rid of zeros because they represent either incomplete or erroneous data.\\ngen_filtered = gen[gen[\\\"tempo\\\"] != 0]\\nrun_filtered = running[running[\\\"tempo\\\"] != 0]\\ngen_filtered[\\\"tempo\\\"].hist(bins=30, alpha=0.5, label=\\\"GP\\\", color=\\\"#e6e0fd\\\")\\nrun_filtered[\\\"tempo\\\"].hist(bins=30, alpha=0.5, label=\\\"Running\\\", color=\\\"#56e5cc\\\")\\nplt.legend()\\nplt.grid(b=None)\\nplt.show()\";\n",
       "                var nbb_cells = Jupyter.notebook.get_cells();\n",
       "                for (var i = 0; i < nbb_cells.length; ++i) {\n",
       "                    if (nbb_cells[i].input_prompt_number == nbb_cell_id) {\n",
       "                        if (nbb_cells[i].get_text() == nbb_unformatted_code) {\n",
       "                             nbb_cells[i].set_text(nbb_formatted_code);\n",
       "                        }\n",
       "                        break;\n",
       "                    }\n",
       "                }\n",
       "            }, 500);\n",
       "            "
      ],
      "text/plain": [
       "<IPython.core.display.Javascript object>"
      ]
     },
     "metadata": {},
     "output_type": "display_data"
    },
    {
     "data": {
      "application/javascript": [
       "\n",
       "            setTimeout(function() {\n",
       "                var nbb_cell_id = 16;\n",
       "                var nbb_unformatted_code = \"# Get rid of zeros because they represent either incomplete or erroneous data.\\ngen_filtered = gen[gen[\\\"tempo\\\"] != 0]\\nrun_filtered = running[running[\\\"tempo\\\"] != 0]\\ngen_filtered[\\\"tempo\\\"].hist(bins=30, alpha=0.5, label=\\\"GP\\\", color=\\\"#e6e0fd\\\")\\nrun_filtered[\\\"tempo\\\"].hist(bins=30, alpha=0.5, label=\\\"Running\\\", color = '#56e5cc')\\nplt.legend()\\nplt.grid(b=None)\\nplt.show()\";\n",
       "                var nbb_formatted_code = \"# Get rid of zeros because they represent either incomplete or erroneous data.\\ngen_filtered = gen[gen[\\\"tempo\\\"] != 0]\\nrun_filtered = running[running[\\\"tempo\\\"] != 0]\\ngen_filtered[\\\"tempo\\\"].hist(bins=30, alpha=0.5, label=\\\"GP\\\", color=\\\"#e6e0fd\\\")\\nrun_filtered[\\\"tempo\\\"].hist(bins=30, alpha=0.5, label=\\\"Running\\\", color=\\\"#56e5cc\\\")\\nplt.legend()\\nplt.grid(b=None)\\nplt.show()\";\n",
       "                var nbb_cells = Jupyter.notebook.get_cells();\n",
       "                for (var i = 0; i < nbb_cells.length; ++i) {\n",
       "                    if (nbb_cells[i].input_prompt_number == nbb_cell_id) {\n",
       "                        if (nbb_cells[i].get_text() == nbb_unformatted_code) {\n",
       "                             nbb_cells[i].set_text(nbb_formatted_code);\n",
       "                        }\n",
       "                        break;\n",
       "                    }\n",
       "                }\n",
       "            }, 500);\n",
       "            "
      ],
      "text/plain": [
       "<IPython.core.display.Javascript object>"
      ]
     },
     "metadata": {},
     "output_type": "display_data"
    }
   ],
   "source": [
    "# Get rid of zeros because they represent either incomplete or erroneous data.\n",
    "gen_filtered = gen[gen[\"tempo\"] != 0]\n",
    "run_filtered = running[running[\"tempo\"] != 0]\n",
    "gen_filtered[\"tempo\"].hist(bins=30, alpha=0.5, label=\"GP\", color=\"#e6e0fd\")\n",
    "run_filtered[\"tempo\"].hist(bins=30, alpha=0.5, label=\"Running\", color=\"#56e5cc\")\n",
    "plt.legend()\n",
    "plt.grid(b=None)\n",
    "plt.show()"
   ]
  }
 ],
 "metadata": {
  "kernelspec": {
   "display_name": "Python 3",
   "language": "python",
   "name": "python3"
  },
  "language_info": {
   "codemirror_mode": {
    "name": "ipython",
    "version": 3
   },
   "file_extension": ".py",
   "mimetype": "text/x-python",
   "name": "python",
   "nbconvert_exporter": "python",
   "pygments_lexer": "ipython3",
   "version": "3.7.6"
  }
 },
 "nbformat": 4,
 "nbformat_minor": 4
}
