{
 "cells": [
  {
   "cell_type": "code",
   "execution_count": 1,
   "metadata": {},
   "outputs": [
    {
     "data": {
      "application/javascript": [
       "\n",
       "            setTimeout(function() {\n",
       "                var nbb_cell_id = 1;\n",
       "                var nbb_unformatted_code = \"#!pip install spotipy --upgrade\\n%reload_ext nb_black\";\n",
       "                var nbb_formatted_code = \"#!pip install spotipy --upgrade\\n%reload_ext nb_black\";\n",
       "                var nbb_cells = Jupyter.notebook.get_cells();\n",
       "                for (var i = 0; i < nbb_cells.length; ++i) {\n",
       "                    if (nbb_cells[i].input_prompt_number == nbb_cell_id) {\n",
       "                        if (nbb_cells[i].get_text() == nbb_unformatted_code) {\n",
       "                             nbb_cells[i].set_text(nbb_formatted_code);\n",
       "                        }\n",
       "                        break;\n",
       "                    }\n",
       "                }\n",
       "            }, 500);\n",
       "            "
      ],
      "text/plain": [
       "<IPython.core.display.Javascript object>"
      ]
     },
     "metadata": {},
     "output_type": "display_data"
    }
   ],
   "source": [
    "#!pip install spotipy --upgrade\n",
    "%reload_ext nb_black"
   ]
  },
  {
   "cell_type": "code",
   "execution_count": 2,
   "metadata": {},
   "outputs": [
    {
     "data": {
      "application/javascript": [
       "\n",
       "            setTimeout(function() {\n",
       "                var nbb_cell_id = 2;\n",
       "                var nbb_unformatted_code = \"import pandas as pd\\nimport numpy as np\\nfrom scipy import stats\\nfrom statsmodels.graphics.gofplots import qqplot\\nfrom statsmodels.stats.multitest import multipletests\\nimport seaborn as sns\\nimport matplotlib.pyplot as plt\\nimport statsmodels.api as sm\\nfrom non_param_effect_size import calc_non_param_ci, cles_ind, rbc_ind\\n\\n%matplotlib inline\";\n",
       "                var nbb_formatted_code = \"import pandas as pd\\nimport numpy as np\\nfrom scipy import stats\\nfrom statsmodels.graphics.gofplots import qqplot\\nfrom statsmodels.stats.multitest import multipletests\\nimport seaborn as sns\\nimport matplotlib.pyplot as plt\\nimport statsmodels.api as sm\\nfrom non_param_effect_size import calc_non_param_ci, cles_ind, rbc_ind\\n\\n%matplotlib inline\";\n",
       "                var nbb_cells = Jupyter.notebook.get_cells();\n",
       "                for (var i = 0; i < nbb_cells.length; ++i) {\n",
       "                    if (nbb_cells[i].input_prompt_number == nbb_cell_id) {\n",
       "                        if (nbb_cells[i].get_text() == nbb_unformatted_code) {\n",
       "                             nbb_cells[i].set_text(nbb_formatted_code);\n",
       "                        }\n",
       "                        break;\n",
       "                    }\n",
       "                }\n",
       "            }, 500);\n",
       "            "
      ],
      "text/plain": [
       "<IPython.core.display.Javascript object>"
      ]
     },
     "metadata": {},
     "output_type": "display_data"
    }
   ],
   "source": [
    "import pandas as pd\n",
    "import numpy as np\n",
    "from scipy import stats\n",
    "from statsmodels.graphics.gofplots import qqplot\n",
    "from statsmodels.stats.multitest import multipletests\n",
    "import seaborn as sns\n",
    "import matplotlib.pyplot as plt\n",
    "import statsmodels.api as sm\n",
    "from non_param_effect_size import calc_non_param_ci, cles_ind, rbc_ind\n",
    "\n",
    "%matplotlib inline"
   ]
  },
  {
   "cell_type": "code",
   "execution_count": 3,
   "metadata": {},
   "outputs": [
    {
     "data": {
      "application/javascript": [
       "\n",
       "            setTimeout(function() {\n",
       "                var nbb_cell_id = 3;\n",
       "                var nbb_unformatted_code = \"def get_95_ci(x1, x2):\\n    \\\"\\\"\\\"Calculate a 95% CI for 2 1d numpy arrays\\\"\\\"\\\"\\n    signal = x1.mean() - x2.mean()\\n    noise = np.sqrt(x1.var() / x1.size + x2.var() / x2.size)\\n\\n    ci_lo = signal - 1.96 * noise\\n    ci_hi = signal + 1.96 * noise\\n\\n    return ci_lo, ci_hi\";\n",
       "                var nbb_formatted_code = \"def get_95_ci(x1, x2):\\n    \\\"\\\"\\\"Calculate a 95% CI for 2 1d numpy arrays\\\"\\\"\\\"\\n    signal = x1.mean() - x2.mean()\\n    noise = np.sqrt(x1.var() / x1.size + x2.var() / x2.size)\\n\\n    ci_lo = signal - 1.96 * noise\\n    ci_hi = signal + 1.96 * noise\\n\\n    return ci_lo, ci_hi\";\n",
       "                var nbb_cells = Jupyter.notebook.get_cells();\n",
       "                for (var i = 0; i < nbb_cells.length; ++i) {\n",
       "                    if (nbb_cells[i].input_prompt_number == nbb_cell_id) {\n",
       "                        if (nbb_cells[i].get_text() == nbb_unformatted_code) {\n",
       "                             nbb_cells[i].set_text(nbb_formatted_code);\n",
       "                        }\n",
       "                        break;\n",
       "                    }\n",
       "                }\n",
       "            }, 500);\n",
       "            "
      ],
      "text/plain": [
       "<IPython.core.display.Javascript object>"
      ]
     },
     "metadata": {},
     "output_type": "display_data"
    }
   ],
   "source": [
    "def get_95_ci(x1, x2):\n",
    "    \"\"\"Calculate a 95% CI for 2 1d numpy arrays\"\"\"\n",
    "    signal = x1.mean() - x2.mean()\n",
    "    noise = np.sqrt(x1.var() / x1.size + x2.var() / x2.size)\n",
    "\n",
    "    ci_lo = signal - 1.96 * noise\n",
    "    ci_hi = signal + 1.96 * noise\n",
    "\n",
    "    return ci_lo, ci_hi"
   ]
  },
  {
   "cell_type": "code",
   "execution_count": 4,
   "metadata": {},
   "outputs": [
    {
     "data": {
      "text/html": [
       "<div>\n",
       "<style scoped>\n",
       "    .dataframe tbody tr th:only-of-type {\n",
       "        vertical-align: middle;\n",
       "    }\n",
       "\n",
       "    .dataframe tbody tr th {\n",
       "        vertical-align: top;\n",
       "    }\n",
       "\n",
       "    .dataframe thead th {\n",
       "        text-align: right;\n",
       "    }\n",
       "</style>\n",
       "<table border=\"1\" class=\"dataframe\">\n",
       "  <thead>\n",
       "    <tr style=\"text-align: right;\">\n",
       "      <th></th>\n",
       "      <th>id</th>\n",
       "      <th>artist</th>\n",
       "      <th>title</th>\n",
       "      <th>album</th>\n",
       "      <th>popularity</th>\n",
       "      <th>danceability</th>\n",
       "      <th>energy</th>\n",
       "      <th>key</th>\n",
       "      <th>loudness</th>\n",
       "      <th>mode</th>\n",
       "      <th>speechiness</th>\n",
       "      <th>acousticness</th>\n",
       "      <th>instrumentalness</th>\n",
       "      <th>liveness</th>\n",
       "      <th>valence</th>\n",
       "      <th>tempo</th>\n",
       "      <th>duration_ms</th>\n",
       "      <th>time_signature</th>\n",
       "    </tr>\n",
       "  </thead>\n",
       "  <tbody>\n",
       "    <tr>\n",
       "      <th>0</th>\n",
       "      <td>00GOPLxW4PGQuUYdPJh8K1</td>\n",
       "      <td>Childish Gambino</td>\n",
       "      <td>IV. Sweatpants</td>\n",
       "      <td>Because the Internet</td>\n",
       "      <td>71</td>\n",
       "      <td>0.710</td>\n",
       "      <td>0.470</td>\n",
       "      <td>1</td>\n",
       "      <td>-9.330</td>\n",
       "      <td>0</td>\n",
       "      <td>0.1420</td>\n",
       "      <td>0.15400</td>\n",
       "      <td>0.00000</td>\n",
       "      <td>0.6430</td>\n",
       "      <td>0.581</td>\n",
       "      <td>80.027</td>\n",
       "      <td>180675</td>\n",
       "      <td>4</td>\n",
       "    </tr>\n",
       "    <tr>\n",
       "      <th>1</th>\n",
       "      <td>00QyLmjxaSEE8qIZQjBXBj</td>\n",
       "      <td>2 Chainz</td>\n",
       "      <td>We Own It (Fast &amp; Furious)</td>\n",
       "      <td>Fast &amp; Furious 6</td>\n",
       "      <td>62</td>\n",
       "      <td>0.554</td>\n",
       "      <td>0.899</td>\n",
       "      <td>8</td>\n",
       "      <td>-4.573</td>\n",
       "      <td>1</td>\n",
       "      <td>0.4080</td>\n",
       "      <td>0.05210</td>\n",
       "      <td>0.00000</td>\n",
       "      <td>0.0568</td>\n",
       "      <td>0.552</td>\n",
       "      <td>171.966</td>\n",
       "      <td>227893</td>\n",
       "      <td>4</td>\n",
       "    </tr>\n",
       "    <tr>\n",
       "      <th>2</th>\n",
       "      <td>00V7a8gzdZQgvulLe3MDe3</td>\n",
       "      <td>Elliphant</td>\n",
       "      <td>To The End</td>\n",
       "      <td>To The End</td>\n",
       "      <td>0</td>\n",
       "      <td>0.650</td>\n",
       "      <td>0.893</td>\n",
       "      <td>11</td>\n",
       "      <td>-3.340</td>\n",
       "      <td>0</td>\n",
       "      <td>0.0426</td>\n",
       "      <td>0.01300</td>\n",
       "      <td>0.00384</td>\n",
       "      <td>0.0898</td>\n",
       "      <td>0.246</td>\n",
       "      <td>115.005</td>\n",
       "      <td>259773</td>\n",
       "      <td>4</td>\n",
       "    </tr>\n",
       "    <tr>\n",
       "      <th>3</th>\n",
       "      <td>00ko9WaS4jOX1kEk3gvHjf</td>\n",
       "      <td>Chance the Rapper</td>\n",
       "      <td>Hot Shower</td>\n",
       "      <td>The Big Day</td>\n",
       "      <td>74</td>\n",
       "      <td>0.899</td>\n",
       "      <td>0.509</td>\n",
       "      <td>9</td>\n",
       "      <td>-8.040</td>\n",
       "      <td>1</td>\n",
       "      <td>0.3870</td>\n",
       "      <td>0.00157</td>\n",
       "      <td>0.00000</td>\n",
       "      <td>0.0573</td>\n",
       "      <td>0.599</td>\n",
       "      <td>150.001</td>\n",
       "      <td>225924</td>\n",
       "      <td>4</td>\n",
       "    </tr>\n",
       "    <tr>\n",
       "      <th>4</th>\n",
       "      <td>00qOE7OjRl0BpYiCiweZB2</td>\n",
       "      <td>Foreigner</td>\n",
       "      <td>Juke Box Hero</td>\n",
       "      <td>4 (Expanded)</td>\n",
       "      <td>68</td>\n",
       "      <td>0.357</td>\n",
       "      <td>0.653</td>\n",
       "      <td>9</td>\n",
       "      <td>-5.554</td>\n",
       "      <td>1</td>\n",
       "      <td>0.0654</td>\n",
       "      <td>0.08280</td>\n",
       "      <td>0.00000</td>\n",
       "      <td>0.0844</td>\n",
       "      <td>0.522</td>\n",
       "      <td>176.647</td>\n",
       "      <td>259800</td>\n",
       "      <td>4</td>\n",
       "    </tr>\n",
       "  </tbody>\n",
       "</table>\n",
       "</div>"
      ],
      "text/plain": [
       "                       id             artist                       title  \\\n",
       "0  00GOPLxW4PGQuUYdPJh8K1   Childish Gambino              IV. Sweatpants   \n",
       "1  00QyLmjxaSEE8qIZQjBXBj           2 Chainz  We Own It (Fast & Furious)   \n",
       "2  00V7a8gzdZQgvulLe3MDe3          Elliphant                  To The End   \n",
       "3  00ko9WaS4jOX1kEk3gvHjf  Chance the Rapper                  Hot Shower   \n",
       "4  00qOE7OjRl0BpYiCiweZB2          Foreigner               Juke Box Hero   \n",
       "\n",
       "                  album  popularity  danceability  energy  key  loudness  \\\n",
       "0  Because the Internet          71         0.710   0.470    1    -9.330   \n",
       "1      Fast & Furious 6          62         0.554   0.899    8    -4.573   \n",
       "2            To The End           0         0.650   0.893   11    -3.340   \n",
       "3           The Big Day          74         0.899   0.509    9    -8.040   \n",
       "4          4 (Expanded)          68         0.357   0.653    9    -5.554   \n",
       "\n",
       "   mode  speechiness  acousticness  instrumentalness  liveness  valence  \\\n",
       "0     0       0.1420       0.15400           0.00000    0.6430    0.581   \n",
       "1     1       0.4080       0.05210           0.00000    0.0568    0.552   \n",
       "2     0       0.0426       0.01300           0.00384    0.0898    0.246   \n",
       "3     1       0.3870       0.00157           0.00000    0.0573    0.599   \n",
       "4     1       0.0654       0.08280           0.00000    0.0844    0.522   \n",
       "\n",
       "     tempo  duration_ms  time_signature  \n",
       "0   80.027       180675               4  \n",
       "1  171.966       227893               4  \n",
       "2  115.005       259773               4  \n",
       "3  150.001       225924               4  \n",
       "4  176.647       259800               4  "
      ]
     },
     "execution_count": 4,
     "metadata": {},
     "output_type": "execute_result"
    },
    {
     "data": {
      "application/javascript": [
       "\n",
       "            setTimeout(function() {\n",
       "                var nbb_cell_id = 4;\n",
       "                var nbb_unformatted_code = \"running = pd.read_csv(\\\"../data/running_playlist_tracks.csv\\\")\\nrunning.drop(columns=\\\"Unnamed: 0\\\", inplace=True)\\nrunning.head()\";\n",
       "                var nbb_formatted_code = \"running = pd.read_csv(\\\"../data/running_playlist_tracks.csv\\\")\\nrunning.drop(columns=\\\"Unnamed: 0\\\", inplace=True)\\nrunning.head()\";\n",
       "                var nbb_cells = Jupyter.notebook.get_cells();\n",
       "                for (var i = 0; i < nbb_cells.length; ++i) {\n",
       "                    if (nbb_cells[i].input_prompt_number == nbb_cell_id) {\n",
       "                        if (nbb_cells[i].get_text() == nbb_unformatted_code) {\n",
       "                             nbb_cells[i].set_text(nbb_formatted_code);\n",
       "                        }\n",
       "                        break;\n",
       "                    }\n",
       "                }\n",
       "            }, 500);\n",
       "            "
      ],
      "text/plain": [
       "<IPython.core.display.Javascript object>"
      ]
     },
     "metadata": {},
     "output_type": "display_data"
    }
   ],
   "source": [
    "running = pd.read_csv(\"../data/running_playlist_tracks.csv\")\n",
    "running.drop(columns=\"Unnamed: 0\", inplace=True)\n",
    "running.head()"
   ]
  },
  {
   "cell_type": "markdown",
   "metadata": {},
   "source": [
    "Take a sample from the larger dataset\n",
    "``` python\n",
    "large = pd.read_csv(\"../data/spotify_dataset.csv\")\n",
    "large.head()\n",
    "\n",
    "gen = large.sample(n=5000)\n",
    "\n",
    "gen.to_csv(\"../data/sampled_set.csv\")\n",
    "```"
   ]
  },
  {
   "cell_type": "code",
   "execution_count": 5,
   "metadata": {},
   "outputs": [
    {
     "data": {
      "text/html": [
       "<div>\n",
       "<style scoped>\n",
       "    .dataframe tbody tr th:only-of-type {\n",
       "        vertical-align: middle;\n",
       "    }\n",
       "\n",
       "    .dataframe tbody tr th {\n",
       "        vertical-align: top;\n",
       "    }\n",
       "\n",
       "    .dataframe thead th {\n",
       "        text-align: right;\n",
       "    }\n",
       "</style>\n",
       "<table border=\"1\" class=\"dataframe\">\n",
       "  <thead>\n",
       "    <tr style=\"text-align: right;\">\n",
       "      <th></th>\n",
       "      <th>acousticness</th>\n",
       "      <th>artists</th>\n",
       "      <th>danceability</th>\n",
       "      <th>duration_ms</th>\n",
       "      <th>energy</th>\n",
       "      <th>explicit</th>\n",
       "      <th>id</th>\n",
       "      <th>instrumentalness</th>\n",
       "      <th>key</th>\n",
       "      <th>liveness</th>\n",
       "      <th>loudness</th>\n",
       "      <th>mode</th>\n",
       "      <th>name</th>\n",
       "      <th>popularity</th>\n",
       "      <th>release_date</th>\n",
       "      <th>speechiness</th>\n",
       "      <th>tempo</th>\n",
       "      <th>valence</th>\n",
       "      <th>year</th>\n",
       "    </tr>\n",
       "  </thead>\n",
       "  <tbody>\n",
       "    <tr>\n",
       "      <th>0</th>\n",
       "      <td>0.992</td>\n",
       "      <td>['Ignacio Corsini']</td>\n",
       "      <td>0.601</td>\n",
       "      <td>111333</td>\n",
       "      <td>0.1980</td>\n",
       "      <td>0</td>\n",
       "      <td>4rTjeJa5upBPcTPWtXYcJz</td>\n",
       "      <td>0.000082</td>\n",
       "      <td>6</td>\n",
       "      <td>0.3850</td>\n",
       "      <td>-19.337</td>\n",
       "      <td>0</td>\n",
       "      <td>Cuando Llora el Corazón - Remasterizado</td>\n",
       "      <td>0</td>\n",
       "      <td>1929-06-20</td>\n",
       "      <td>0.0777</td>\n",
       "      <td>122.350</td>\n",
       "      <td>0.842</td>\n",
       "      <td>1929</td>\n",
       "    </tr>\n",
       "    <tr>\n",
       "      <th>1</th>\n",
       "      <td>0.805</td>\n",
       "      <td>['Carole King']</td>\n",
       "      <td>0.650</td>\n",
       "      <td>186200</td>\n",
       "      <td>0.3420</td>\n",
       "      <td>0</td>\n",
       "      <td>7oEIm5uvKfOeMwilOAYb32</td>\n",
       "      <td>0.000006</td>\n",
       "      <td>4</td>\n",
       "      <td>0.0913</td>\n",
       "      <td>-11.345</td>\n",
       "      <td>1</td>\n",
       "      <td>Beautifull</td>\n",
       "      <td>41</td>\n",
       "      <td>1968</td>\n",
       "      <td>0.0289</td>\n",
       "      <td>77.093</td>\n",
       "      <td>0.558</td>\n",
       "      <td>1968</td>\n",
       "    </tr>\n",
       "    <tr>\n",
       "      <th>2</th>\n",
       "      <td>0.973</td>\n",
       "      <td>['Arthur Sullivan', 'Muriel Harding', 'Neville...</td>\n",
       "      <td>0.353</td>\n",
       "      <td>242307</td>\n",
       "      <td>0.0836</td>\n",
       "      <td>0</td>\n",
       "      <td>0cc1sgKtjZtMEzH1qE9tS0</td>\n",
       "      <td>0.000001</td>\n",
       "      <td>6</td>\n",
       "      <td>0.3130</td>\n",
       "      <td>-19.784</td>\n",
       "      <td>1</td>\n",
       "      <td>The Sorcerer / Act 1: 15. Sprites of earth and...</td>\n",
       "      <td>0</td>\n",
       "      <td>1953-01-01</td>\n",
       "      <td>0.0499</td>\n",
       "      <td>89.151</td>\n",
       "      <td>0.149</td>\n",
       "      <td>1953</td>\n",
       "    </tr>\n",
       "    <tr>\n",
       "      <th>3</th>\n",
       "      <td>0.322</td>\n",
       "      <td>['Bill LaBounty']</td>\n",
       "      <td>0.648</td>\n",
       "      <td>265640</td>\n",
       "      <td>0.4020</td>\n",
       "      <td>0</td>\n",
       "      <td>3KH39R9cO3ZWN6hqRbTKM3</td>\n",
       "      <td>0.000001</td>\n",
       "      <td>3</td>\n",
       "      <td>0.0886</td>\n",
       "      <td>-14.972</td>\n",
       "      <td>1</td>\n",
       "      <td>This Night Won't Last Forever</td>\n",
       "      <td>30</td>\n",
       "      <td>1978-07-21</td>\n",
       "      <td>0.0241</td>\n",
       "      <td>102.682</td>\n",
       "      <td>0.607</td>\n",
       "      <td>1978</td>\n",
       "    </tr>\n",
       "    <tr>\n",
       "      <th>4</th>\n",
       "      <td>0.309</td>\n",
       "      <td>['The Allman Brothers Band']</td>\n",
       "      <td>0.488</td>\n",
       "      <td>259444</td>\n",
       "      <td>0.7210</td>\n",
       "      <td>0</td>\n",
       "      <td>7K4jh3V3fP00WKg7c6lwqA</td>\n",
       "      <td>0.048200</td>\n",
       "      <td>2</td>\n",
       "      <td>0.4370</td>\n",
       "      <td>-9.141</td>\n",
       "      <td>1</td>\n",
       "      <td>Statesboro Blues - Live At Fillmore East, Marc...</td>\n",
       "      <td>23</td>\n",
       "      <td>1971-07-01</td>\n",
       "      <td>0.0617</td>\n",
       "      <td>125.940</td>\n",
       "      <td>0.786</td>\n",
       "      <td>1971</td>\n",
       "    </tr>\n",
       "  </tbody>\n",
       "</table>\n",
       "</div>"
      ],
      "text/plain": [
       "   acousticness                                            artists  \\\n",
       "0         0.992                                ['Ignacio Corsini']   \n",
       "1         0.805                                    ['Carole King']   \n",
       "2         0.973  ['Arthur Sullivan', 'Muriel Harding', 'Neville...   \n",
       "3         0.322                                  ['Bill LaBounty']   \n",
       "4         0.309                       ['The Allman Brothers Band']   \n",
       "\n",
       "   danceability  duration_ms  energy  explicit                      id  \\\n",
       "0         0.601       111333  0.1980         0  4rTjeJa5upBPcTPWtXYcJz   \n",
       "1         0.650       186200  0.3420         0  7oEIm5uvKfOeMwilOAYb32   \n",
       "2         0.353       242307  0.0836         0  0cc1sgKtjZtMEzH1qE9tS0   \n",
       "3         0.648       265640  0.4020         0  3KH39R9cO3ZWN6hqRbTKM3   \n",
       "4         0.488       259444  0.7210         0  7K4jh3V3fP00WKg7c6lwqA   \n",
       "\n",
       "   instrumentalness  key  liveness  loudness  mode  \\\n",
       "0          0.000082    6    0.3850   -19.337     0   \n",
       "1          0.000006    4    0.0913   -11.345     1   \n",
       "2          0.000001    6    0.3130   -19.784     1   \n",
       "3          0.000001    3    0.0886   -14.972     1   \n",
       "4          0.048200    2    0.4370    -9.141     1   \n",
       "\n",
       "                                                name  popularity release_date  \\\n",
       "0            Cuando Llora el Corazón - Remasterizado           0   1929-06-20   \n",
       "1                                         Beautifull          41         1968   \n",
       "2  The Sorcerer / Act 1: 15. Sprites of earth and...           0   1953-01-01   \n",
       "3                      This Night Won't Last Forever          30   1978-07-21   \n",
       "4  Statesboro Blues - Live At Fillmore East, Marc...          23   1971-07-01   \n",
       "\n",
       "   speechiness    tempo  valence  year  \n",
       "0       0.0777  122.350    0.842  1929  \n",
       "1       0.0289   77.093    0.558  1968  \n",
       "2       0.0499   89.151    0.149  1953  \n",
       "3       0.0241  102.682    0.607  1978  \n",
       "4       0.0617  125.940    0.786  1971  "
      ]
     },
     "execution_count": 5,
     "metadata": {},
     "output_type": "execute_result"
    },
    {
     "data": {
      "application/javascript": [
       "\n",
       "            setTimeout(function() {\n",
       "                var nbb_cell_id = 5;\n",
       "                var nbb_unformatted_code = \"gen = pd.read_csv(\\\"../data/sampled_set.csv\\\")\\ngen.drop(columns=\\\"Unnamed: 0\\\", inplace=True)\\ngen.head()\";\n",
       "                var nbb_formatted_code = \"gen = pd.read_csv(\\\"../data/sampled_set.csv\\\")\\ngen.drop(columns=\\\"Unnamed: 0\\\", inplace=True)\\ngen.head()\";\n",
       "                var nbb_cells = Jupyter.notebook.get_cells();\n",
       "                for (var i = 0; i < nbb_cells.length; ++i) {\n",
       "                    if (nbb_cells[i].input_prompt_number == nbb_cell_id) {\n",
       "                        if (nbb_cells[i].get_text() == nbb_unformatted_code) {\n",
       "                             nbb_cells[i].set_text(nbb_formatted_code);\n",
       "                        }\n",
       "                        break;\n",
       "                    }\n",
       "                }\n",
       "            }, 500);\n",
       "            "
      ],
      "text/plain": [
       "<IPython.core.display.Javascript object>"
      ]
     },
     "metadata": {},
     "output_type": "display_data"
    }
   ],
   "source": [
    "gen = pd.read_csv(\"../data/sampled_set.csv\")\n",
    "gen.drop(columns=\"Unnamed: 0\", inplace=True)\n",
    "gen.head()"
   ]
  },
  {
   "cell_type": "code",
   "execution_count": 6,
   "metadata": {},
   "outputs": [
    {
     "data": {
      "image/png": "[encoded data removed]",
      "text/plain": [
       "<Figure size 1080x720 with 16 Axes>"
      ]
     },
     "metadata": {
      "needs_background": "light"
     },
     "output_type": "display_data"
    },
    {
     "data": {
      "application/javascript": [
       "\n",
       "            setTimeout(function() {\n",
       "                var nbb_cell_id = 6;\n",
       "                var nbb_unformatted_code = \"running.hist(figsize=(15, 10))\\nplt.show()\";\n",
       "                var nbb_formatted_code = \"running.hist(figsize=(15, 10))\\nplt.show()\";\n",
       "                var nbb_cells = Jupyter.notebook.get_cells();\n",
       "                for (var i = 0; i < nbb_cells.length; ++i) {\n",
       "                    if (nbb_cells[i].input_prompt_number == nbb_cell_id) {\n",
       "                        if (nbb_cells[i].get_text() == nbb_unformatted_code) {\n",
       "                             nbb_cells[i].set_text(nbb_formatted_code);\n",
       "                        }\n",
       "                        break;\n",
       "                    }\n",
       "                }\n",
       "            }, 500);\n",
       "            "
      ],
      "text/plain": [
       "<IPython.core.display.Javascript object>"
      ]
     },
     "metadata": {},
     "output_type": "display_data"
    }
   ],
   "source": [
    "running.hist(figsize=(15, 10))\n",
    "plt.show()"
   ]
  },
  {
   "cell_type": "code",
   "execution_count": 7,
   "metadata": {
    "scrolled": false
   },
   "outputs": [
    {
     "data": {
      "image/png": "[encoded data removed]",
      "text/plain": [
       "<Figure size 1080x720 with 16 Axes>"
      ]
     },
     "metadata": {
      "needs_background": "light"
     },
     "output_type": "display_data"
    },
    {
     "data": {
      "application/javascript": [
       "\n",
       "            setTimeout(function() {\n",
       "                var nbb_cell_id = 7;\n",
       "                var nbb_unformatted_code = \"gen.hist(figsize=(15, 10))\\nplt.show()\";\n",
       "                var nbb_formatted_code = \"gen.hist(figsize=(15, 10))\\nplt.show()\";\n",
       "                var nbb_cells = Jupyter.notebook.get_cells();\n",
       "                for (var i = 0; i < nbb_cells.length; ++i) {\n",
       "                    if (nbb_cells[i].input_prompt_number == nbb_cell_id) {\n",
       "                        if (nbb_cells[i].get_text() == nbb_unformatted_code) {\n",
       "                             nbb_cells[i].set_text(nbb_formatted_code);\n",
       "                        }\n",
       "                        break;\n",
       "                    }\n",
       "                }\n",
       "            }, 500);\n",
       "            "
      ],
      "text/plain": [
       "<IPython.core.display.Javascript object>"
      ]
     },
     "metadata": {},
     "output_type": "display_data"
    }
   ],
   "source": [
    "gen.hist(figsize=(15, 10))\n",
    "plt.show()"
   ]
  },
  {
   "cell_type": "code",
   "execution_count": 8,
   "metadata": {
    "scrolled": false
   },
   "outputs": [
    {
     "data": {
      "application/javascript": [
       "\n",
       "            setTimeout(function() {\n",
       "                var nbb_cell_id = 8;\n",
       "                var nbb_unformatted_code = \"#sns.pairplot(running)\";\n",
       "                var nbb_formatted_code = \"# sns.pairplot(running)\";\n",
       "                var nbb_cells = Jupyter.notebook.get_cells();\n",
       "                for (var i = 0; i < nbb_cells.length; ++i) {\n",
       "                    if (nbb_cells[i].input_prompt_number == nbb_cell_id) {\n",
       "                        if (nbb_cells[i].get_text() == nbb_unformatted_code) {\n",
       "                             nbb_cells[i].set_text(nbb_formatted_code);\n",
       "                        }\n",
       "                        break;\n",
       "                    }\n",
       "                }\n",
       "            }, 500);\n",
       "            "
      ],
      "text/plain": [
       "<IPython.core.display.Javascript object>"
      ]
     },
     "metadata": {},
     "output_type": "display_data"
    }
   ],
   "source": [
    "# sns.pairplot(running)"
   ]
  },
  {
   "cell_type": "code",
   "execution_count": 9,
   "metadata": {},
   "outputs": [
    {
     "data": {
      "image/png": "[encoded data removed]",
      "text/plain": [
       "<Figure size 720x576 with 2 Axes>"
      ]
     },
     "metadata": {
      "needs_background": "light"
     },
     "output_type": "display_data"
    },
    {
     "data": {
      "application/javascript": [
       "\n",
       "            setTimeout(function() {\n",
       "                var nbb_cell_id = 9;\n",
       "                var nbb_unformatted_code = \"plt.figure(figsize=(10, 8))\\nsns.heatmap(running.corr(), vmin=-1.0, vmax=1.0, annot=True)\\nplt.tight_layout()\\nplt.show()\";\n",
       "                var nbb_formatted_code = \"plt.figure(figsize=(10, 8))\\nsns.heatmap(running.corr(), vmin=-1.0, vmax=1.0, annot=True)\\nplt.tight_layout()\\nplt.show()\";\n",
       "                var nbb_cells = Jupyter.notebook.get_cells();\n",
       "                for (var i = 0; i < nbb_cells.length; ++i) {\n",
       "                    if (nbb_cells[i].input_prompt_number == nbb_cell_id) {\n",
       "                        if (nbb_cells[i].get_text() == nbb_unformatted_code) {\n",
       "                             nbb_cells[i].set_text(nbb_formatted_code);\n",
       "                        }\n",
       "                        break;\n",
       "                    }\n",
       "                }\n",
       "            }, 500);\n",
       "            "
      ],
      "text/plain": [
       "<IPython.core.display.Javascript object>"
      ]
     },
     "metadata": {},
     "output_type": "display_data"
    }
   ],
   "source": [
    "plt.figure(figsize=(10, 8))\n",
    "sns.heatmap(running.corr(), vmin=-1.0, vmax=1.0, annot=True)\n",
    "plt.tight_layout()\n",
    "plt.show()"
   ]
  },
  {
   "cell_type": "markdown",
   "metadata": {},
   "source": [
    "Straight off the bat, the first thing I'm checking for is a tempo difference\n",
    "\n",
    "$H_o$ : The average tempo in running playlists is the same as the general population\n",
    "\n",
    "$H_a$ : Running playlist tempos are different than the population"
   ]
  },
  {
   "cell_type": "code",
   "execution_count": 10,
   "metadata": {},
   "outputs": [
    {
     "data": {
      "image/png": "[encoded data removed]",
      "text/plain": [
       "<Figure size 432x288 with 1 Axes>"
      ]
     },
     "metadata": {
      "needs_background": "light"
     },
     "output_type": "display_data"
    },
    {
     "data": {
      "application/javascript": [
       "\n",
       "            setTimeout(function() {\n",
       "                var nbb_cell_id = 10;\n",
       "                var nbb_unformatted_code = \"gen[\\\"tempo\\\"].hist(bins=30, alpha=0.5)\\nrunning[\\\"tempo\\\"].hist(bins=30, alpha=0.5)\\nplt.show()\";\n",
       "                var nbb_formatted_code = \"gen[\\\"tempo\\\"].hist(bins=30, alpha=0.5)\\nrunning[\\\"tempo\\\"].hist(bins=30, alpha=0.5)\\nplt.show()\";\n",
       "                var nbb_cells = Jupyter.notebook.get_cells();\n",
       "                for (var i = 0; i < nbb_cells.length; ++i) {\n",
       "                    if (nbb_cells[i].input_prompt_number == nbb_cell_id) {\n",
       "                        if (nbb_cells[i].get_text() == nbb_unformatted_code) {\n",
       "                             nbb_cells[i].set_text(nbb_formatted_code);\n",
       "                        }\n",
       "                        break;\n",
       "                    }\n",
       "                }\n",
       "            }, 500);\n",
       "            "
      ],
      "text/plain": [
       "<IPython.core.display.Javascript object>"
      ]
     },
     "metadata": {},
     "output_type": "display_data"
    }
   ],
   "source": [
    "gen[\"tempo\"].hist(bins=30, alpha=0.5)\n",
    "running[\"tempo\"].hist(bins=30, alpha=0.5)\n",
    "plt.show()"
   ]
  },
  {
   "cell_type": "markdown",
   "metadata": {},
   "source": [
    "There's a very obvious spike around 120 for running playlist songs"
   ]
  },
  {
   "cell_type": "code",
   "execution_count": 11,
   "metadata": {},
   "outputs": [
    {
     "data": {
      "image/png": "[encoded data removed]",
      "text/plain": [
       "<Figure size 432x288 with 1 Axes>"
      ]
     },
     "metadata": {
      "needs_background": "light"
     },
     "output_type": "display_data"
    },
    {
     "data": {
      "text/plain": [
       "122.49224287317621"
      ]
     },
     "execution_count": 11,
     "metadata": {},
     "output_type": "execute_result"
    },
    {
     "data": {
      "application/javascript": [
       "\n",
       "            setTimeout(function() {\n",
       "                var nbb_cell_id = 11;\n",
       "                var nbb_unformatted_code = \"y = [gen[\\\"tempo\\\"].mean(), running[\\\"tempo\\\"].mean()]\\nx = [\\\"General\\\", \\\"Running\\\"]\\nsns.barplot(x=x, y=y)\\nplt.show()\\nrunning[\\\"tempo\\\"].mean()\";\n",
       "                var nbb_formatted_code = \"y = [gen[\\\"tempo\\\"].mean(), running[\\\"tempo\\\"].mean()]\\nx = [\\\"General\\\", \\\"Running\\\"]\\nsns.barplot(x=x, y=y)\\nplt.show()\\nrunning[\\\"tempo\\\"].mean()\";\n",
       "                var nbb_cells = Jupyter.notebook.get_cells();\n",
       "                for (var i = 0; i < nbb_cells.length; ++i) {\n",
       "                    if (nbb_cells[i].input_prompt_number == nbb_cell_id) {\n",
       "                        if (nbb_cells[i].get_text() == nbb_unformatted_code) {\n",
       "                             nbb_cells[i].set_text(nbb_formatted_code);\n",
       "                        }\n",
       "                        break;\n",
       "                    }\n",
       "                }\n",
       "            }, 500);\n",
       "            "
      ],
      "text/plain": [
       "<IPython.core.display.Javascript object>"
      ]
     },
     "metadata": {},
     "output_type": "display_data"
    }
   ],
   "source": [
    "y = [gen[\"tempo\"].mean(), running[\"tempo\"].mean()]\n",
    "x = [\"General\", \"Running\"]\n",
    "sns.barplot(x=x, y=y)\n",
    "plt.show()\n",
    "running[\"tempo\"].mean()"
   ]
  },
  {
   "cell_type": "code",
   "execution_count": 12,
   "metadata": {
    "scrolled": true
   },
   "outputs": [
    {
     "data": {
      "text/plain": [
       "Ttest_indResult(statistic=-9.484947624483937, pvalue=3.013982187625835e-21)"
      ]
     },
     "execution_count": 12,
     "metadata": {},
     "output_type": "execute_result"
    },
    {
     "data": {
      "application/javascript": [
       "\n",
       "            setTimeout(function() {\n",
       "                var nbb_cell_id = 12;\n",
       "                var nbb_unformatted_code = \"stats.ttest_ind(gen[\\\"tempo\\\"], running[\\\"tempo\\\"])\";\n",
       "                var nbb_formatted_code = \"stats.ttest_ind(gen[\\\"tempo\\\"], running[\\\"tempo\\\"])\";\n",
       "                var nbb_cells = Jupyter.notebook.get_cells();\n",
       "                for (var i = 0; i < nbb_cells.length; ++i) {\n",
       "                    if (nbb_cells[i].input_prompt_number == nbb_cell_id) {\n",
       "                        if (nbb_cells[i].get_text() == nbb_unformatted_code) {\n",
       "                             nbb_cells[i].set_text(nbb_formatted_code);\n",
       "                        }\n",
       "                        break;\n",
       "                    }\n",
       "                }\n",
       "            }, 500);\n",
       "            "
      ],
      "text/plain": [
       "<IPython.core.display.Javascript object>"
      ]
     },
     "metadata": {},
     "output_type": "display_data"
    }
   ],
   "source": [
    "stats.ttest_ind(gen[\"tempo\"], running[\"tempo\"])"
   ]
  },
  {
   "cell_type": "markdown",
   "metadata": {},
   "source": [
    "p is less than 0.05 for a standard t-test showing we can reject the null that the average tempos are the same between the two groups"
   ]
  },
  {
   "cell_type": "code",
   "execution_count": 13,
   "metadata": {},
   "outputs": [
    {
     "data": {
      "text/plain": [
       "(123.62841431833262, 121.3560714280198)"
      ]
     },
     "execution_count": 13,
     "metadata": {},
     "output_type": "execute_result"
    },
    {
     "data": {
      "application/javascript": [
       "\n",
       "            setTimeout(function() {\n",
       "                var nbb_cell_id = 13;\n",
       "                var nbb_unformatted_code = \"l, h = get_95_ci(gen[\\\"tempo\\\"], running[\\\"tempo\\\"])\\n\\nlow = gen[\\\"tempo\\\"].mean() - l\\nhigh = gen[\\\"tempo\\\"].mean() - h\\n\\n(low, high)\";\n",
       "                var nbb_formatted_code = \"l, h = get_95_ci(gen[\\\"tempo\\\"], running[\\\"tempo\\\"])\\n\\nlow = gen[\\\"tempo\\\"].mean() - l\\nhigh = gen[\\\"tempo\\\"].mean() - h\\n\\n(low, high)\";\n",
       "                var nbb_cells = Jupyter.notebook.get_cells();\n",
       "                for (var i = 0; i < nbb_cells.length; ++i) {\n",
       "                    if (nbb_cells[i].input_prompt_number == nbb_cell_id) {\n",
       "                        if (nbb_cells[i].get_text() == nbb_unformatted_code) {\n",
       "                             nbb_cells[i].set_text(nbb_formatted_code);\n",
       "                        }\n",
       "                        break;\n",
       "                    }\n",
       "                }\n",
       "            }, 500);\n",
       "            "
      ],
      "text/plain": [
       "<IPython.core.display.Javascript object>"
      ]
     },
     "metadata": {},
     "output_type": "display_data"
    }
   ],
   "source": [
    "l, h = get_95_ci(gen[\"tempo\"], running[\"tempo\"])\n",
    "\n",
    "low = gen[\"tempo\"].mean() - l\n",
    "high = gen[\"tempo\"].mean() - h\n",
    "\n",
    "(low, high)"
   ]
  },
  {
   "cell_type": "markdown",
   "metadata": {},
   "source": [
    "Optimal range of tempo is between 121.3 and 123.6"
   ]
  },
  {
   "cell_type": "code",
   "execution_count": 14,
   "metadata": {},
   "outputs": [
    {
     "data": {
      "text/plain": [
       "DescribeResult(nobs=4455, minmax=(0.0, 0.951), mean=0.1244398204264871, variance=0.014372447825742332, skewness=1.844345362714322, kurtosis=4.105342790405861)"
      ]
     },
     "execution_count": 14,
     "metadata": {},
     "output_type": "execute_result"
    },
    {
     "data": {
      "application/javascript": [
       "\n",
       "            setTimeout(function() {\n",
       "                var nbb_cell_id = 14;\n",
       "                var nbb_unformatted_code = \"stats.describe(running[\\\"speechiness\\\"])\";\n",
       "                var nbb_formatted_code = \"stats.describe(running[\\\"speechiness\\\"])\";\n",
       "                var nbb_cells = Jupyter.notebook.get_cells();\n",
       "                for (var i = 0; i < nbb_cells.length; ++i) {\n",
       "                    if (nbb_cells[i].input_prompt_number == nbb_cell_id) {\n",
       "                        if (nbb_cells[i].get_text() == nbb_unformatted_code) {\n",
       "                             nbb_cells[i].set_text(nbb_formatted_code);\n",
       "                        }\n",
       "                        break;\n",
       "                    }\n",
       "                }\n",
       "            }, 500);\n",
       "            "
      ],
      "text/plain": [
       "<IPython.core.display.Javascript object>"
      ]
     },
     "metadata": {},
     "output_type": "display_data"
    }
   ],
   "source": [
    "stats.describe(running[\"speechiness\"])"
   ]
  },
  {
   "cell_type": "code",
   "execution_count": 15,
   "metadata": {
    "scrolled": true
   },
   "outputs": [
    {
     "data": {
      "text/plain": [
       "MannwhitneyuResult(statistic=7718581.5, pvalue=3.816376909633388e-147)"
      ]
     },
     "execution_count": 15,
     "metadata": {},
     "output_type": "execute_result"
    },
    {
     "data": {
      "application/javascript": [
       "\n",
       "            setTimeout(function() {\n",
       "                var nbb_cell_id = 15;\n",
       "                var nbb_unformatted_code = \"stats.mannwhitneyu(running[\\\"speechiness\\\"], gen[\\\"speechiness\\\"])\";\n",
       "                var nbb_formatted_code = \"stats.mannwhitneyu(running[\\\"speechiness\\\"], gen[\\\"speechiness\\\"])\";\n",
       "                var nbb_cells = Jupyter.notebook.get_cells();\n",
       "                for (var i = 0; i < nbb_cells.length; ++i) {\n",
       "                    if (nbb_cells[i].input_prompt_number == nbb_cell_id) {\n",
       "                        if (nbb_cells[i].get_text() == nbb_unformatted_code) {\n",
       "                             nbb_cells[i].set_text(nbb_formatted_code);\n",
       "                        }\n",
       "                        break;\n",
       "                    }\n",
       "                }\n",
       "            }, 500);\n",
       "            "
      ],
      "text/plain": [
       "<IPython.core.display.Javascript object>"
      ]
     },
     "metadata": {},
     "output_type": "display_data"
    }
   ],
   "source": [
    "stats.mannwhitneyu(running[\"speechiness\"], gen[\"speechiness\"])"
   ]
  },
  {
   "cell_type": "code",
   "execution_count": 16,
   "metadata": {},
   "outputs": [
    {
     "name": "stdout",
     "output_type": "stream",
     "text": [
      "(0.014599999999999995, 0.017600000000000005)\n",
      "0.6528769472502806\n",
      "0.30697360269360274\n"
     ]
    },
    {
     "data": {
      "application/javascript": [
       "\n",
       "            setTimeout(function() {\n",
       "                var nbb_cell_id = 16;\n",
       "                var nbb_unformatted_code = \"print(calc_non_param_ci(running[\\\"speechiness\\\"], gen[\\\"speechiness\\\"]))\\nprint(cles_ind(running[\\\"speechiness\\\"], gen[\\\"speechiness\\\"]))\\nprint(rbc_ind(running[\\\"speechiness\\\"], gen[\\\"speechiness\\\"]))\";\n",
       "                var nbb_formatted_code = \"print(calc_non_param_ci(running[\\\"speechiness\\\"], gen[\\\"speechiness\\\"]))\\nprint(cles_ind(running[\\\"speechiness\\\"], gen[\\\"speechiness\\\"]))\\nprint(rbc_ind(running[\\\"speechiness\\\"], gen[\\\"speechiness\\\"]))\";\n",
       "                var nbb_cells = Jupyter.notebook.get_cells();\n",
       "                for (var i = 0; i < nbb_cells.length; ++i) {\n",
       "                    if (nbb_cells[i].input_prompt_number == nbb_cell_id) {\n",
       "                        if (nbb_cells[i].get_text() == nbb_unformatted_code) {\n",
       "                             nbb_cells[i].set_text(nbb_formatted_code);\n",
       "                        }\n",
       "                        break;\n",
       "                    }\n",
       "                }\n",
       "            }, 500);\n",
       "            "
      ],
      "text/plain": [
       "<IPython.core.display.Javascript object>"
      ]
     },
     "metadata": {},
     "output_type": "display_data"
    }
   ],
   "source": [
    "print(calc_non_param_ci(running[\"speechiness\"], gen[\"speechiness\"]))\n",
    "print(cles_ind(running[\"speechiness\"], gen[\"speechiness\"]))\n",
    "print(rbc_ind(running[\"speechiness\"], gen[\"speechiness\"]))"
   ]
  },
  {
   "cell_type": "markdown",
   "metadata": {},
   "source": [
    "Results show running songs are likely to have more 'speechiness' but the confidence interval is very low, making it probably unremarkable"
   ]
  },
  {
   "cell_type": "code",
   "execution_count": 17,
   "metadata": {
    "scrolled": true
   },
   "outputs": [
    {
     "data": {
      "text/plain": [
       "DescribeResult(nobs=4455, minmax=(0.0, 0.971), mean=0.6555391919191919, variance=0.021799748275054088, skewness=-0.5295621160995195, kurtosis=0.16814882433718692)"
      ]
     },
     "execution_count": 17,
     "metadata": {},
     "output_type": "execute_result"
    },
    {
     "data": {
      "application/javascript": [
       "\n",
       "            setTimeout(function() {\n",
       "                var nbb_cell_id = 17;\n",
       "                var nbb_unformatted_code = \"stats.describe(running[\\\"danceability\\\"])\";\n",
       "                var nbb_formatted_code = \"stats.describe(running[\\\"danceability\\\"])\";\n",
       "                var nbb_cells = Jupyter.notebook.get_cells();\n",
       "                for (var i = 0; i < nbb_cells.length; ++i) {\n",
       "                    if (nbb_cells[i].input_prompt_number == nbb_cell_id) {\n",
       "                        if (nbb_cells[i].get_text() == nbb_unformatted_code) {\n",
       "                             nbb_cells[i].set_text(nbb_formatted_code);\n",
       "                        }\n",
       "                        break;\n",
       "                    }\n",
       "                }\n",
       "            }, 500);\n",
       "            "
      ],
      "text/plain": [
       "<IPython.core.display.Javascript object>"
      ]
     },
     "metadata": {},
     "output_type": "display_data"
    }
   ],
   "source": [
    "stats.describe(running[\"danceability\"])"
   ]
  },
  {
   "cell_type": "markdown",
   "metadata": {},
   "source": [
    "I'm curious about the energy metric to test. I'm wary of this data much for the same reason I'm wary of acousticness. The distribution I have doesn't very well reflect what spotify shows on their api"
   ]
  },
  {
   "cell_type": "code",
   "execution_count": 18,
   "metadata": {
    "scrolled": false
   },
   "outputs": [
    {
     "data": {
      "image/png": "[encoded data removed]",
      "text/plain": [
       "<Figure size 432x288 with 1 Axes>"
      ]
     },
     "metadata": {
      "needs_background": "light"
     },
     "output_type": "display_data"
    },
    {
     "data": {
      "application/javascript": [
       "\n",
       "            setTimeout(function() {\n",
       "                var nbb_cell_id = 18;\n",
       "                var nbb_unformatted_code = \"gen[\\\"energy\\\"].hist(bins=30, alpha=0.5)\\nrunning[\\\"energy\\\"].hist(bins=30, alpha=0.5)\\nplt.show()\";\n",
       "                var nbb_formatted_code = \"gen[\\\"energy\\\"].hist(bins=30, alpha=0.5)\\nrunning[\\\"energy\\\"].hist(bins=30, alpha=0.5)\\nplt.show()\";\n",
       "                var nbb_cells = Jupyter.notebook.get_cells();\n",
       "                for (var i = 0; i < nbb_cells.length; ++i) {\n",
       "                    if (nbb_cells[i].input_prompt_number == nbb_cell_id) {\n",
       "                        if (nbb_cells[i].get_text() == nbb_unformatted_code) {\n",
       "                             nbb_cells[i].set_text(nbb_formatted_code);\n",
       "                        }\n",
       "                        break;\n",
       "                    }\n",
       "                }\n",
       "            }, 500);\n",
       "            "
      ],
      "text/plain": [
       "<IPython.core.display.Javascript object>"
      ]
     },
     "metadata": {},
     "output_type": "display_data"
    }
   ],
   "source": [
    "gen[\"energy\"].hist(bins=30, alpha=0.5)\n",
    "running[\"energy\"].hist(bins=30, alpha=0.5)\n",
    "plt.show()"
   ]
  },
  {
   "cell_type": "code",
   "execution_count": 19,
   "metadata": {},
   "outputs": [
    {
     "data": {
      "text/plain": [
       "DescribeResult(nobs=4455, minmax=(0.00561, 0.997), mean=0.6993501571268238, variance=0.034823354923459816, skewness=-1.0478527833385225, kurtosis=1.506434259458909)"
      ]
     },
     "execution_count": 19,
     "metadata": {},
     "output_type": "execute_result"
    },
    {
     "data": {
      "application/javascript": [
       "\n",
       "            setTimeout(function() {\n",
       "                var nbb_cell_id = 19;\n",
       "                var nbb_unformatted_code = \"stats.describe(running[\\\"energy\\\"])\";\n",
       "                var nbb_formatted_code = \"stats.describe(running[\\\"energy\\\"])\";\n",
       "                var nbb_cells = Jupyter.notebook.get_cells();\n",
       "                for (var i = 0; i < nbb_cells.length; ++i) {\n",
       "                    if (nbb_cells[i].input_prompt_number == nbb_cell_id) {\n",
       "                        if (nbb_cells[i].get_text() == nbb_unformatted_code) {\n",
       "                             nbb_cells[i].set_text(nbb_formatted_code);\n",
       "                        }\n",
       "                        break;\n",
       "                    }\n",
       "                }\n",
       "            }, 500);\n",
       "            "
      ],
      "text/plain": [
       "<IPython.core.display.Javascript object>"
      ]
     },
     "metadata": {},
     "output_type": "display_data"
    }
   ],
   "source": [
    "stats.describe(running[\"energy\"])"
   ]
  },
  {
   "cell_type": "code",
   "execution_count": 20,
   "metadata": {
    "scrolled": false
   },
   "outputs": [
    {
     "data": {
      "image/png": "[encoded data removed]",
      "text/plain": [
       "<Figure size 432x288 with 1 Axes>"
      ]
     },
     "metadata": {
      "needs_background": "light"
     },
     "output_type": "display_data"
    },
    {
     "data": {
      "application/javascript": [
       "\n",
       "            setTimeout(function() {\n",
       "                var nbb_cell_id = 20;\n",
       "                var nbb_unformatted_code = \"gen[\\\"acousticness\\\"].hist(bins=30, alpha=0.5)\\nrunning[\\\"acousticness\\\"].hist(bins=30, alpha=0.5)\\nplt.show()\";\n",
       "                var nbb_formatted_code = \"gen[\\\"acousticness\\\"].hist(bins=30, alpha=0.5)\\nrunning[\\\"acousticness\\\"].hist(bins=30, alpha=0.5)\\nplt.show()\";\n",
       "                var nbb_cells = Jupyter.notebook.get_cells();\n",
       "                for (var i = 0; i < nbb_cells.length; ++i) {\n",
       "                    if (nbb_cells[i].input_prompt_number == nbb_cell_id) {\n",
       "                        if (nbb_cells[i].get_text() == nbb_unformatted_code) {\n",
       "                             nbb_cells[i].set_text(nbb_formatted_code);\n",
       "                        }\n",
       "                        break;\n",
       "                    }\n",
       "                }\n",
       "            }, 500);\n",
       "            "
      ],
      "text/plain": [
       "<IPython.core.display.Javascript object>"
      ]
     },
     "metadata": {},
     "output_type": "display_data"
    }
   ],
   "source": [
    "gen[\"acousticness\"].hist(bins=30, alpha=0.5)\n",
    "running[\"acousticness\"].hist(bins=30, alpha=0.5)\n",
    "plt.show()"
   ]
  },
  {
   "cell_type": "code",
   "execution_count": 21,
   "metadata": {},
   "outputs": [
    {
     "data": {
      "text/plain": [
       "MannwhitneyuResult(statistic=5726589.5, pvalue=0.0)"
      ]
     },
     "execution_count": 21,
     "metadata": {},
     "output_type": "execute_result"
    },
    {
     "data": {
      "application/javascript": [
       "\n",
       "            setTimeout(function() {\n",
       "                var nbb_cell_id = 21;\n",
       "                var nbb_unformatted_code = \"stats.mannwhitneyu(running[\\\"acousticness\\\"], gen[\\\"acousticness\\\"])\";\n",
       "                var nbb_formatted_code = \"stats.mannwhitneyu(running[\\\"acousticness\\\"], gen[\\\"acousticness\\\"])\";\n",
       "                var nbb_cells = Jupyter.notebook.get_cells();\n",
       "                for (var i = 0; i < nbb_cells.length; ++i) {\n",
       "                    if (nbb_cells[i].input_prompt_number == nbb_cell_id) {\n",
       "                        if (nbb_cells[i].get_text() == nbb_unformatted_code) {\n",
       "                             nbb_cells[i].set_text(nbb_formatted_code);\n",
       "                        }\n",
       "                        break;\n",
       "                    }\n",
       "                }\n",
       "            }, 500);\n",
       "            "
      ],
      "text/plain": [
       "<IPython.core.display.Javascript object>"
      ]
     },
     "metadata": {},
     "output_type": "display_data"
    }
   ],
   "source": [
    "stats.mannwhitneyu(running[\"acousticness\"], gen[\"acousticness\"])"
   ]
  },
  {
   "cell_type": "code",
   "execution_count": 22,
   "metadata": {
    "scrolled": true
   },
   "outputs": [
    {
     "name": "stdout",
     "output_type": "stream",
     "text": [
      "(-0.33399999999999996, -0.291)\n",
      "0.742636632996633\n",
      "0.4858281032547699\n"
     ]
    },
    {
     "data": {
      "application/javascript": [
       "\n",
       "            setTimeout(function() {\n",
       "                var nbb_cell_id = 22;\n",
       "                var nbb_unformatted_code = \"print(calc_non_param_ci(running[\\\"acousticness\\\"], gen[\\\"acousticness\\\"]))\\nprint(cles_ind(running[\\\"acousticness\\\"], gen[\\\"acousticness\\\"]))\\nprint(rbc_ind(running[\\\"acousticness\\\"], gen[\\\"acousticness\\\"]))\";\n",
       "                var nbb_formatted_code = \"print(calc_non_param_ci(running[\\\"acousticness\\\"], gen[\\\"acousticness\\\"]))\\nprint(cles_ind(running[\\\"acousticness\\\"], gen[\\\"acousticness\\\"]))\\nprint(rbc_ind(running[\\\"acousticness\\\"], gen[\\\"acousticness\\\"]))\";\n",
       "                var nbb_cells = Jupyter.notebook.get_cells();\n",
       "                for (var i = 0; i < nbb_cells.length; ++i) {\n",
       "                    if (nbb_cells[i].input_prompt_number == nbb_cell_id) {\n",
       "                        if (nbb_cells[i].get_text() == nbb_unformatted_code) {\n",
       "                             nbb_cells[i].set_text(nbb_formatted_code);\n",
       "                        }\n",
       "                        break;\n",
       "                    }\n",
       "                }\n",
       "            }, 500);\n",
       "            "
      ],
      "text/plain": [
       "<IPython.core.display.Javascript object>"
      ]
     },
     "metadata": {},
     "output_type": "display_data"
    }
   ],
   "source": [
    "print(calc_non_param_ci(running[\"acousticness\"], gen[\"acousticness\"]))\n",
    "print(cles_ind(running[\"acousticness\"], gen[\"acousticness\"]))\n",
    "print(rbc_ind(running[\"acousticness\"], gen[\"acousticness\"]))"
   ]
  },
  {
   "cell_type": "markdown",
   "metadata": {},
   "source": [
    "Looking at the samples from this set, it would appear to be fairly definitive that making an acoustic track is a very bad idea but I'm a little concerned about it because in the api documentation([here](https://developer.spotify.com/documentation/web-api/reference/tracks/get-audio-features/)) the plot for the general population is very different than what they show"
   ]
  },
  {
   "cell_type": "markdown",
   "metadata": {},
   "source": [
    "Valence is a measure of positivity or happiness of a track. Closer to 1 means more positive\n",
    "\n",
    "$H_o$ : Running playlist valences are the same as the population\n",
    "\n",
    "$H_a$ : Running playlist valences are different than the population"
   ]
  },
  {
   "cell_type": "code",
   "execution_count": 23,
   "metadata": {
    "scrolled": true
   },
   "outputs": [
    {
     "data": {
      "image/png": "[encoded data removed]",
      "text/plain": [
       "<Figure size 432x288 with 1 Axes>"
      ]
     },
     "metadata": {
      "needs_background": "light"
     },
     "output_type": "display_data"
    },
    {
     "data": {
      "application/javascript": [
       "\n",
       "            setTimeout(function() {\n",
       "                var nbb_cell_id = 23;\n",
       "                var nbb_unformatted_code = \"gen[\\\"valence\\\"].hist(bins=30, alpha=0.5)\\nrunning[\\\"valence\\\"].hist(bins=30, alpha=0.5)\\nplt.show()\";\n",
       "                var nbb_formatted_code = \"gen[\\\"valence\\\"].hist(bins=30, alpha=0.5)\\nrunning[\\\"valence\\\"].hist(bins=30, alpha=0.5)\\nplt.show()\";\n",
       "                var nbb_cells = Jupyter.notebook.get_cells();\n",
       "                for (var i = 0; i < nbb_cells.length; ++i) {\n",
       "                    if (nbb_cells[i].input_prompt_number == nbb_cell_id) {\n",
       "                        if (nbb_cells[i].get_text() == nbb_unformatted_code) {\n",
       "                             nbb_cells[i].set_text(nbb_formatted_code);\n",
       "                        }\n",
       "                        break;\n",
       "                    }\n",
       "                }\n",
       "            }, 500);\n",
       "            "
      ],
      "text/plain": [
       "<IPython.core.display.Javascript object>"
      ]
     },
     "metadata": {},
     "output_type": "display_data"
    }
   ],
   "source": [
    "gen[\"valence\"].hist(bins=30, alpha=0.5)\n",
    "running[\"valence\"].hist(bins=30, alpha=0.5)\n",
    "plt.show()"
   ]
  },
  {
   "cell_type": "markdown",
   "metadata": {},
   "source": [
    "Looking at the distributions, it appears that running songs are less happy than the population"
   ]
  },
  {
   "cell_type": "code",
   "execution_count": 24,
   "metadata": {},
   "outputs": [
    {
     "name": "stdout",
     "output_type": "stream",
     "text": [
      "DescribeResult(nobs=5000, minmax=(0.0, 0.984), mean=0.5300693280000001, variance=0.06850174344963834, skewness=-0.12409209967838768, kurtosis=-1.0387476268367954)\n",
      "DescribeResult(nobs=4455, minmax=(0.0, 0.979), mean=0.4798855667789001, variance=0.05122042288772875, skewness=0.12503156096502394, kurtosis=-0.841613763018974)\n"
     ]
    },
    {
     "data": {
      "application/javascript": [
       "\n",
       "            setTimeout(function() {\n",
       "                var nbb_cell_id = 24;\n",
       "                var nbb_unformatted_code = \"# check for normality\\nprint(stats.describe(gen[\\\"valence\\\"]))\\nprint(stats.describe(running[\\\"valence\\\"]))\";\n",
       "                var nbb_formatted_code = \"# check for normality\\nprint(stats.describe(gen[\\\"valence\\\"]))\\nprint(stats.describe(running[\\\"valence\\\"]))\";\n",
       "                var nbb_cells = Jupyter.notebook.get_cells();\n",
       "                for (var i = 0; i < nbb_cells.length; ++i) {\n",
       "                    if (nbb_cells[i].input_prompt_number == nbb_cell_id) {\n",
       "                        if (nbb_cells[i].get_text() == nbb_unformatted_code) {\n",
       "                             nbb_cells[i].set_text(nbb_formatted_code);\n",
       "                        }\n",
       "                        break;\n",
       "                    }\n",
       "                }\n",
       "            }, 500);\n",
       "            "
      ],
      "text/plain": [
       "<IPython.core.display.Javascript object>"
      ]
     },
     "metadata": {},
     "output_type": "display_data"
    }
   ],
   "source": [
    "# check for normality\n",
    "print(stats.describe(gen[\"valence\"]))\n",
    "print(stats.describe(running[\"valence\"]))"
   ]
  },
  {
   "cell_type": "markdown",
   "metadata": {},
   "source": [
    "Kurtosis is a little high for the population but still within range of being able to call it normal. Time for a t-test"
   ]
  },
  {
   "cell_type": "code",
   "execution_count": 25,
   "metadata": {},
   "outputs": [
    {
     "data": {
      "text/plain": [
       "True"
      ]
     },
     "execution_count": 25,
     "metadata": {},
     "output_type": "execute_result"
    },
    {
     "data": {
      "application/javascript": [
       "\n",
       "            setTimeout(function() {\n",
       "                var nbb_cell_id = 25;\n",
       "                var nbb_unformatted_code = \"_, p = stats.ttest_ind(gen[\\\"valence\\\"], running[\\\"valence\\\"])\\nreject = p < 0.05\\nreject\";\n",
       "                var nbb_formatted_code = \"_, p = stats.ttest_ind(gen[\\\"valence\\\"], running[\\\"valence\\\"])\\nreject = p < 0.05\\nreject\";\n",
       "                var nbb_cells = Jupyter.notebook.get_cells();\n",
       "                for (var i = 0; i < nbb_cells.length; ++i) {\n",
       "                    if (nbb_cells[i].input_prompt_number == nbb_cell_id) {\n",
       "                        if (nbb_cells[i].get_text() == nbb_unformatted_code) {\n",
       "                             nbb_cells[i].set_text(nbb_formatted_code);\n",
       "                        }\n",
       "                        break;\n",
       "                    }\n",
       "                }\n",
       "            }, 500);\n",
       "            "
      ],
      "text/plain": [
       "<IPython.core.display.Javascript object>"
      ]
     },
     "metadata": {},
     "output_type": "display_data"
    }
   ],
   "source": [
    "_, p = stats.ttest_ind(gen[\"valence\"], running[\"valence\"])\n",
    "reject = p < 0.05\n",
    "reject"
   ]
  },
  {
   "cell_type": "markdown",
   "metadata": {},
   "source": [
    "p is low enough for us to reject the null. Let's see how different they are"
   ]
  },
  {
   "cell_type": "code",
   "execution_count": 26,
   "metadata": {},
   "outputs": [
    {
     "data": {
      "text/plain": [
       "(0.04034510047442072, 0.06002242196778265)"
      ]
     },
     "execution_count": 26,
     "metadata": {},
     "output_type": "execute_result"
    },
    {
     "data": {
      "application/javascript": [
       "\n",
       "            setTimeout(function() {\n",
       "                var nbb_cell_id = 26;\n",
       "                var nbb_unformatted_code = \"get_95_ci(gen[\\\"valence\\\"], running[\\\"valence\\\"])\";\n",
       "                var nbb_formatted_code = \"get_95_ci(gen[\\\"valence\\\"], running[\\\"valence\\\"])\";\n",
       "                var nbb_cells = Jupyter.notebook.get_cells();\n",
       "                for (var i = 0; i < nbb_cells.length; ++i) {\n",
       "                    if (nbb_cells[i].input_prompt_number == nbb_cell_id) {\n",
       "                        if (nbb_cells[i].get_text() == nbb_unformatted_code) {\n",
       "                             nbb_cells[i].set_text(nbb_formatted_code);\n",
       "                        }\n",
       "                        break;\n",
       "                    }\n",
       "                }\n",
       "            }, 500);\n",
       "            "
      ],
      "text/plain": [
       "<IPython.core.display.Javascript object>"
      ]
     },
     "metadata": {},
     "output_type": "display_data"
    }
   ],
   "source": [
    "get_95_ci(gen[\"valence\"], running[\"valence\"])"
   ]
  },
  {
   "cell_type": "markdown",
   "metadata": {},
   "source": [
    "On average, running songs are between 0.04 and 0.06 points lower than the population. This doesn't exactly imply that the sadder or angrier the song, the better it is for running but I think it's safe to say you can avoid making very happy songs if you want to appear on more running playlists"
   ]
  },
  {
   "cell_type": "code",
   "execution_count": 27,
   "metadata": {},
   "outputs": [
    {
     "data": {
      "image/png": "[encoded data removed]",
      "text/plain": [
       "<Figure size 432x288 with 1 Axes>"
      ]
     },
     "metadata": {
      "needs_background": "light"
     },
     "output_type": "display_data"
    },
    {
     "data": {
      "application/javascript": [
       "\n",
       "            setTimeout(function() {\n",
       "                var nbb_cell_id = 27;\n",
       "                var nbb_unformatted_code = \"gen[\\\"instrumentalness\\\"].hist(bins=30, alpha=0.5)\\nrunning[\\\"instrumentalness\\\"].hist(bins=30, alpha=0.5)\\nplt.show()\";\n",
       "                var nbb_formatted_code = \"gen[\\\"instrumentalness\\\"].hist(bins=30, alpha=0.5)\\nrunning[\\\"instrumentalness\\\"].hist(bins=30, alpha=0.5)\\nplt.show()\";\n",
       "                var nbb_cells = Jupyter.notebook.get_cells();\n",
       "                for (var i = 0; i < nbb_cells.length; ++i) {\n",
       "                    if (nbb_cells[i].input_prompt_number == nbb_cell_id) {\n",
       "                        if (nbb_cells[i].get_text() == nbb_unformatted_code) {\n",
       "                             nbb_cells[i].set_text(nbb_formatted_code);\n",
       "                        }\n",
       "                        break;\n",
       "                    }\n",
       "                }\n",
       "            }, 500);\n",
       "            "
      ],
      "text/plain": [
       "<IPython.core.display.Javascript object>"
      ]
     },
     "metadata": {},
     "output_type": "display_data"
    }
   ],
   "source": [
    "gen[\"instrumentalness\"].hist(bins=30, alpha=0.5)\n",
    "running[\"instrumentalness\"].hist(bins=30, alpha=0.5)\n",
    "plt.show()"
   ]
  },
  {
   "cell_type": "code",
   "execution_count": 28,
   "metadata": {},
   "outputs": [
    {
     "data": {
      "text/html": [
       "<div>\n",
       "<style scoped>\n",
       "    .dataframe tbody tr th:only-of-type {\n",
       "        vertical-align: middle;\n",
       "    }\n",
       "\n",
       "    .dataframe tbody tr th {\n",
       "        vertical-align: top;\n",
       "    }\n",
       "\n",
       "    .dataframe thead th {\n",
       "        text-align: right;\n",
       "    }\n",
       "</style>\n",
       "<table border=\"1\" class=\"dataframe\">\n",
       "  <thead>\n",
       "    <tr style=\"text-align: right;\">\n",
       "      <th></th>\n",
       "      <th>acousticness</th>\n",
       "      <th>artists</th>\n",
       "      <th>danceability</th>\n",
       "      <th>duration_ms</th>\n",
       "      <th>energy</th>\n",
       "      <th>explicit</th>\n",
       "      <th>id</th>\n",
       "      <th>instrumentalness</th>\n",
       "      <th>key</th>\n",
       "      <th>liveness</th>\n",
       "      <th>loudness</th>\n",
       "      <th>mode</th>\n",
       "      <th>name</th>\n",
       "      <th>popularity</th>\n",
       "      <th>release_date</th>\n",
       "      <th>speechiness</th>\n",
       "      <th>tempo</th>\n",
       "      <th>valence</th>\n",
       "      <th>year</th>\n",
       "    </tr>\n",
       "  </thead>\n",
       "  <tbody>\n",
       "    <tr>\n",
       "      <th>0</th>\n",
       "      <td>0.992</td>\n",
       "      <td>['Ignacio Corsini']</td>\n",
       "      <td>0.601</td>\n",
       "      <td>111333</td>\n",
       "      <td>0.1980</td>\n",
       "      <td>0</td>\n",
       "      <td>4rTjeJa5upBPcTPWtXYcJz</td>\n",
       "      <td>0.000082</td>\n",
       "      <td>6</td>\n",
       "      <td>0.3850</td>\n",
       "      <td>-19.337</td>\n",
       "      <td>0</td>\n",
       "      <td>Cuando Llora el Corazón - Remasterizado</td>\n",
       "      <td>0</td>\n",
       "      <td>1929-06-20</td>\n",
       "      <td>0.0777</td>\n",
       "      <td>122.350</td>\n",
       "      <td>0.842</td>\n",
       "      <td>1929</td>\n",
       "    </tr>\n",
       "    <tr>\n",
       "      <th>1</th>\n",
       "      <td>0.805</td>\n",
       "      <td>['Carole King']</td>\n",
       "      <td>0.650</td>\n",
       "      <td>186200</td>\n",
       "      <td>0.3420</td>\n",
       "      <td>0</td>\n",
       "      <td>7oEIm5uvKfOeMwilOAYb32</td>\n",
       "      <td>0.000006</td>\n",
       "      <td>4</td>\n",
       "      <td>0.0913</td>\n",
       "      <td>-11.345</td>\n",
       "      <td>1</td>\n",
       "      <td>Beautifull</td>\n",
       "      <td>41</td>\n",
       "      <td>1968</td>\n",
       "      <td>0.0289</td>\n",
       "      <td>77.093</td>\n",
       "      <td>0.558</td>\n",
       "      <td>1968</td>\n",
       "    </tr>\n",
       "    <tr>\n",
       "      <th>2</th>\n",
       "      <td>0.973</td>\n",
       "      <td>['Arthur Sullivan', 'Muriel Harding', 'Neville...</td>\n",
       "      <td>0.353</td>\n",
       "      <td>242307</td>\n",
       "      <td>0.0836</td>\n",
       "      <td>0</td>\n",
       "      <td>0cc1sgKtjZtMEzH1qE9tS0</td>\n",
       "      <td>0.000001</td>\n",
       "      <td>6</td>\n",
       "      <td>0.3130</td>\n",
       "      <td>-19.784</td>\n",
       "      <td>1</td>\n",
       "      <td>The Sorcerer / Act 1: 15. Sprites of earth and...</td>\n",
       "      <td>0</td>\n",
       "      <td>1953-01-01</td>\n",
       "      <td>0.0499</td>\n",
       "      <td>89.151</td>\n",
       "      <td>0.149</td>\n",
       "      <td>1953</td>\n",
       "    </tr>\n",
       "    <tr>\n",
       "      <th>3</th>\n",
       "      <td>0.322</td>\n",
       "      <td>['Bill LaBounty']</td>\n",
       "      <td>0.648</td>\n",
       "      <td>265640</td>\n",
       "      <td>0.4020</td>\n",
       "      <td>0</td>\n",
       "      <td>3KH39R9cO3ZWN6hqRbTKM3</td>\n",
       "      <td>0.000001</td>\n",
       "      <td>3</td>\n",
       "      <td>0.0886</td>\n",
       "      <td>-14.972</td>\n",
       "      <td>1</td>\n",
       "      <td>This Night Won't Last Forever</td>\n",
       "      <td>30</td>\n",
       "      <td>1978-07-21</td>\n",
       "      <td>0.0241</td>\n",
       "      <td>102.682</td>\n",
       "      <td>0.607</td>\n",
       "      <td>1978</td>\n",
       "    </tr>\n",
       "    <tr>\n",
       "      <th>4</th>\n",
       "      <td>0.309</td>\n",
       "      <td>['The Allman Brothers Band']</td>\n",
       "      <td>0.488</td>\n",
       "      <td>259444</td>\n",
       "      <td>0.7210</td>\n",
       "      <td>0</td>\n",
       "      <td>7K4jh3V3fP00WKg7c6lwqA</td>\n",
       "      <td>0.048200</td>\n",
       "      <td>2</td>\n",
       "      <td>0.4370</td>\n",
       "      <td>-9.141</td>\n",
       "      <td>1</td>\n",
       "      <td>Statesboro Blues - Live At Fillmore East, Marc...</td>\n",
       "      <td>23</td>\n",
       "      <td>1971-07-01</td>\n",
       "      <td>0.0617</td>\n",
       "      <td>125.940</td>\n",
       "      <td>0.786</td>\n",
       "      <td>1971</td>\n",
       "    </tr>\n",
       "  </tbody>\n",
       "</table>\n",
       "</div>"
      ],
      "text/plain": [
       "   acousticness                                            artists  \\\n",
       "0         0.992                                ['Ignacio Corsini']   \n",
       "1         0.805                                    ['Carole King']   \n",
       "2         0.973  ['Arthur Sullivan', 'Muriel Harding', 'Neville...   \n",
       "3         0.322                                  ['Bill LaBounty']   \n",
       "4         0.309                       ['The Allman Brothers Band']   \n",
       "\n",
       "   danceability  duration_ms  energy  explicit                      id  \\\n",
       "0         0.601       111333  0.1980         0  4rTjeJa5upBPcTPWtXYcJz   \n",
       "1         0.650       186200  0.3420         0  7oEIm5uvKfOeMwilOAYb32   \n",
       "2         0.353       242307  0.0836         0  0cc1sgKtjZtMEzH1qE9tS0   \n",
       "3         0.648       265640  0.4020         0  3KH39R9cO3ZWN6hqRbTKM3   \n",
       "4         0.488       259444  0.7210         0  7K4jh3V3fP00WKg7c6lwqA   \n",
       "\n",
       "   instrumentalness  key  liveness  loudness  mode  \\\n",
       "0          0.000082    6    0.3850   -19.337     0   \n",
       "1          0.000006    4    0.0913   -11.345     1   \n",
       "2          0.000001    6    0.3130   -19.784     1   \n",
       "3          0.000001    3    0.0886   -14.972     1   \n",
       "4          0.048200    2    0.4370    -9.141     1   \n",
       "\n",
       "                                                name  popularity release_date  \\\n",
       "0            Cuando Llora el Corazón - Remasterizado           0   1929-06-20   \n",
       "1                                         Beautifull          41         1968   \n",
       "2  The Sorcerer / Act 1: 15. Sprites of earth and...           0   1953-01-01   \n",
       "3                      This Night Won't Last Forever          30   1978-07-21   \n",
       "4  Statesboro Blues - Live At Fillmore East, Marc...          23   1971-07-01   \n",
       "\n",
       "   speechiness    tempo  valence  year  \n",
       "0       0.0777  122.350    0.842  1929  \n",
       "1       0.0289   77.093    0.558  1968  \n",
       "2       0.0499   89.151    0.149  1953  \n",
       "3       0.0241  102.682    0.607  1978  \n",
       "4       0.0617  125.940    0.786  1971  "
      ]
     },
     "execution_count": 28,
     "metadata": {},
     "output_type": "execute_result"
    },
    {
     "data": {
      "application/javascript": [
       "\n",
       "            setTimeout(function() {\n",
       "                var nbb_cell_id = 28;\n",
       "                var nbb_unformatted_code = \"gen.head()\";\n",
       "                var nbb_formatted_code = \"gen.head()\";\n",
       "                var nbb_cells = Jupyter.notebook.get_cells();\n",
       "                for (var i = 0; i < nbb_cells.length; ++i) {\n",
       "                    if (nbb_cells[i].input_prompt_number == nbb_cell_id) {\n",
       "                        if (nbb_cells[i].get_text() == nbb_unformatted_code) {\n",
       "                             nbb_cells[i].set_text(nbb_formatted_code);\n",
       "                        }\n",
       "                        break;\n",
       "                    }\n",
       "                }\n",
       "            }, 500);\n",
       "            "
      ],
      "text/plain": [
       "<IPython.core.display.Javascript object>"
      ]
     },
     "metadata": {},
     "output_type": "display_data"
    }
   ],
   "source": [
    "gen.head()"
   ]
  }
 ],
 "metadata": {
  "kernelspec": {
   "display_name": "Python 3",
   "language": "python",
   "name": "python3"
  },
  "language_info": {
   "codemirror_mode": {
    "name": "ipython",
    "version": 3
   },
   "file_extension": ".py",
   "mimetype": "text/x-python",
   "name": "python",
   "nbconvert_exporter": "python",
   "pygments_lexer": "ipython3",
   "version": "3.7.6"
  }
 },
 "nbformat": 4,
 "nbformat_minor": 4
}
