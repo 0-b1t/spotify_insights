{
 "cells": [
  {
   "cell_type": "code",
   "execution_count": 1,
   "metadata": {
    "scrolled": true
   },
   "outputs": [
    {
     "data": {
      "application/javascript": [
       "\n",
       "            setTimeout(function() {\n",
       "                var nbb_cell_id = 1;\n",
       "                var nbb_unformatted_code = \"#!pip install spotipy --upgrade\\n%reload_ext nb_black\";\n",
       "                var nbb_formatted_code = \"#!pip install spotipy --upgrade\\n%reload_ext nb_black\";\n",
       "                var nbb_cells = Jupyter.notebook.get_cells();\n",
       "                for (var i = 0; i < nbb_cells.length; ++i) {\n",
       "                    if (nbb_cells[i].input_prompt_number == nbb_cell_id) {\n",
       "                        if (nbb_cells[i].get_text() == nbb_unformatted_code) {\n",
       "                             nbb_cells[i].set_text(nbb_formatted_code);\n",
       "                        }\n",
       "                        break;\n",
       "                    }\n",
       "                }\n",
       "            }, 500);\n",
       "            "
      ],
      "text/plain": [
       "<IPython.core.display.Javascript object>"
      ]
     },
     "metadata": {},
     "output_type": "display_data"
    }
   ],
   "source": [
    "#!pip install spotipy --upgrade\n",
    "%reload_ext nb_black"
   ]
  },
  {
   "cell_type": "code",
   "execution_count": 3,
   "metadata": {},
   "outputs": [
    {
     "data": {
      "application/javascript": [
       "\n",
       "            setTimeout(function() {\n",
       "                var nbb_cell_id = 3;\n",
       "                var nbb_unformatted_code = \"import json\\n\\nwith open(\\\"secrets.json\\\", \\\"r\\\") as f:\\n    secrets = json.load(f)\";\n",
       "                var nbb_formatted_code = \"import json\\n\\nwith open(\\\"secrets.json\\\", \\\"r\\\") as f:\\n    secrets = json.load(f)\";\n",
       "                var nbb_cells = Jupyter.notebook.get_cells();\n",
       "                for (var i = 0; i < nbb_cells.length; ++i) {\n",
       "                    if (nbb_cells[i].input_prompt_number == nbb_cell_id) {\n",
       "                        if (nbb_cells[i].get_text() == nbb_unformatted_code) {\n",
       "                             nbb_cells[i].set_text(nbb_formatted_code);\n",
       "                        }\n",
       "                        break;\n",
       "                    }\n",
       "                }\n",
       "            }, 500);\n",
       "            "
      ],
      "text/plain": [
       "<IPython.core.display.Javascript object>"
      ]
     },
     "metadata": {},
     "output_type": "display_data"
    }
   ],
   "source": [
    "import json\n",
    "\n",
    "with open(\"secrets.json\", \"r\") as f:\n",
    "    secrets = json.load(f)"
   ]
  },
  {
   "cell_type": "code",
   "execution_count": 4,
   "metadata": {},
   "outputs": [
    {
     "name": "stderr",
     "output_type": "stream",
     "text": [
      "C:\\ProgramData\\Anaconda3\\lib\\site-packages\\ipykernel_launcher.py:15: DeprecationWarning: You're using 'as_dict = True'.get_access_token will return the token string directly in future versions. Please adjust your code accordingly, or use get_cached_token instead.\n",
      "  from ipykernel import kernelapp as app\n"
     ]
    },
    {
     "name": "stdout",
     "output_type": "stream",
     "text": [
      "{'tracks': {'href': 'https://api.spotify.com/v1/search?query=coldplay+yellow&type=track&market=US&offset=0&limit=1', 'items': [{'album': {'album_type': 'album', 'artists': [{'external_urls': {'spotify': 'https://open.spotify.com/artist/4gzpq5DPGxSnKTe4SA8HAU'}, 'href': 'https://api.spotify.com/v1/artists/4gzpq5DPGxSnKTe4SA8HAU', 'id': '4gzpq5DPGxSnKTe4SA8HAU', 'name': 'Coldplay', 'type': 'artist', 'uri': 'spotify:artist:4gzpq5DPGxSnKTe4SA8HAU'}], 'external_urls': {'spotify': 'https://open.spotify.com/album/6ZG5lRT77aJ3btmArcykra'}, 'href': 'https://api.spotify.com/v1/albums/6ZG5lRT77aJ3btmArcykra', 'id': '6ZG5lRT77aJ3btmArcykra', 'images': [{'height': 640, 'url': 'https://i.scdn.co/image/ab67616d0000b27345e735e3fc6f0c157d484982', 'width': 640}, {'height': 300, 'url': 'https://i.scdn.co/image/ab67616d00001e0245e735e3fc6f0c157d484982', 'width': 300}, {'height': 64, 'url': 'https://i.scdn.co/image/ab67616d0000485145e735e3fc6f0c157d484982', 'width': 64}], 'name': 'Parachutes', 'release_date': '2000-07-10', 'release_date_precision': 'day', 'total_tracks': 10, 'type': 'album', 'uri': 'spotify:album:6ZG5lRT77aJ3btmArcykra'}, 'artists': [{'external_urls': {'spotify': 'https://open.spotify.com/artist/4gzpq5DPGxSnKTe4SA8HAU'}, 'href': 'https://api.spotify.com/v1/artists/4gzpq5DPGxSnKTe4SA8HAU', 'id': '4gzpq5DPGxSnKTe4SA8HAU', 'name': 'Coldplay', 'type': 'artist', 'uri': 'spotify:artist:4gzpq5DPGxSnKTe4SA8HAU'}], 'disc_number': 1, 'duration_ms': 266773, 'explicit': False, 'external_ids': {'isrc': 'GBAYE0000267'}, 'external_urls': {'spotify': 'https://open.spotify.com/track/3AJwUDP919kvQ9QcozQPxg'}, 'href': 'https://api.spotify.com/v1/tracks/3AJwUDP919kvQ9QcozQPxg', 'id': '3AJwUDP919kvQ9QcozQPxg', 'is_local': False, 'is_playable': True, 'name': 'Yellow', 'popularity': 81, 'preview_url': 'https://p.scdn.co/mp3-preview/c119ca773ef844108da21c4679dc54c007cf0926?cid=b43285e548a544d4baf99fb53a601696', 'track_number': 5, 'type': 'track', 'uri': 'spotify:track:3AJwUDP919kvQ9QcozQPxg'}], 'limit': 1, 'next': 'https://api.spotify.com/v1/search?query=coldplay+yellow&type=track&market=US&offset=1&limit=1', 'offset': 0, 'previous': None, 'total': 199}}\n"
     ]
    },
    {
     "data": {
      "application/javascript": [
       "\n",
       "            setTimeout(function() {\n",
       "                var nbb_cell_id = 4;\n",
       "                var nbb_unformatted_code = \"import spotipy\\nimport spotipy.util as util\\nfrom spotipy.oauth2 import SpotifyClientCredentials\\nimport spotipy.oauth2 as oauth2\\n\\n\\n\\nCLIENT_ID = secrets[\\\"spotify_client_id\\\"]\\nCLIENT_SECRET = secrets[\\\"spotify_client_secret\\\"]\\n\\ncredentials = oauth2.SpotifyClientCredentials(\\n    client_id=CLIENT_ID, client_secret=CLIENT_SECRET\\n)\\n\\ntoken = credentials.get_access_token()\\nspotify = spotipy.Spotify(auth=token)\\n\\ntrack = \\\"coldplay yellow\\\"\\nres = spotify.search(track, type=\\\"track\\\", market='US', limit=1)\\nprint(res)\";\n",
       "                var nbb_formatted_code = \"import spotipy\\nimport spotipy.util as util\\nfrom spotipy.oauth2 import SpotifyClientCredentials\\nimport spotipy.oauth2 as oauth2\\n\\n\\nCLIENT_ID = secrets[\\\"spotify_client_id\\\"]\\nCLIENT_SECRET = secrets[\\\"spotify_client_secret\\\"]\\n\\ncredentials = oauth2.SpotifyClientCredentials(\\n    client_id=CLIENT_ID, client_secret=CLIENT_SECRET\\n)\\n\\ntoken = credentials.get_access_token()\\nspotify = spotipy.Spotify(auth=token)\\n\\ntrack = \\\"coldplay yellow\\\"\\nres = spotify.search(track, type=\\\"track\\\", market=\\\"US\\\", limit=1)\\nprint(res)\";\n",
       "                var nbb_cells = Jupyter.notebook.get_cells();\n",
       "                for (var i = 0; i < nbb_cells.length; ++i) {\n",
       "                    if (nbb_cells[i].input_prompt_number == nbb_cell_id) {\n",
       "                        if (nbb_cells[i].get_text() == nbb_unformatted_code) {\n",
       "                             nbb_cells[i].set_text(nbb_formatted_code);\n",
       "                        }\n",
       "                        break;\n",
       "                    }\n",
       "                }\n",
       "            }, 500);\n",
       "            "
      ],
      "text/plain": [
       "<IPython.core.display.Javascript object>"
      ]
     },
     "metadata": {},
     "output_type": "display_data"
    }
   ],
   "source": [
    "import spotipy\n",
    "import spotipy.util as util\n",
    "from spotipy.oauth2 import SpotifyClientCredentials\n",
    "import spotipy.oauth2 as oauth2\n",
    "\n",
    "\n",
    "CLIENT_ID = secrets[\"spotify_client_id\"]\n",
    "CLIENT_SECRET = secrets[\"spotify_client_secret\"]\n",
    "\n",
    "credentials = oauth2.SpotifyClientCredentials(\n",
    "    client_id=CLIENT_ID, client_secret=CLIENT_SECRET\n",
    ")\n",
    "\n",
    "token = credentials.get_access_token()\n",
    "spotify = spotipy.Spotify(auth=token)\n",
    "\n",
    "track = \"coldplay yellow\"\n",
    "res = spotify.search(track, type=\"track\", market=\"US\", limit=1)\n",
    "print(res)"
   ]
  },
  {
   "cell_type": "code",
   "execution_count": 13,
   "metadata": {},
   "outputs": [
    {
     "name": "stdout",
     "output_type": "stream",
     "text": [
      "{\n",
      "    \"tracks\": {\n",
      "        \"href\": \"https://api.spotify.com/v1/search?query=coldplay+yellow&type=track&market=US&offset=0&limit=1\",\n",
      "        \"items\": [\n",
      "            {\n",
      "                \"album\": {\n",
      "                    \"album_type\": \"album\",\n",
      "                    \"artists\": [\n",
      "                        {\n",
      "                            \"external_urls\": {\n",
      "                                \"spotify\": \"https://open.spotify.com/artist/4gzpq5DPGxSnKTe4SA8HAU\"\n",
      "                            },\n",
      "                            \"href\": \"https://api.spotify.com/v1/artists/4gzpq5DPGxSnKTe4SA8HAU\",\n",
      "                            \"id\": \"4gzpq5DPGxSnKTe4SA8HAU\",\n",
      "                            \"name\": \"Coldplay\",\n",
      "                            \"type\": \"artist\",\n",
      "                            \"uri\": \"spotify:artist:4gzpq5DPGxSnKTe4SA8HAU\"\n",
      "                        }\n",
      "                    ],\n",
      "                    \"external_urls\": {\n",
      "                        \"spotify\": \"https://open.spotify.com/album/6ZG5lRT77aJ3btmArcykra\"\n",
      "                    },\n",
      "                    \"href\": \"https://api.spotify.com/v1/albums/6ZG5lRT77aJ3btmArcykra\",\n",
      "                    \"id\": \"6ZG5lRT77aJ3btmArcykra\",\n",
      "                    \"images\": [\n",
      "                        {\n",
      "                            \"height\": 640,\n",
      "                            \"url\": \"https://i.scdn.co/image/ab67616d0000b27345e735e3fc6f0c157d484982\",\n",
      "                            \"width\": 640\n",
      "                        },\n",
      "                        {\n",
      "                            \"height\": 300,\n",
      "                            \"url\": \"https://i.scdn.co/image/ab67616d00001e0245e735e3fc6f0c157d484982\",\n",
      "                            \"width\": 300\n",
      "                        },\n",
      "                        {\n",
      "                            \"height\": 64,\n",
      "                            \"url\": \"https://i.scdn.co/image/ab67616d0000485145e735e3fc6f0c157d484982\",\n",
      "                            \"width\": 64\n",
      "                        }\n",
      "                    ],\n",
      "                    \"name\": \"Parachutes\",\n",
      "                    \"release_date\": \"2000-07-10\",\n",
      "                    \"release_date_precision\": \"day\",\n",
      "                    \"total_tracks\": 10,\n",
      "                    \"type\": \"album\",\n",
      "                    \"uri\": \"spotify:album:6ZG5lRT77aJ3btmArcykra\"\n",
      "                },\n",
      "                \"artists\": [\n",
      "                    {\n",
      "                        \"external_urls\": {\n",
      "                            \"spotify\": \"https://open.spotify.com/artist/4gzpq5DPGxSnKTe4SA8HAU\"\n",
      "                        },\n",
      "                        \"href\": \"https://api.spotify.com/v1/artists/4gzpq5DPGxSnKTe4SA8HAU\",\n",
      "                        \"id\": \"4gzpq5DPGxSnKTe4SA8HAU\",\n",
      "                        \"name\": \"Coldplay\",\n",
      "                        \"type\": \"artist\",\n",
      "                        \"uri\": \"spotify:artist:4gzpq5DPGxSnKTe4SA8HAU\"\n",
      "                    }\n",
      "                ],\n",
      "                \"disc_number\": 1,\n",
      "                \"duration_ms\": 266773,\n",
      "                \"explicit\": false,\n",
      "                \"external_ids\": {\n",
      "                    \"isrc\": \"GBAYE0000267\"\n",
      "                },\n",
      "                \"external_urls\": {\n",
      "                    \"spotify\": \"https://open.spotify.com/track/3AJwUDP919kvQ9QcozQPxg\"\n",
      "                },\n",
      "                \"href\": \"https://api.spotify.com/v1/tracks/3AJwUDP919kvQ9QcozQPxg\",\n",
      "                \"id\": \"3AJwUDP919kvQ9QcozQPxg\",\n",
      "                \"is_local\": false,\n",
      "                \"is_playable\": true,\n",
      "                \"name\": \"Yellow\",\n",
      "                \"popularity\": 81,\n",
      "                \"preview_url\": \"https://p.scdn.co/mp3-preview/c119ca773ef844108da21c4679dc54c007cf0926?cid=b43285e548a544d4baf99fb53a601696\",\n",
      "                \"track_number\": 5,\n",
      "                \"type\": \"track\",\n",
      "                \"uri\": \"spotify:track:3AJwUDP919kvQ9QcozQPxg\"\n",
      "            }\n",
      "        ],\n",
      "        \"limit\": 1,\n",
      "        \"next\": \"https://api.spotify.com/v1/search?query=coldplay+yellow&type=track&market=US&offset=1&limit=1\",\n",
      "        \"offset\": 0,\n",
      "        \"previous\": null,\n",
      "        \"total\": 199\n",
      "    }\n",
      "}\n"
     ]
    }
   ],
   "source": [
    "print(json.dumps(res, indent = 4, sort_keys = True))"
   ]
  }
 ],
 "metadata": {
  "kernelspec": {
   "display_name": "Python 3",
   "language": "python",
   "name": "python3"
  },
  "language_info": {
   "codemirror_mode": {
    "name": "ipython",
    "version": 3
   },
   "file_extension": ".py",
   "mimetype": "text/x-python",
   "name": "python",
   "nbconvert_exporter": "python",
   "pygments_lexer": "ipython3",
   "version": "3.7.6"
  }
 },
 "nbformat": 4,
 "nbformat_minor": 4
}
