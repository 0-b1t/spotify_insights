{
 "cells": [
  {
   "cell_type": "code",
   "execution_count": 1,
   "metadata": {},
   "outputs": [
    {
     "data": {
      "application/javascript": [
       "\n",
       "            setTimeout(function() {\n",
       "                var nbb_cell_id = 1;\n",
       "                var nbb_unformatted_code = \"#!pip install spotipy --upgrade\\n%reload_ext nb_black\";\n",
       "                var nbb_formatted_code = \"#!pip install spotipy --upgrade\\n%reload_ext nb_black\";\n",
       "                var nbb_cells = Jupyter.notebook.get_cells();\n",
       "                for (var i = 0; i < nbb_cells.length; ++i) {\n",
       "                    if (nbb_cells[i].input_prompt_number == nbb_cell_id) {\n",
       "                        if (nbb_cells[i].get_text() == nbb_unformatted_code) {\n",
       "                             nbb_cells[i].set_text(nbb_formatted_code);\n",
       "                        }\n",
       "                        break;\n",
       "                    }\n",
       "                }\n",
       "            }, 500);\n",
       "            "
      ],
      "text/plain": [
       "<IPython.core.display.Javascript object>"
      ]
     },
     "metadata": {},
     "output_type": "display_data"
    }
   ],
   "source": [
    "#!pip install spotipy --upgrade\n",
    "%reload_ext nb_black"
   ]
  },
  {
   "cell_type": "code",
   "execution_count": 2,
   "metadata": {},
   "outputs": [
    {
     "data": {
      "application/javascript": [
       "\n",
       "            setTimeout(function() {\n",
       "                var nbb_cell_id = 2;\n",
       "                var nbb_unformatted_code = \"import pandas as pd\\nimport seaborn as sns\\nimport numpy as np\\nimport matplotlib.pyplot as plt\\nimport scipy as stats\";\n",
       "                var nbb_formatted_code = \"import pandas as pd\\nimport seaborn as sns\\nimport numpy as np\\nimport matplotlib.pyplot as plt\\nimport scipy as stats\";\n",
       "                var nbb_cells = Jupyter.notebook.get_cells();\n",
       "                for (var i = 0; i < nbb_cells.length; ++i) {\n",
       "                    if (nbb_cells[i].input_prompt_number == nbb_cell_id) {\n",
       "                        if (nbb_cells[i].get_text() == nbb_unformatted_code) {\n",
       "                             nbb_cells[i].set_text(nbb_formatted_code);\n",
       "                        }\n",
       "                        break;\n",
       "                    }\n",
       "                }\n",
       "            }, 500);\n",
       "            "
      ],
      "text/plain": [
       "<IPython.core.display.Javascript object>"
      ]
     },
     "metadata": {},
     "output_type": "display_data"
    }
   ],
   "source": [
    "import pandas as pd\n",
    "import seaborn as sns\n",
    "import numpy as np\n",
    "import matplotlib.pyplot as plt\n",
    "import scipy as stats"
   ]
  },
  {
   "cell_type": "code",
   "execution_count": 6,
   "metadata": {},
   "outputs": [
    {
     "data": {
      "text/html": [
       "<div>\n",
       "<style scoped>\n",
       "    .dataframe tbody tr th:only-of-type {\n",
       "        vertical-align: middle;\n",
       "    }\n",
       "\n",
       "    .dataframe tbody tr th {\n",
       "        vertical-align: top;\n",
       "    }\n",
       "\n",
       "    .dataframe thead th {\n",
       "        text-align: right;\n",
       "    }\n",
       "</style>\n",
       "<table border=\"1\" class=\"dataframe\">\n",
       "  <thead>\n",
       "    <tr style=\"text-align: right;\">\n",
       "      <th></th>\n",
       "      <th>id</th>\n",
       "      <th>artist</th>\n",
       "      <th>title</th>\n",
       "      <th>album</th>\n",
       "      <th>popularity</th>\n",
       "      <th>danceability</th>\n",
       "      <th>energy</th>\n",
       "      <th>key</th>\n",
       "      <th>loudness</th>\n",
       "      <th>mode</th>\n",
       "      <th>speechiness</th>\n",
       "      <th>acousticness</th>\n",
       "      <th>instrumentalness</th>\n",
       "      <th>liveness</th>\n",
       "      <th>valence</th>\n",
       "      <th>tempo</th>\n",
       "      <th>duration_ms</th>\n",
       "      <th>time_signature</th>\n",
       "    </tr>\n",
       "  </thead>\n",
       "  <tbody>\n",
       "    <tr>\n",
       "      <th>0</th>\n",
       "      <td>00GOPLxW4PGQuUYdPJh8K1</td>\n",
       "      <td>Childish Gambino</td>\n",
       "      <td>IV. Sweatpants</td>\n",
       "      <td>Because the Internet</td>\n",
       "      <td>71</td>\n",
       "      <td>0.710</td>\n",
       "      <td>0.470</td>\n",
       "      <td>1</td>\n",
       "      <td>-9.330</td>\n",
       "      <td>0</td>\n",
       "      <td>0.1420</td>\n",
       "      <td>0.15400</td>\n",
       "      <td>0.00000</td>\n",
       "      <td>0.6430</td>\n",
       "      <td>0.581</td>\n",
       "      <td>80.027</td>\n",
       "      <td>180675</td>\n",
       "      <td>4</td>\n",
       "    </tr>\n",
       "    <tr>\n",
       "      <th>1</th>\n",
       "      <td>00QyLmjxaSEE8qIZQjBXBj</td>\n",
       "      <td>2 Chainz</td>\n",
       "      <td>We Own It (Fast &amp; Furious)</td>\n",
       "      <td>Fast &amp; Furious 6</td>\n",
       "      <td>62</td>\n",
       "      <td>0.554</td>\n",
       "      <td>0.899</td>\n",
       "      <td>8</td>\n",
       "      <td>-4.573</td>\n",
       "      <td>1</td>\n",
       "      <td>0.4080</td>\n",
       "      <td>0.05210</td>\n",
       "      <td>0.00000</td>\n",
       "      <td>0.0568</td>\n",
       "      <td>0.552</td>\n",
       "      <td>171.966</td>\n",
       "      <td>227893</td>\n",
       "      <td>4</td>\n",
       "    </tr>\n",
       "    <tr>\n",
       "      <th>2</th>\n",
       "      <td>00V7a8gzdZQgvulLe3MDe3</td>\n",
       "      <td>Elliphant</td>\n",
       "      <td>To The End</td>\n",
       "      <td>To The End</td>\n",
       "      <td>0</td>\n",
       "      <td>0.650</td>\n",
       "      <td>0.893</td>\n",
       "      <td>11</td>\n",
       "      <td>-3.340</td>\n",
       "      <td>0</td>\n",
       "      <td>0.0426</td>\n",
       "      <td>0.01300</td>\n",
       "      <td>0.00384</td>\n",
       "      <td>0.0898</td>\n",
       "      <td>0.246</td>\n",
       "      <td>115.005</td>\n",
       "      <td>259773</td>\n",
       "      <td>4</td>\n",
       "    </tr>\n",
       "    <tr>\n",
       "      <th>3</th>\n",
       "      <td>00ko9WaS4jOX1kEk3gvHjf</td>\n",
       "      <td>Chance the Rapper</td>\n",
       "      <td>Hot Shower</td>\n",
       "      <td>The Big Day</td>\n",
       "      <td>74</td>\n",
       "      <td>0.899</td>\n",
       "      <td>0.509</td>\n",
       "      <td>9</td>\n",
       "      <td>-8.040</td>\n",
       "      <td>1</td>\n",
       "      <td>0.3870</td>\n",
       "      <td>0.00157</td>\n",
       "      <td>0.00000</td>\n",
       "      <td>0.0573</td>\n",
       "      <td>0.599</td>\n",
       "      <td>150.001</td>\n",
       "      <td>225924</td>\n",
       "      <td>4</td>\n",
       "    </tr>\n",
       "    <tr>\n",
       "      <th>4</th>\n",
       "      <td>00qOE7OjRl0BpYiCiweZB2</td>\n",
       "      <td>Foreigner</td>\n",
       "      <td>Juke Box Hero</td>\n",
       "      <td>4 (Expanded)</td>\n",
       "      <td>68</td>\n",
       "      <td>0.357</td>\n",
       "      <td>0.653</td>\n",
       "      <td>9</td>\n",
       "      <td>-5.554</td>\n",
       "      <td>1</td>\n",
       "      <td>0.0654</td>\n",
       "      <td>0.08280</td>\n",
       "      <td>0.00000</td>\n",
       "      <td>0.0844</td>\n",
       "      <td>0.522</td>\n",
       "      <td>176.647</td>\n",
       "      <td>259800</td>\n",
       "      <td>4</td>\n",
       "    </tr>\n",
       "  </tbody>\n",
       "</table>\n",
       "</div>"
      ],
      "text/plain": [
       "                       id             artist                       title  \\\n",
       "0  00GOPLxW4PGQuUYdPJh8K1   Childish Gambino              IV. Sweatpants   \n",
       "1  00QyLmjxaSEE8qIZQjBXBj           2 Chainz  We Own It (Fast & Furious)   \n",
       "2  00V7a8gzdZQgvulLe3MDe3          Elliphant                  To The End   \n",
       "3  00ko9WaS4jOX1kEk3gvHjf  Chance the Rapper                  Hot Shower   \n",
       "4  00qOE7OjRl0BpYiCiweZB2          Foreigner               Juke Box Hero   \n",
       "\n",
       "                  album  popularity  danceability  energy  key  loudness  \\\n",
       "0  Because the Internet          71         0.710   0.470    1    -9.330   \n",
       "1      Fast & Furious 6          62         0.554   0.899    8    -4.573   \n",
       "2            To The End           0         0.650   0.893   11    -3.340   \n",
       "3           The Big Day          74         0.899   0.509    9    -8.040   \n",
       "4          4 (Expanded)          68         0.357   0.653    9    -5.554   \n",
       "\n",
       "   mode  speechiness  acousticness  instrumentalness  liveness  valence  \\\n",
       "0     0       0.1420       0.15400           0.00000    0.6430    0.581   \n",
       "1     1       0.4080       0.05210           0.00000    0.0568    0.552   \n",
       "2     0       0.0426       0.01300           0.00384    0.0898    0.246   \n",
       "3     1       0.3870       0.00157           0.00000    0.0573    0.599   \n",
       "4     1       0.0654       0.08280           0.00000    0.0844    0.522   \n",
       "\n",
       "     tempo  duration_ms  time_signature  \n",
       "0   80.027       180675               4  \n",
       "1  171.966       227893               4  \n",
       "2  115.005       259773               4  \n",
       "3  150.001       225924               4  \n",
       "4  176.647       259800               4  "
      ]
     },
     "execution_count": 6,
     "metadata": {},
     "output_type": "execute_result"
    },
    {
     "data": {
      "application/javascript": [
       "\n",
       "            setTimeout(function() {\n",
       "                var nbb_cell_id = 6;\n",
       "                var nbb_unformatted_code = \"running = pd.read_csv(\\\"../data/running_playlist_tracks.csv\\\")\\nrunning.drop(columns=\\\"Unnamed: 0\\\", inplace=True)\\nrunning.head()\";\n",
       "                var nbb_formatted_code = \"running = pd.read_csv(\\\"../data/running_playlist_tracks.csv\\\")\\nrunning.drop(columns=\\\"Unnamed: 0\\\", inplace=True)\\nrunning.head()\";\n",
       "                var nbb_cells = Jupyter.notebook.get_cells();\n",
       "                for (var i = 0; i < nbb_cells.length; ++i) {\n",
       "                    if (nbb_cells[i].input_prompt_number == nbb_cell_id) {\n",
       "                        if (nbb_cells[i].get_text() == nbb_unformatted_code) {\n",
       "                             nbb_cells[i].set_text(nbb_formatted_code);\n",
       "                        }\n",
       "                        break;\n",
       "                    }\n",
       "                }\n",
       "            }, 500);\n",
       "            "
      ],
      "text/plain": [
       "<IPython.core.display.Javascript object>"
      ]
     },
     "metadata": {},
     "output_type": "display_data"
    }
   ],
   "source": [
    "running = pd.read_csv(\"../data/running_playlist_tracks.csv\")\n",
    "running.drop(columns=\"Unnamed: 0\", inplace=True)\n",
    "running.head()"
   ]
  },
  {
   "cell_type": "code",
   "execution_count": 7,
   "metadata": {},
   "outputs": [
    {
     "data": {
      "text/plain": [
       "array([[<matplotlib.axes._subplots.AxesSubplot object at 0x0000020BA631EE08>,\n",
       "        <matplotlib.axes._subplots.AxesSubplot object at 0x0000020BA66594C8>,\n",
       "        <matplotlib.axes._subplots.AxesSubplot object at 0x0000020BA6472748>,\n",
       "        <matplotlib.axes._subplots.AxesSubplot object at 0x0000020BA64A7148>],\n",
       "       [<matplotlib.axes._subplots.AxesSubplot object at 0x0000020BA64DDB48>,\n",
       "        <matplotlib.axes._subplots.AxesSubplot object at 0x0000020BA6517588>,\n",
       "        <matplotlib.axes._subplots.AxesSubplot object at 0x0000020BA6856848>,\n",
       "        <matplotlib.axes._subplots.AxesSubplot object at 0x0000020BA6680948>],\n",
       "       [<matplotlib.axes._subplots.AxesSubplot object at 0x0000020BA668C508>,\n",
       "        <matplotlib.axes._subplots.AxesSubplot object at 0x0000020BA66C5708>,\n",
       "        <matplotlib.axes._subplots.AxesSubplot object at 0x0000020BA6729C88>,\n",
       "        <matplotlib.axes._subplots.AxesSubplot object at 0x0000020BA6AA2D48>],\n",
       "       [<matplotlib.axes._subplots.AxesSubplot object at 0x0000020BA6ADCE48>,\n",
       "        <matplotlib.axes._subplots.AxesSubplot object at 0x0000020BA6B13F48>,\n",
       "        <matplotlib.axes._subplots.AxesSubplot object at 0x0000020BA6B500C8>,\n",
       "        <matplotlib.axes._subplots.AxesSubplot object at 0x0000020BA6B8A288>]],\n",
       "      dtype=object)"
      ]
     },
     "execution_count": 7,
     "metadata": {},
     "output_type": "execute_result"
    },
    {
     "data": {
      "image/png": "[encoded data removed]",
      "text/plain": [
       "<Figure size 1080x720 with 16 Axes>"
      ]
     },
     "metadata": {
      "needs_background": "light"
     },
     "output_type": "display_data"
    },
    {
     "data": {
      "application/javascript": [
       "\n",
       "            setTimeout(function() {\n",
       "                var nbb_cell_id = 7;\n",
       "                var nbb_unformatted_code = \"running.hist(figsize=(15, 10))\";\n",
       "                var nbb_formatted_code = \"running.hist(figsize=(15, 10))\";\n",
       "                var nbb_cells = Jupyter.notebook.get_cells();\n",
       "                for (var i = 0; i < nbb_cells.length; ++i) {\n",
       "                    if (nbb_cells[i].input_prompt_number == nbb_cell_id) {\n",
       "                        if (nbb_cells[i].get_text() == nbb_unformatted_code) {\n",
       "                             nbb_cells[i].set_text(nbb_formatted_code);\n",
       "                        }\n",
       "                        break;\n",
       "                    }\n",
       "                }\n",
       "            }, 500);\n",
       "            "
      ],
      "text/plain": [
       "<IPython.core.display.Javascript object>"
      ]
     },
     "metadata": {},
     "output_type": "display_data"
    }
   ],
   "source": [
    "running.hist(figsize=(15, 10))"
   ]
  }
 ],
 "metadata": {
  "kernelspec": {
   "display_name": "Python 3",
   "language": "python",
   "name": "python3"
  },
  "language_info": {
   "codemirror_mode": {
    "name": "ipython",
    "version": 3
   },
   "file_extension": ".py",
   "mimetype": "text/x-python",
   "name": "python",
   "nbconvert_exporter": "python",
   "pygments_lexer": "ipython3",
   "version": "3.7.6"
  }
 },
 "nbformat": 4,
 "nbformat_minor": 4
}
