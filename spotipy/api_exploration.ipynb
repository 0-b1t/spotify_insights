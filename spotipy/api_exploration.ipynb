{
 "cells": [
  {
   "cell_type": "code",
   "execution_count": 12,
   "metadata": {
    "scrolled": true
   },
   "outputs": [
    {
     "data": {
      "application/javascript": [
       "\n",
       "            setTimeout(function() {\n",
       "                var nbb_cell_id = 12;\n",
       "                var nbb_unformatted_code = \"#!pip install spotipy --upgrade\\n%reload_ext nb_black\";\n",
       "                var nbb_formatted_code = \"#!pip install spotipy --upgrade\\n%reload_ext nb_black\";\n",
       "                var nbb_cells = Jupyter.notebook.get_cells();\n",
       "                for (var i = 0; i < nbb_cells.length; ++i) {\n",
       "                    if (nbb_cells[i].input_prompt_number == nbb_cell_id) {\n",
       "                        if (nbb_cells[i].get_text() == nbb_unformatted_code) {\n",
       "                             nbb_cells[i].set_text(nbb_formatted_code);\n",
       "                        }\n",
       "                        break;\n",
       "                    }\n",
       "                }\n",
       "            }, 500);\n",
       "            "
      ],
      "text/plain": [
       "<IPython.core.display.Javascript object>"
      ]
     },
     "metadata": {},
     "output_type": "display_data"
    },
    {
     "data": {
      "application/javascript": [
       "\n",
       "            setTimeout(function() {\n",
       "                var nbb_cell_id = 12;\n",
       "                var nbb_unformatted_code = \"#!pip install spotipy --upgrade\\n%reload_ext nb_black\";\n",
       "                var nbb_formatted_code = \"#!pip install spotipy --upgrade\\n%reload_ext nb_black\";\n",
       "                var nbb_cells = Jupyter.notebook.get_cells();\n",
       "                for (var i = 0; i < nbb_cells.length; ++i) {\n",
       "                    if (nbb_cells[i].input_prompt_number == nbb_cell_id) {\n",
       "                        if (nbb_cells[i].get_text() == nbb_unformatted_code) {\n",
       "                             nbb_cells[i].set_text(nbb_formatted_code);\n",
       "                        }\n",
       "                        break;\n",
       "                    }\n",
       "                }\n",
       "            }, 500);\n",
       "            "
      ],
      "text/plain": [
       "<IPython.core.display.Javascript object>"
      ]
     },
     "metadata": {},
     "output_type": "display_data"
    }
   ],
   "source": [
    "#!pip install spotipy --upgrade\n",
    "%reload_ext nb_black"
   ]
  },
  {
   "cell_type": "code",
   "execution_count": 13,
   "metadata": {},
   "outputs": [
    {
     "data": {
      "application/javascript": [
       "\n",
       "            setTimeout(function() {\n",
       "                var nbb_cell_id = 13;\n",
       "                var nbb_unformatted_code = \"import pandas as pd\\nimport seaborn as sns\\nimport numpy as np\\nimport matplotlib.pyplot as plt\";\n",
       "                var nbb_formatted_code = \"import pandas as pd\\nimport seaborn as sns\\nimport numpy as np\\nimport matplotlib.pyplot as plt\";\n",
       "                var nbb_cells = Jupyter.notebook.get_cells();\n",
       "                for (var i = 0; i < nbb_cells.length; ++i) {\n",
       "                    if (nbb_cells[i].input_prompt_number == nbb_cell_id) {\n",
       "                        if (nbb_cells[i].get_text() == nbb_unformatted_code) {\n",
       "                             nbb_cells[i].set_text(nbb_formatted_code);\n",
       "                        }\n",
       "                        break;\n",
       "                    }\n",
       "                }\n",
       "            }, 500);\n",
       "            "
      ],
      "text/plain": [
       "<IPython.core.display.Javascript object>"
      ]
     },
     "metadata": {},
     "output_type": "display_data"
    },
    {
     "data": {
      "application/javascript": [
       "\n",
       "            setTimeout(function() {\n",
       "                var nbb_cell_id = 13;\n",
       "                var nbb_unformatted_code = \"import pandas as pd\\nimport seaborn as sns\\nimport numpy as np\\nimport matplotlib.pyplot as plt\";\n",
       "                var nbb_formatted_code = \"import pandas as pd\\nimport seaborn as sns\\nimport numpy as np\\nimport matplotlib.pyplot as plt\";\n",
       "                var nbb_cells = Jupyter.notebook.get_cells();\n",
       "                for (var i = 0; i < nbb_cells.length; ++i) {\n",
       "                    if (nbb_cells[i].input_prompt_number == nbb_cell_id) {\n",
       "                        if (nbb_cells[i].get_text() == nbb_unformatted_code) {\n",
       "                             nbb_cells[i].set_text(nbb_formatted_code);\n",
       "                        }\n",
       "                        break;\n",
       "                    }\n",
       "                }\n",
       "            }, 500);\n",
       "            "
      ],
      "text/plain": [
       "<IPython.core.display.Javascript object>"
      ]
     },
     "metadata": {},
     "output_type": "display_data"
    }
   ],
   "source": [
    "import pandas as pd\n",
    "import seaborn as sns\n",
    "import numpy as np\n",
    "import matplotlib.pyplot as plt"
   ]
  },
  {
   "cell_type": "code",
   "execution_count": 14,
   "metadata": {},
   "outputs": [
    {
     "data": {
      "application/javascript": [
       "\n",
       "            setTimeout(function() {\n",
       "                var nbb_cell_id = 14;\n",
       "                var nbb_unformatted_code = \"import json\\n\\nwith open(\\\"../secrets.json\\\", \\\"r\\\") as f:\\n    secrets = json.load(f)\";\n",
       "                var nbb_formatted_code = \"import json\\n\\nwith open(\\\"../secrets.json\\\", \\\"r\\\") as f:\\n    secrets = json.load(f)\";\n",
       "                var nbb_cells = Jupyter.notebook.get_cells();\n",
       "                for (var i = 0; i < nbb_cells.length; ++i) {\n",
       "                    if (nbb_cells[i].input_prompt_number == nbb_cell_id) {\n",
       "                        if (nbb_cells[i].get_text() == nbb_unformatted_code) {\n",
       "                             nbb_cells[i].set_text(nbb_formatted_code);\n",
       "                        }\n",
       "                        break;\n",
       "                    }\n",
       "                }\n",
       "            }, 500);\n",
       "            "
      ],
      "text/plain": [
       "<IPython.core.display.Javascript object>"
      ]
     },
     "metadata": {},
     "output_type": "display_data"
    },
    {
     "data": {
      "application/javascript": [
       "\n",
       "            setTimeout(function() {\n",
       "                var nbb_cell_id = 14;\n",
       "                var nbb_unformatted_code = \"import json\\n\\nwith open(\\\"../secrets.json\\\", \\\"r\\\") as f:\\n    secrets = json.load(f)\";\n",
       "                var nbb_formatted_code = \"import json\\n\\nwith open(\\\"../secrets.json\\\", \\\"r\\\") as f:\\n    secrets = json.load(f)\";\n",
       "                var nbb_cells = Jupyter.notebook.get_cells();\n",
       "                for (var i = 0; i < nbb_cells.length; ++i) {\n",
       "                    if (nbb_cells[i].input_prompt_number == nbb_cell_id) {\n",
       "                        if (nbb_cells[i].get_text() == nbb_unformatted_code) {\n",
       "                             nbb_cells[i].set_text(nbb_formatted_code);\n",
       "                        }\n",
       "                        break;\n",
       "                    }\n",
       "                }\n",
       "            }, 500);\n",
       "            "
      ],
      "text/plain": [
       "<IPython.core.display.Javascript object>"
      ]
     },
     "metadata": {},
     "output_type": "display_data"
    }
   ],
   "source": [
    "import json\n",
    "\n",
    "with open(\"../secrets.json\", \"r\") as f:\n",
    "    secrets = json.load(f)"
   ]
  },
  {
   "cell_type": "code",
   "execution_count": 67,
   "metadata": {},
   "outputs": [
    {
     "name": "stderr",
     "output_type": "stream",
     "text": [
      "C:\\ProgramData\\Anaconda3\\lib\\site-packages\\ipykernel_launcher.py:14: DeprecationWarning: You're using 'as_dict = True'.get_access_token will return the token string directly in future versions. Please adjust your code accordingly, or use get_cached_token instead.\n",
      "  \n"
     ]
    },
    {
     "data": {
      "application/javascript": [
       "\n",
       "            setTimeout(function() {\n",
       "                var nbb_cell_id = 67;\n",
       "                var nbb_unformatted_code = \"import spotipy\\nimport spotipy.util as util\\nfrom spotipy.oauth2 import SpotifyClientCredentials\\nimport spotipy.oauth2 as oauth2\\n\\n\\nCLIENT_ID = secrets[\\\"spotify_client_id\\\"]\\nCLIENT_SECRET = secrets[\\\"spotify_client_secret\\\"]\\n\\ncredentials = oauth2.SpotifyClientCredentials(\\n    client_id=CLIENT_ID, client_secret=CLIENT_SECRET\\n)\\n\\ntoken = credentials.get_access_token()\\nsp = spotipy.Spotify(auth=token)\\n\\n# track = \\\"coldplay yellow\\\"\\n# res = spotify.search(track, type=\\\"track\\\", market=\\\"US\\\", limit=1)\\n# print(res)\";\n",
       "                var nbb_formatted_code = \"import spotipy\\nimport spotipy.util as util\\nfrom spotipy.oauth2 import SpotifyClientCredentials\\nimport spotipy.oauth2 as oauth2\\n\\n\\nCLIENT_ID = secrets[\\\"spotify_client_id\\\"]\\nCLIENT_SECRET = secrets[\\\"spotify_client_secret\\\"]\\n\\ncredentials = oauth2.SpotifyClientCredentials(\\n    client_id=CLIENT_ID, client_secret=CLIENT_SECRET\\n)\\n\\ntoken = credentials.get_access_token()\\nsp = spotipy.Spotify(auth=token)\\n\\n# track = \\\"coldplay yellow\\\"\\n# res = spotify.search(track, type=\\\"track\\\", market=\\\"US\\\", limit=1)\\n# print(res)\";\n",
       "                var nbb_cells = Jupyter.notebook.get_cells();\n",
       "                for (var i = 0; i < nbb_cells.length; ++i) {\n",
       "                    if (nbb_cells[i].input_prompt_number == nbb_cell_id) {\n",
       "                        if (nbb_cells[i].get_text() == nbb_unformatted_code) {\n",
       "                             nbb_cells[i].set_text(nbb_formatted_code);\n",
       "                        }\n",
       "                        break;\n",
       "                    }\n",
       "                }\n",
       "            }, 500);\n",
       "            "
      ],
      "text/plain": [
       "<IPython.core.display.Javascript object>"
      ]
     },
     "metadata": {},
     "output_type": "display_data"
    },
    {
     "data": {
      "application/javascript": [
       "\n",
       "            setTimeout(function() {\n",
       "                var nbb_cell_id = 67;\n",
       "                var nbb_unformatted_code = \"import spotipy\\nimport spotipy.util as util\\nfrom spotipy.oauth2 import SpotifyClientCredentials\\nimport spotipy.oauth2 as oauth2\\n\\n\\nCLIENT_ID = secrets[\\\"spotify_client_id\\\"]\\nCLIENT_SECRET = secrets[\\\"spotify_client_secret\\\"]\\n\\ncredentials = oauth2.SpotifyClientCredentials(\\n    client_id=CLIENT_ID, client_secret=CLIENT_SECRET\\n)\\n\\ntoken = credentials.get_access_token()\\nsp = spotipy.Spotify(auth=token)\\n\\n# track = \\\"coldplay yellow\\\"\\n# res = spotify.search(track, type=\\\"track\\\", market=\\\"US\\\", limit=1)\\n# print(res)\";\n",
       "                var nbb_formatted_code = \"import spotipy\\nimport spotipy.util as util\\nfrom spotipy.oauth2 import SpotifyClientCredentials\\nimport spotipy.oauth2 as oauth2\\n\\n\\nCLIENT_ID = secrets[\\\"spotify_client_id\\\"]\\nCLIENT_SECRET = secrets[\\\"spotify_client_secret\\\"]\\n\\ncredentials = oauth2.SpotifyClientCredentials(\\n    client_id=CLIENT_ID, client_secret=CLIENT_SECRET\\n)\\n\\ntoken = credentials.get_access_token()\\nsp = spotipy.Spotify(auth=token)\\n\\n# track = \\\"coldplay yellow\\\"\\n# res = spotify.search(track, type=\\\"track\\\", market=\\\"US\\\", limit=1)\\n# print(res)\";\n",
       "                var nbb_cells = Jupyter.notebook.get_cells();\n",
       "                for (var i = 0; i < nbb_cells.length; ++i) {\n",
       "                    if (nbb_cells[i].input_prompt_number == nbb_cell_id) {\n",
       "                        if (nbb_cells[i].get_text() == nbb_unformatted_code) {\n",
       "                             nbb_cells[i].set_text(nbb_formatted_code);\n",
       "                        }\n",
       "                        break;\n",
       "                    }\n",
       "                }\n",
       "            }, 500);\n",
       "            "
      ],
      "text/plain": [
       "<IPython.core.display.Javascript object>"
      ]
     },
     "metadata": {},
     "output_type": "display_data"
    }
   ],
   "source": [
    "import spotipy\n",
    "import spotipy.util as util\n",
    "from spotipy.oauth2 import SpotifyClientCredentials\n",
    "import spotipy.oauth2 as oauth2\n",
    "\n",
    "\n",
    "CLIENT_ID = secrets[\"spotify_client_id\"]\n",
    "CLIENT_SECRET = secrets[\"spotify_client_secret\"]\n",
    "\n",
    "credentials = oauth2.SpotifyClientCredentials(\n",
    "    client_id=CLIENT_ID, client_secret=CLIENT_SECRET\n",
    ")\n",
    "\n",
    "token = credentials.get_access_token()\n",
    "sp = spotipy.Spotify(auth=token)\n",
    "\n",
    "# track = \"coldplay yellow\"\n",
    "# res = spotify.search(track, type=\"track\", market=\"US\", limit=1)\n",
    "# print(res)"
   ]
  },
  {
   "cell_type": "code",
   "execution_count": 5,
   "metadata": {},
   "outputs": [
    {
     "data": {
      "application/javascript": [
       "\n",
       "            setTimeout(function() {\n",
       "                var nbb_cell_id = 5;\n",
       "                var nbb_unformatted_code = \"# print(json.dumps(res, indent=4, sort_keys=True))\";\n",
       "                var nbb_formatted_code = \"# print(json.dumps(res, indent=4, sort_keys=True))\";\n",
       "                var nbb_cells = Jupyter.notebook.get_cells();\n",
       "                for (var i = 0; i < nbb_cells.length; ++i) {\n",
       "                    if (nbb_cells[i].input_prompt_number == nbb_cell_id) {\n",
       "                        if (nbb_cells[i].get_text() == nbb_unformatted_code) {\n",
       "                             nbb_cells[i].set_text(nbb_formatted_code);\n",
       "                        }\n",
       "                        break;\n",
       "                    }\n",
       "                }\n",
       "            }, 500);\n",
       "            "
      ],
      "text/plain": [
       "<IPython.core.display.Javascript object>"
      ]
     },
     "metadata": {},
     "output_type": "display_data"
    }
   ],
   "source": [
    "# print(json.dumps(res, indent=4, sort_keys=True))"
   ]
  },
  {
   "cell_type": "code",
   "execution_count": 6,
   "metadata": {},
   "outputs": [
    {
     "data": {
      "application/javascript": [
       "\n",
       "            setTimeout(function() {\n",
       "                var nbb_cell_id = 6;\n",
       "                var nbb_unformatted_code = \"# res = sp.featured_playlists()\\n# print(response[\\\"message\\\"])\\n\\n# while response:\\n#     playlists = response[\\\"playlists\\\"]\\n#     for i, item in enumerate(playlists[\\\"items\\\"]):\\n#         print(playlists[\\\"offset\\\"] + i, item[\\\"name\\\"])\\n\\n#     if playlists[\\\"next\\\"]:\\n#         response = sp.next(playlists)\\n#     else:\\n#         response = None\";\n",
       "                var nbb_formatted_code = \"# res = sp.featured_playlists()\\n# print(response[\\\"message\\\"])\\n\\n# while response:\\n#     playlists = response[\\\"playlists\\\"]\\n#     for i, item in enumerate(playlists[\\\"items\\\"]):\\n#         print(playlists[\\\"offset\\\"] + i, item[\\\"name\\\"])\\n\\n#     if playlists[\\\"next\\\"]:\\n#         response = sp.next(playlists)\\n#     else:\\n#         response = None\";\n",
       "                var nbb_cells = Jupyter.notebook.get_cells();\n",
       "                for (var i = 0; i < nbb_cells.length; ++i) {\n",
       "                    if (nbb_cells[i].input_prompt_number == nbb_cell_id) {\n",
       "                        if (nbb_cells[i].get_text() == nbb_unformatted_code) {\n",
       "                             nbb_cells[i].set_text(nbb_formatted_code);\n",
       "                        }\n",
       "                        break;\n",
       "                    }\n",
       "                }\n",
       "            }, 500);\n",
       "            "
      ],
      "text/plain": [
       "<IPython.core.display.Javascript object>"
      ]
     },
     "metadata": {},
     "output_type": "display_data"
    }
   ],
   "source": [
    "# res = sp.featured_playlists()\n",
    "# print(response[\"message\"])\n",
    "\n",
    "# while response:\n",
    "#     playlists = response[\"playlists\"]\n",
    "#     for i, item in enumerate(playlists[\"items\"]):\n",
    "#         print(playlists[\"offset\"] + i, item[\"name\"])\n",
    "\n",
    "#     if playlists[\"next\"]:\n",
    "#         response = sp.next(playlists)\n",
    "#     else:\n",
    "#         response = None"
   ]
  },
  {
   "cell_type": "code",
   "execution_count": 7,
   "metadata": {},
   "outputs": [
    {
     "data": {
      "application/javascript": [
       "\n",
       "            setTimeout(function() {\n",
       "                var nbb_cell_id = 7;\n",
       "                var nbb_unformatted_code = \"# print(json.dumps(res, indent=4, sort_keys=True))\";\n",
       "                var nbb_formatted_code = \"# print(json.dumps(res, indent=4, sort_keys=True))\";\n",
       "                var nbb_cells = Jupyter.notebook.get_cells();\n",
       "                for (var i = 0; i < nbb_cells.length; ++i) {\n",
       "                    if (nbb_cells[i].input_prompt_number == nbb_cell_id) {\n",
       "                        if (nbb_cells[i].get_text() == nbb_unformatted_code) {\n",
       "                             nbb_cells[i].set_text(nbb_formatted_code);\n",
       "                        }\n",
       "                        break;\n",
       "                    }\n",
       "                }\n",
       "            }, 500);\n",
       "            "
      ],
      "text/plain": [
       "<IPython.core.display.Javascript object>"
      ]
     },
     "metadata": {},
     "output_type": "display_data"
    }
   ],
   "source": [
    "# print(json.dumps(res, indent=4, sort_keys=True))"
   ]
  },
  {
   "cell_type": "markdown",
   "metadata": {},
   "source": [
    "Let's think about making a simple goal. How do I get my song onto running playlists?"
   ]
  },
  {
   "cell_type": "code",
   "execution_count": 8,
   "metadata": {},
   "outputs": [
    {
     "data": {
      "application/javascript": [
       "\n",
       "            setTimeout(function() {\n",
       "                var nbb_cell_id = 8;\n",
       "                var nbb_unformatted_code = \"# first get a list of running playlists from spotify using the search function\\ns_limit = 10\\nres = sp.search(\\\"Running\\\", limit=s_limit, type=\\\"playlist\\\", market=\\\"US\\\")\";\n",
       "                var nbb_formatted_code = \"# first get a list of running playlists from spotify using the search function\\ns_limit = 10\\nres = sp.search(\\\"Running\\\", limit=s_limit, type=\\\"playlist\\\", market=\\\"US\\\")\";\n",
       "                var nbb_cells = Jupyter.notebook.get_cells();\n",
       "                for (var i = 0; i < nbb_cells.length; ++i) {\n",
       "                    if (nbb_cells[i].input_prompt_number == nbb_cell_id) {\n",
       "                        if (nbb_cells[i].get_text() == nbb_unformatted_code) {\n",
       "                             nbb_cells[i].set_text(nbb_formatted_code);\n",
       "                        }\n",
       "                        break;\n",
       "                    }\n",
       "                }\n",
       "            }, 500);\n",
       "            "
      ],
      "text/plain": [
       "<IPython.core.display.Javascript object>"
      ]
     },
     "metadata": {},
     "output_type": "display_data"
    }
   ],
   "source": [
    "# first get a list of running playlists from spotify using the search function\n",
    "s_limit = 10\n",
    "res = sp.search(\"Running\", limit=s_limit, type=\"playlist\", market=\"US\")\n"
   ]
  },
  {
   "cell_type": "markdown",
   "metadata": {},
   "source": [
    "``` python\n",
    "playlist_info = {}\n",
    "max_results = 30\n",
    "offset = 0\n",
    "while offset < max_results:\n",
    "    playlists = res[\"playlists\"]\n",
    "    for i, item in enumerate(playlists[\"items\"]):\n",
    "        # Store the name as a key. Get the number of tracks and uri\n",
    "        playlist_info[item[\"name\"]] = [item[\"tracks\"][\"total\"], item[\"uri\"]]\n",
    "    if playlists[\"next\"]:\n",
    "        res = sp.next(playlists)\n",
    "        offset += s_limit\n",
    "    else:\n",
    "        res = None\n",
    "playlist_info\n",
    "```"
   ]
  },
  {
   "cell_type": "code",
   "execution_count": 9,
   "metadata": {},
   "outputs": [
    {
     "data": {
      "application/javascript": [
       "\n",
       "            setTimeout(function() {\n",
       "                var nbb_cell_id = 9;\n",
       "                var nbb_unformatted_code = \"# pd.DataFrame(playlist_info).T.to_csv(\\\"playlists_taken_from.csv\\\")\";\n",
       "                var nbb_formatted_code = \"# pd.DataFrame(playlist_info).T.to_csv(\\\"playlists_taken_from.csv\\\")\";\n",
       "                var nbb_cells = Jupyter.notebook.get_cells();\n",
       "                for (var i = 0; i < nbb_cells.length; ++i) {\n",
       "                    if (nbb_cells[i].input_prompt_number == nbb_cell_id) {\n",
       "                        if (nbb_cells[i].get_text() == nbb_unformatted_code) {\n",
       "                             nbb_cells[i].set_text(nbb_formatted_code);\n",
       "                        }\n",
       "                        break;\n",
       "                    }\n",
       "                }\n",
       "            }, 500);\n",
       "            "
      ],
      "text/plain": [
       "<IPython.core.display.Javascript object>"
      ]
     },
     "metadata": {},
     "output_type": "display_data"
    }
   ],
   "source": [
    "# pd.DataFrame(playlist_info).T.to_csv(\"playlists_taken_from.csv\")"
   ]
  },
  {
   "cell_type": "code",
   "execution_count": 10,
   "metadata": {
    "scrolled": true
   },
   "outputs": [
    {
     "data": {
      "application/javascript": [
       "\n",
       "            setTimeout(function() {\n",
       "                var nbb_cell_id = 10;\n",
       "                var nbb_unformatted_code = \"#len(playlist_info)\";\n",
       "                var nbb_formatted_code = \"# len(playlist_info)\";\n",
       "                var nbb_cells = Jupyter.notebook.get_cells();\n",
       "                for (var i = 0; i < nbb_cells.length; ++i) {\n",
       "                    if (nbb_cells[i].input_prompt_number == nbb_cell_id) {\n",
       "                        if (nbb_cells[i].get_text() == nbb_unformatted_code) {\n",
       "                             nbb_cells[i].set_text(nbb_formatted_code);\n",
       "                        }\n",
       "                        break;\n",
       "                    }\n",
       "                }\n",
       "            }, 500);\n",
       "            "
      ],
      "text/plain": [
       "<IPython.core.display.Javascript object>"
      ]
     },
     "metadata": {},
     "output_type": "display_data"
    }
   ],
   "source": [
    "# len(playlist_info)"
   ]
  },
  {
   "cell_type": "code",
   "execution_count": 11,
   "metadata": {},
   "outputs": [
    {
     "data": {
      "application/javascript": [
       "\n",
       "            setTimeout(function() {\n",
       "                var nbb_cell_id = 11;\n",
       "                var nbb_unformatted_code = \"# curr_playlist = list(playlist_info.items())[0]\\n# curr_playlist[1][1]\";\n",
       "                var nbb_formatted_code = \"# curr_playlist = list(playlist_info.items())[0]\\n# curr_playlist[1][1]\";\n",
       "                var nbb_cells = Jupyter.notebook.get_cells();\n",
       "                for (var i = 0; i < nbb_cells.length; ++i) {\n",
       "                    if (nbb_cells[i].input_prompt_number == nbb_cell_id) {\n",
       "                        if (nbb_cells[i].get_text() == nbb_unformatted_code) {\n",
       "                             nbb_cells[i].set_text(nbb_formatted_code);\n",
       "                        }\n",
       "                        break;\n",
       "                    }\n",
       "                }\n",
       "            }, 500);\n",
       "            "
      ],
      "text/plain": [
       "<IPython.core.display.Javascript object>"
      ]
     },
     "metadata": {},
     "output_type": "display_data"
    }
   ],
   "source": [
    "# curr_playlist = list(playlist_info.items())[0]\n",
    "# curr_playlist[1][1]"
   ]
  },
  {
   "cell_type": "markdown",
   "metadata": {},
   "source": [
    "``` python\n",
    "from pprint import pprint\n",
    "#curr_playlist = list(playlist_info.items())[0]\n",
    "all_track_ids = []\n",
    "\n",
    "for p in list(playlist_info.items()):\n",
    "\n",
    "    pl_id = p[1][1]\n",
    "    offset = 0\n",
    "\n",
    "    track_ids = []\n",
    "\n",
    "    while True:\n",
    "        response = sp.playlist_tracks(pl_id,\n",
    "                                     offset=offset,\n",
    "                                     fields='items.track.id,total',\n",
    "                                     additional_types=['track'])\n",
    "        #store the track ids from the playlist\n",
    "        for item in response['items']:\n",
    "            track_ids.append( item['track']['id'])\n",
    "\n",
    "        offset = offset + len(response['items'])\n",
    "        print(offset, \"/\", response['total'])\n",
    "\n",
    "        if len(response['items']) == 0:\n",
    "            break\n",
    "            \n",
    "    #Add the per_playlist ids to the master list\n",
    "    all_track_ids.extend(track_ids)\n",
    "```"
   ]
  },
  {
   "cell_type": "code",
   "execution_count": 12,
   "metadata": {},
   "outputs": [
    {
     "data": {
      "application/javascript": [
       "\n",
       "            setTimeout(function() {\n",
       "                var nbb_cell_id = 12;\n",
       "                var nbb_unformatted_code = \"#len(all_track_ids)\";\n",
       "                var nbb_formatted_code = \"# len(all_track_ids)\";\n",
       "                var nbb_cells = Jupyter.notebook.get_cells();\n",
       "                for (var i = 0; i < nbb_cells.length; ++i) {\n",
       "                    if (nbb_cells[i].input_prompt_number == nbb_cell_id) {\n",
       "                        if (nbb_cells[i].get_text() == nbb_unformatted_code) {\n",
       "                             nbb_cells[i].set_text(nbb_formatted_code);\n",
       "                        }\n",
       "                        break;\n",
       "                    }\n",
       "                }\n",
       "            }, 500);\n",
       "            "
      ],
      "text/plain": [
       "<IPython.core.display.Javascript object>"
      ]
     },
     "metadata": {},
     "output_type": "display_data"
    }
   ],
   "source": [
    "# len(all_track_ids)"
   ]
  },
  {
   "cell_type": "code",
   "execution_count": 13,
   "metadata": {},
   "outputs": [
    {
     "data": {
      "application/javascript": [
       "\n",
       "            setTimeout(function() {\n",
       "                var nbb_cell_id = 13;\n",
       "                var nbb_unformatted_code = \"#all_track_ids_np = np.array(all_track_ids)\";\n",
       "                var nbb_formatted_code = \"# all_track_ids_np = np.array(all_track_ids)\";\n",
       "                var nbb_cells = Jupyter.notebook.get_cells();\n",
       "                for (var i = 0; i < nbb_cells.length; ++i) {\n",
       "                    if (nbb_cells[i].input_prompt_number == nbb_cell_id) {\n",
       "                        if (nbb_cells[i].get_text() == nbb_unformatted_code) {\n",
       "                             nbb_cells[i].set_text(nbb_formatted_code);\n",
       "                        }\n",
       "                        break;\n",
       "                    }\n",
       "                }\n",
       "            }, 500);\n",
       "            "
      ],
      "text/plain": [
       "<IPython.core.display.Javascript object>"
      ]
     },
     "metadata": {},
     "output_type": "display_data"
    }
   ],
   "source": [
    "# all_track_ids_np = np.array(all_track_ids)"
   ]
  },
  {
   "cell_type": "code",
   "execution_count": 14,
   "metadata": {},
   "outputs": [
    {
     "data": {
      "application/javascript": [
       "\n",
       "            setTimeout(function() {\n",
       "                var nbb_cell_id = 14;\n",
       "                var nbb_unformatted_code = \"#all_track_ids_np = np.unique(all_track_ids_np)\";\n",
       "                var nbb_formatted_code = \"# all_track_ids_np = np.unique(all_track_ids_np)\";\n",
       "                var nbb_cells = Jupyter.notebook.get_cells();\n",
       "                for (var i = 0; i < nbb_cells.length; ++i) {\n",
       "                    if (nbb_cells[i].input_prompt_number == nbb_cell_id) {\n",
       "                        if (nbb_cells[i].get_text() == nbb_unformatted_code) {\n",
       "                             nbb_cells[i].set_text(nbb_formatted_code);\n",
       "                        }\n",
       "                        break;\n",
       "                    }\n",
       "                }\n",
       "            }, 500);\n",
       "            "
      ],
      "text/plain": [
       "<IPython.core.display.Javascript object>"
      ]
     },
     "metadata": {},
     "output_type": "display_data"
    }
   ],
   "source": [
    "# all_track_ids_np = np.unique(all_track_ids_np)"
   ]
  },
  {
   "cell_type": "code",
   "execution_count": 15,
   "metadata": {},
   "outputs": [
    {
     "data": {
      "application/javascript": [
       "\n",
       "            setTimeout(function() {\n",
       "                var nbb_cell_id = 15;\n",
       "                var nbb_unformatted_code = \"#len(all_track_ids_np)\";\n",
       "                var nbb_formatted_code = \"# len(all_track_ids_np)\";\n",
       "                var nbb_cells = Jupyter.notebook.get_cells();\n",
       "                for (var i = 0; i < nbb_cells.length; ++i) {\n",
       "                    if (nbb_cells[i].input_prompt_number == nbb_cell_id) {\n",
       "                        if (nbb_cells[i].get_text() == nbb_unformatted_code) {\n",
       "                             nbb_cells[i].set_text(nbb_formatted_code);\n",
       "                        }\n",
       "                        break;\n",
       "                    }\n",
       "                }\n",
       "            }, 500);\n",
       "            "
      ],
      "text/plain": [
       "<IPython.core.display.Javascript object>"
      ]
     },
     "metadata": {},
     "output_type": "display_data"
    }
   ],
   "source": [
    "# len(all_track_ids_np)"
   ]
  },
  {
   "cell_type": "code",
   "execution_count": 16,
   "metadata": {
    "scrolled": true
   },
   "outputs": [
    {
     "data": {
      "application/javascript": [
       "\n",
       "            setTimeout(function() {\n",
       "                var nbb_cell_id = 16;\n",
       "                var nbb_unformatted_code = \"#all_track_ids_np\";\n",
       "                var nbb_formatted_code = \"# all_track_ids_np\";\n",
       "                var nbb_cells = Jupyter.notebook.get_cells();\n",
       "                for (var i = 0; i < nbb_cells.length; ++i) {\n",
       "                    if (nbb_cells[i].input_prompt_number == nbb_cell_id) {\n",
       "                        if (nbb_cells[i].get_text() == nbb_unformatted_code) {\n",
       "                             nbb_cells[i].set_text(nbb_formatted_code);\n",
       "                        }\n",
       "                        break;\n",
       "                    }\n",
       "                }\n",
       "            }, 500);\n",
       "            "
      ],
      "text/plain": [
       "<IPython.core.display.Javascript object>"
      ]
     },
     "metadata": {},
     "output_type": "display_data"
    }
   ],
   "source": [
    "# all_track_ids_np"
   ]
  },
  {
   "cell_type": "code",
   "execution_count": 17,
   "metadata": {},
   "outputs": [
    {
     "data": {
      "application/javascript": [
       "\n",
       "            setTimeout(function() {\n",
       "                var nbb_cell_id = 17;\n",
       "                var nbb_unformatted_code = \"#pd.DataFrame(all_track_ids_np).to_csv(\\\"running_playlists_track_ids.csv\\\")\";\n",
       "                var nbb_formatted_code = \"# pd.DataFrame(all_track_ids_np).to_csv(\\\"running_playlists_track_ids.csv\\\")\";\n",
       "                var nbb_cells = Jupyter.notebook.get_cells();\n",
       "                for (var i = 0; i < nbb_cells.length; ++i) {\n",
       "                    if (nbb_cells[i].input_prompt_number == nbb_cell_id) {\n",
       "                        if (nbb_cells[i].get_text() == nbb_unformatted_code) {\n",
       "                             nbb_cells[i].set_text(nbb_formatted_code);\n",
       "                        }\n",
       "                        break;\n",
       "                    }\n",
       "                }\n",
       "            }, 500);\n",
       "            "
      ],
      "text/plain": [
       "<IPython.core.display.Javascript object>"
      ]
     },
     "metadata": {},
     "output_type": "display_data"
    }
   ],
   "source": [
    "# pd.DataFrame(all_track_ids_np).to_csv(\"running_playlists_track_ids.csv\")"
   ]
  },
  {
   "cell_type": "code",
   "execution_count": 16,
   "metadata": {},
   "outputs": [
    {
     "data": {
      "application/javascript": [
       "\n",
       "            setTimeout(function() {\n",
       "                var nbb_cell_id = 16;\n",
       "                var nbb_unformatted_code = \"track_ids = pd.read_csv(\\\"running_playlists_track_ids.csv\\\")\";\n",
       "                var nbb_formatted_code = \"track_ids = pd.read_csv(\\\"running_playlists_track_ids.csv\\\")\";\n",
       "                var nbb_cells = Jupyter.notebook.get_cells();\n",
       "                for (var i = 0; i < nbb_cells.length; ++i) {\n",
       "                    if (nbb_cells[i].input_prompt_number == nbb_cell_id) {\n",
       "                        if (nbb_cells[i].get_text() == nbb_unformatted_code) {\n",
       "                             nbb_cells[i].set_text(nbb_formatted_code);\n",
       "                        }\n",
       "                        break;\n",
       "                    }\n",
       "                }\n",
       "            }, 500);\n",
       "            "
      ],
      "text/plain": [
       "<IPython.core.display.Javascript object>"
      ]
     },
     "metadata": {},
     "output_type": "display_data"
    },
    {
     "data": {
      "application/javascript": [
       "\n",
       "            setTimeout(function() {\n",
       "                var nbb_cell_id = 16;\n",
       "                var nbb_unformatted_code = \"track_ids = pd.read_csv(\\\"running_playlists_track_ids.csv\\\")\";\n",
       "                var nbb_formatted_code = \"track_ids = pd.read_csv(\\\"running_playlists_track_ids.csv\\\")\";\n",
       "                var nbb_cells = Jupyter.notebook.get_cells();\n",
       "                for (var i = 0; i < nbb_cells.length; ++i) {\n",
       "                    if (nbb_cells[i].input_prompt_number == nbb_cell_id) {\n",
       "                        if (nbb_cells[i].get_text() == nbb_unformatted_code) {\n",
       "                             nbb_cells[i].set_text(nbb_formatted_code);\n",
       "                        }\n",
       "                        break;\n",
       "                    }\n",
       "                }\n",
       "            }, 500);\n",
       "            "
      ],
      "text/plain": [
       "<IPython.core.display.Javascript object>"
      ]
     },
     "metadata": {},
     "output_type": "display_data"
    }
   ],
   "source": [
    "# track_ids = pd.read_csv(\"running_playlists_track_ids.csv\")"
   ]
  },
  {
   "cell_type": "code",
   "execution_count": 76,
   "metadata": {},
   "outputs": [
    {
     "data": {
      "application/javascript": [
       "\n",
       "            setTimeout(function() {\n",
       "                var nbb_cell_id = 76;\n",
       "                var nbb_unformatted_code = \"#track_features = []\\ntrack_info = []\";\n",
       "                var nbb_formatted_code = \"# track_features = []\\ntrack_info = []\";\n",
       "                var nbb_cells = Jupyter.notebook.get_cells();\n",
       "                for (var i = 0; i < nbb_cells.length; ++i) {\n",
       "                    if (nbb_cells[i].input_prompt_number == nbb_cell_id) {\n",
       "                        if (nbb_cells[i].get_text() == nbb_unformatted_code) {\n",
       "                             nbb_cells[i].set_text(nbb_formatted_code);\n",
       "                        }\n",
       "                        break;\n",
       "                    }\n",
       "                }\n",
       "            }, 500);\n",
       "            "
      ],
      "text/plain": [
       "<IPython.core.display.Javascript object>"
      ]
     },
     "metadata": {},
     "output_type": "display_data"
    },
    {
     "data": {
      "application/javascript": [
       "\n",
       "            setTimeout(function() {\n",
       "                var nbb_cell_id = 76;\n",
       "                var nbb_unformatted_code = \"#track_features = []\\ntrack_info = []\";\n",
       "                var nbb_formatted_code = \"# track_features = []\\ntrack_info = []\";\n",
       "                var nbb_cells = Jupyter.notebook.get_cells();\n",
       "                for (var i = 0; i < nbb_cells.length; ++i) {\n",
       "                    if (nbb_cells[i].input_prompt_number == nbb_cell_id) {\n",
       "                        if (nbb_cells[i].get_text() == nbb_unformatted_code) {\n",
       "                             nbb_cells[i].set_text(nbb_formatted_code);\n",
       "                        }\n",
       "                        break;\n",
       "                    }\n",
       "                }\n",
       "            }, 500);\n",
       "            "
      ],
      "text/plain": [
       "<IPython.core.display.Javascript object>"
      ]
     },
     "metadata": {},
     "output_type": "display_data"
    }
   ],
   "source": [
    "# track_features = []\n"
   ]
  },
  {
   "cell_type": "code",
   "execution_count": 41,
   "metadata": {},
   "outputs": [
    {
     "data": {
      "application/javascript": [
       "\n",
       "            setTimeout(function() {\n",
       "                var nbb_cell_id = 41;\n",
       "                var nbb_unformatted_code = \"tracks = list(track_ids[\\\"0\\\"])[:49]\\nresponse = sp.tracks(tracks)\";\n",
       "                var nbb_formatted_code = \"tracks = list(track_ids[\\\"0\\\"])[:49]\\nresponse = sp.tracks(tracks)\";\n",
       "                var nbb_cells = Jupyter.notebook.get_cells();\n",
       "                for (var i = 0; i < nbb_cells.length; ++i) {\n",
       "                    if (nbb_cells[i].input_prompt_number == nbb_cell_id) {\n",
       "                        if (nbb_cells[i].get_text() == nbb_unformatted_code) {\n",
       "                             nbb_cells[i].set_text(nbb_formatted_code);\n",
       "                        }\n",
       "                        break;\n",
       "                    }\n",
       "                }\n",
       "            }, 500);\n",
       "            "
      ],
      "text/plain": [
       "<IPython.core.display.Javascript object>"
      ]
     },
     "metadata": {},
     "output_type": "display_data"
    },
    {
     "data": {
      "application/javascript": [
       "\n",
       "            setTimeout(function() {\n",
       "                var nbb_cell_id = 41;\n",
       "                var nbb_unformatted_code = \"tracks = list(track_ids[\\\"0\\\"])[:49]\\nresponse = sp.tracks(tracks)\";\n",
       "                var nbb_formatted_code = \"tracks = list(track_ids[\\\"0\\\"])[:49]\\nresponse = sp.tracks(tracks)\";\n",
       "                var nbb_cells = Jupyter.notebook.get_cells();\n",
       "                for (var i = 0; i < nbb_cells.length; ++i) {\n",
       "                    if (nbb_cells[i].input_prompt_number == nbb_cell_id) {\n",
       "                        if (nbb_cells[i].get_text() == nbb_unformatted_code) {\n",
       "                             nbb_cells[i].set_text(nbb_formatted_code);\n",
       "                        }\n",
       "                        break;\n",
       "                    }\n",
       "                }\n",
       "            }, 500);\n",
       "            "
      ],
      "text/plain": [
       "<IPython.core.display.Javascript object>"
      ]
     },
     "metadata": {},
     "output_type": "display_data"
    }
   ],
   "source": [
    "# tracks = list(track_ids[\"0\"])[:49]\n",
    "# response = sp.tracks(tracks)"
   ]
  },
  {
   "cell_type": "markdown",
   "metadata": {},
   "source": [
    " Get the info for all tracks in the db and store each batch inside of a list\n",
    "``` python\n",
    "track_info = []\n",
    "\n",
    "import time\n",
    "\n",
    "st = 0\n",
    "end = len(list(track_ids[\"0\"]))\n",
    "# end = 200\n",
    "step = 50\n",
    "\n",
    "list(range(st, end, step))\n",
    "for i in range(st, end, step):\n",
    "    print(i)\n",
    "    if len(list(track_ids[\"0\"])) - i >= step - 1:\n",
    "        response = sp.tracks(list(track_ids[\"0\"][i : i + step]))\n",
    "    else:\n",
    "        response = sp.tracks(list(track_ids[\"0\"][i:]))\n",
    "    time.sleep(2)\n",
    "    track_info.append(response)\n",
    " ```"
   ]
  },
  {
   "cell_type": "markdown",
   "metadata": {},
   "source": [
    "Iterate through each batch of songs and create a dictionary with ids as the key\n",
    "```python\n",
    "info_dict = {}\n",
    "for ind in track_info[0][\"tracks\"]:\n",
    "    track_artist = ind[\"artists\"][0][\"name\"]\n",
    "\n",
    "    track_name = ind[\"name\"]\n",
    "\n",
    "    track_album = ind[\"album\"][\"name\"]\n",
    "\n",
    "    track_popularity = ind[\"popularity\"]\n",
    "\n",
    "    track_id = ind[\"id\"]\n",
    "\n",
    "    info_dict[track_id] = [track_artist, track_name, track_album, track_popularity]\n",
    "info_dict\n",
    "```"
   ]
  },
  {
   "cell_type": "markdown",
   "metadata": {},
   "source": [
    "```python\n",
    "info_dict = {}\n",
    "for batch in track_info:\n",
    "    type(batch)\n",
    "    for ind in batch[\"tracks\"]:\n",
    "        track_artist = ind[\"artists\"][0][\"name\"]\n",
    "\n",
    "        track_name = ind[\"name\"]\n",
    "\n",
    "        track_album = ind[\"album\"][\"name\"]\n",
    "\n",
    "        track_popularity = ind[\"popularity\"]\n",
    "\n",
    "        track_id = ind[\"id\"]\n",
    "\n",
    "        info_dict[track_id] = [track_artist, track_name, track_album, track_popularity]\n",
    "len(info_dict)\n",
    "```"
   ]
  },
  {
   "cell_type": "markdown",
   "metadata": {},
   "source": [
    "convert to a dataframe, transpose, and rename columns\n",
    "```python\n",
    "tdf = pd.DataFrame(info_dict).T\n",
    "tdf = tdf.reset_index()\n",
    "# tdf.columns\n",
    "\n",
    "tdf = tdf.rename(\n",
    "    columns={\"index\": \"id\", 0: \"artist\", 1: \"title\", 2: \"album\", 3: \"popularity\"}\n",
    ")\n",
    "tdf.head()\n",
    "``` "
   ]
  },
  {
   "cell_type": "code",
   "execution_count": 131,
   "metadata": {},
   "outputs": [
    {
     "data": {
      "application/javascript": [
       "\n",
       "            setTimeout(function() {\n",
       "                var nbb_cell_id = 131;\n",
       "                var nbb_unformatted_code = \"tdf.to_csv(\\\"track_info.csv\\\")\";\n",
       "                var nbb_formatted_code = \"tdf.to_csv(\\\"track_info.csv\\\")\";\n",
       "                var nbb_cells = Jupyter.notebook.get_cells();\n",
       "                for (var i = 0; i < nbb_cells.length; ++i) {\n",
       "                    if (nbb_cells[i].input_prompt_number == nbb_cell_id) {\n",
       "                        if (nbb_cells[i].get_text() == nbb_unformatted_code) {\n",
       "                             nbb_cells[i].set_text(nbb_formatted_code);\n",
       "                        }\n",
       "                        break;\n",
       "                    }\n",
       "                }\n",
       "            }, 500);\n",
       "            "
      ],
      "text/plain": [
       "<IPython.core.display.Javascript object>"
      ]
     },
     "metadata": {},
     "output_type": "display_data"
    },
    {
     "data": {
      "application/javascript": [
       "\n",
       "            setTimeout(function() {\n",
       "                var nbb_cell_id = 131;\n",
       "                var nbb_unformatted_code = \"tdf.to_csv(\\\"track_info.csv\\\")\";\n",
       "                var nbb_formatted_code = \"tdf.to_csv(\\\"track_info.csv\\\")\";\n",
       "                var nbb_cells = Jupyter.notebook.get_cells();\n",
       "                for (var i = 0; i < nbb_cells.length; ++i) {\n",
       "                    if (nbb_cells[i].input_prompt_number == nbb_cell_id) {\n",
       "                        if (nbb_cells[i].get_text() == nbb_unformatted_code) {\n",
       "                             nbb_cells[i].set_text(nbb_formatted_code);\n",
       "                        }\n",
       "                        break;\n",
       "                    }\n",
       "                }\n",
       "            }, 500);\n",
       "            "
      ],
      "text/plain": [
       "<IPython.core.display.Javascript object>"
      ]
     },
     "metadata": {},
     "output_type": "display_data"
    }
   ],
   "source": [
    "#tdf.to_csv(\"track_info.csv\")"
   ]
  },
  {
   "cell_type": "code",
   "execution_count": null,
   "metadata": {},
   "outputs": [],
   "source": [
    "print(json.dumps(response, indent=4, sort_keys=True))"
   ]
  },
  {
   "cell_type": "markdown",
   "metadata": {},
   "source": [
    "Get all the audio features for each track in batches of 100\n",
    " ``` python\n",
    "track_features = []\n",
    "\n",
    "import time\n",
    "\n",
    "st = 0\n",
    "end = len(list(track_ids[\"0\"]))\n",
    "step = 100\n",
    "\n",
    "list(range(st, end, step))\n",
    "for i in range(st, end, step):\n",
    "    print(i)\n",
    "    if len(list(track_ids[\"0\"])) - i >= 100:\n",
    "        features_response = sp.audio_features(list(track_ids[\"0\"][i : i + step]))\n",
    "    else:\n",
    "        features_response = sp.audio_features(list(track_ids[\"0\"][i:]))\n",
    "    time.sleep(2)\n",
    "    track_features.append(features_response)\n",
    "\n",
    " ```"
   ]
  },
  {
   "cell_type": "markdown",
   "metadata": {},
   "source": [
    "Iterate through, convert each to a dataframe, and concatenate the whole thing\n",
    " ``` python\n",
    "dfs = []\n",
    "for item in track_features:\n",
    "    df = pd.DataFrame.from_dict(item)\n",
    "    dfs.append(df)\n",
    "\n",
    "track_features = pd.concat(dfs)\n",
    "```"
   ]
  },
  {
   "cell_type": "code",
   "execution_count": 134,
   "metadata": {},
   "outputs": [
    {
     "data": {
      "application/javascript": [
       "\n",
       "            setTimeout(function() {\n",
       "                var nbb_cell_id = 134;\n",
       "                var nbb_unformatted_code = \"pd.DataFrame(track_features).to_csv(\\\"track_features.csv\\\")\";\n",
       "                var nbb_formatted_code = \"pd.DataFrame(track_features).to_csv(\\\"track_features.csv\\\")\";\n",
       "                var nbb_cells = Jupyter.notebook.get_cells();\n",
       "                for (var i = 0; i < nbb_cells.length; ++i) {\n",
       "                    if (nbb_cells[i].input_prompt_number == nbb_cell_id) {\n",
       "                        if (nbb_cells[i].get_text() == nbb_unformatted_code) {\n",
       "                             nbb_cells[i].set_text(nbb_formatted_code);\n",
       "                        }\n",
       "                        break;\n",
       "                    }\n",
       "                }\n",
       "            }, 500);\n",
       "            "
      ],
      "text/plain": [
       "<IPython.core.display.Javascript object>"
      ]
     },
     "metadata": {},
     "output_type": "display_data"
    },
    {
     "data": {
      "application/javascript": [
       "\n",
       "            setTimeout(function() {\n",
       "                var nbb_cell_id = 134;\n",
       "                var nbb_unformatted_code = \"pd.DataFrame(track_features).to_csv(\\\"track_features.csv\\\")\";\n",
       "                var nbb_formatted_code = \"pd.DataFrame(track_features).to_csv(\\\"track_features.csv\\\")\";\n",
       "                var nbb_cells = Jupyter.notebook.get_cells();\n",
       "                for (var i = 0; i < nbb_cells.length; ++i) {\n",
       "                    if (nbb_cells[i].input_prompt_number == nbb_cell_id) {\n",
       "                        if (nbb_cells[i].get_text() == nbb_unformatted_code) {\n",
       "                             nbb_cells[i].set_text(nbb_formatted_code);\n",
       "                        }\n",
       "                        break;\n",
       "                    }\n",
       "                }\n",
       "            }, 500);\n",
       "            "
      ],
      "text/plain": [
       "<IPython.core.display.Javascript object>"
      ]
     },
     "metadata": {},
     "output_type": "display_data"
    }
   ],
   "source": [
    "#pd.DataFrame(track_features).to_csv(\"track_features.csv\")"
   ]
  },
  {
   "cell_type": "markdown",
   "metadata": {},
   "source": [
    "Clean and join the two dfs\n",
    "```python\n",
    "track_features = pd.read_csv(\"track_features.csv\")\n",
    "track_info = pd.read_csv(\"track_info.csv\")\n",
    "\n",
    "track_info.drop(columns=\"Unnamed: 0\", inplace=True)\n",
    "track_features.drop(columns=\"Unnamed: 0\", inplace=True)\n",
    "\n",
    "track_features.drop(columns=[\"track_href\", \"analysis_url\", \"uri\", \"type\"], inplace=True)\n",
    "\n",
    "full_df = track_info.merge(track_features, on=\"id\", how=\"outer\")\n",
    "\n",
    "full_df.head()\n",
    "```"
   ]
  },
  {
   "cell_type": "code",
   "execution_count": 153,
   "metadata": {},
   "outputs": [
    {
     "data": {
      "application/javascript": [
       "\n",
       "            setTimeout(function() {\n",
       "                var nbb_cell_id = 153;\n",
       "                var nbb_unformatted_code = \"full_df.to_csv('running_playlist_tracks.csv')\";\n",
       "                var nbb_formatted_code = \"full_df.to_csv(\\\"running_playlist_tracks.csv\\\")\";\n",
       "                var nbb_cells = Jupyter.notebook.get_cells();\n",
       "                for (var i = 0; i < nbb_cells.length; ++i) {\n",
       "                    if (nbb_cells[i].input_prompt_number == nbb_cell_id) {\n",
       "                        if (nbb_cells[i].get_text() == nbb_unformatted_code) {\n",
       "                             nbb_cells[i].set_text(nbb_formatted_code);\n",
       "                        }\n",
       "                        break;\n",
       "                    }\n",
       "                }\n",
       "            }, 500);\n",
       "            "
      ],
      "text/plain": [
       "<IPython.core.display.Javascript object>"
      ]
     },
     "metadata": {},
     "output_type": "display_data"
    },
    {
     "data": {
      "application/javascript": [
       "\n",
       "            setTimeout(function() {\n",
       "                var nbb_cell_id = 153;\n",
       "                var nbb_unformatted_code = \"full_df.to_csv('running_playlist_tracks.csv')\";\n",
       "                var nbb_formatted_code = \"full_df.to_csv(\\\"running_playlist_tracks.csv\\\")\";\n",
       "                var nbb_cells = Jupyter.notebook.get_cells();\n",
       "                for (var i = 0; i < nbb_cells.length; ++i) {\n",
       "                    if (nbb_cells[i].input_prompt_number == nbb_cell_id) {\n",
       "                        if (nbb_cells[i].get_text() == nbb_unformatted_code) {\n",
       "                             nbb_cells[i].set_text(nbb_formatted_code);\n",
       "                        }\n",
       "                        break;\n",
       "                    }\n",
       "                }\n",
       "            }, 500);\n",
       "            "
      ],
      "text/plain": [
       "<IPython.core.display.Javascript object>"
      ]
     },
     "metadata": {},
     "output_type": "display_data"
    }
   ],
   "source": [
    "#full_df.to_csv(\"running_playlist_tracks.csv\")"
   ]
  },
  {
   "cell_type": "code",
   "execution_count": 154,
   "metadata": {},
   "outputs": [
    {
     "data": {
      "application/javascript": [
       "\n",
       "            setTimeout(function() {\n",
       "                var nbb_cell_id = 154;\n",
       "                var nbb_unformatted_code = \"running = pd.read_csv('running_playlist_tracks.csv')\";\n",
       "                var nbb_formatted_code = \"running = pd.read_csv(\\\"running_playlist_tracks.csv\\\")\";\n",
       "                var nbb_cells = Jupyter.notebook.get_cells();\n",
       "                for (var i = 0; i < nbb_cells.length; ++i) {\n",
       "                    if (nbb_cells[i].input_prompt_number == nbb_cell_id) {\n",
       "                        if (nbb_cells[i].get_text() == nbb_unformatted_code) {\n",
       "                             nbb_cells[i].set_text(nbb_formatted_code);\n",
       "                        }\n",
       "                        break;\n",
       "                    }\n",
       "                }\n",
       "            }, 500);\n",
       "            "
      ],
      "text/plain": [
       "<IPython.core.display.Javascript object>"
      ]
     },
     "metadata": {},
     "output_type": "display_data"
    },
    {
     "data": {
      "application/javascript": [
       "\n",
       "            setTimeout(function() {\n",
       "                var nbb_cell_id = 154;\n",
       "                var nbb_unformatted_code = \"running = pd.read_csv('running_playlist_tracks.csv')\";\n",
       "                var nbb_formatted_code = \"running = pd.read_csv(\\\"running_playlist_tracks.csv\\\")\";\n",
       "                var nbb_cells = Jupyter.notebook.get_cells();\n",
       "                for (var i = 0; i < nbb_cells.length; ++i) {\n",
       "                    if (nbb_cells[i].input_prompt_number == nbb_cell_id) {\n",
       "                        if (nbb_cells[i].get_text() == nbb_unformatted_code) {\n",
       "                             nbb_cells[i].set_text(nbb_formatted_code);\n",
       "                        }\n",
       "                        break;\n",
       "                    }\n",
       "                }\n",
       "            }, 500);\n",
       "            "
      ],
      "text/plain": [
       "<IPython.core.display.Javascript object>"
      ]
     },
     "metadata": {},
     "output_type": "display_data"
    }
   ],
   "source": [
    "running = pd.read_csv(\"running_playlist_tracks.csv\")"
   ]
  },
  {
   "cell_type": "code",
   "execution_count": 157,
   "metadata": {},
   "outputs": [
    {
     "data": {
      "text/html": [
       "<div>\n",
       "<style scoped>\n",
       "    .dataframe tbody tr th:only-of-type {\n",
       "        vertical-align: middle;\n",
       "    }\n",
       "\n",
       "    .dataframe tbody tr th {\n",
       "        vertical-align: top;\n",
       "    }\n",
       "\n",
       "    .dataframe thead th {\n",
       "        text-align: right;\n",
       "    }\n",
       "</style>\n",
       "<table border=\"1\" class=\"dataframe\">\n",
       "  <thead>\n",
       "    <tr style=\"text-align: right;\">\n",
       "      <th></th>\n",
       "      <th>id</th>\n",
       "      <th>artist</th>\n",
       "      <th>title</th>\n",
       "      <th>album</th>\n",
       "      <th>popularity</th>\n",
       "      <th>danceability</th>\n",
       "      <th>energy</th>\n",
       "      <th>key</th>\n",
       "      <th>loudness</th>\n",
       "      <th>mode</th>\n",
       "      <th>speechiness</th>\n",
       "      <th>acousticness</th>\n",
       "      <th>instrumentalness</th>\n",
       "      <th>liveness</th>\n",
       "      <th>valence</th>\n",
       "      <th>tempo</th>\n",
       "      <th>duration_ms</th>\n",
       "      <th>time_signature</th>\n",
       "    </tr>\n",
       "  </thead>\n",
       "  <tbody>\n",
       "    <tr>\n",
       "      <th>0</th>\n",
       "      <td>00GOPLxW4PGQuUYdPJh8K1</td>\n",
       "      <td>Childish Gambino</td>\n",
       "      <td>IV. Sweatpants</td>\n",
       "      <td>Because the Internet</td>\n",
       "      <td>71</td>\n",
       "      <td>0.710</td>\n",
       "      <td>0.470</td>\n",
       "      <td>1</td>\n",
       "      <td>-9.330</td>\n",
       "      <td>0</td>\n",
       "      <td>0.1420</td>\n",
       "      <td>0.15400</td>\n",
       "      <td>0.00000</td>\n",
       "      <td>0.6430</td>\n",
       "      <td>0.581</td>\n",
       "      <td>80.027</td>\n",
       "      <td>180675</td>\n",
       "      <td>4</td>\n",
       "    </tr>\n",
       "    <tr>\n",
       "      <th>1</th>\n",
       "      <td>00QyLmjxaSEE8qIZQjBXBj</td>\n",
       "      <td>2 Chainz</td>\n",
       "      <td>We Own It (Fast &amp; Furious)</td>\n",
       "      <td>Fast &amp; Furious 6</td>\n",
       "      <td>62</td>\n",
       "      <td>0.554</td>\n",
       "      <td>0.899</td>\n",
       "      <td>8</td>\n",
       "      <td>-4.573</td>\n",
       "      <td>1</td>\n",
       "      <td>0.4080</td>\n",
       "      <td>0.05210</td>\n",
       "      <td>0.00000</td>\n",
       "      <td>0.0568</td>\n",
       "      <td>0.552</td>\n",
       "      <td>171.966</td>\n",
       "      <td>227893</td>\n",
       "      <td>4</td>\n",
       "    </tr>\n",
       "    <tr>\n",
       "      <th>2</th>\n",
       "      <td>00V7a8gzdZQgvulLe3MDe3</td>\n",
       "      <td>Elliphant</td>\n",
       "      <td>To The End</td>\n",
       "      <td>To The End</td>\n",
       "      <td>0</td>\n",
       "      <td>0.650</td>\n",
       "      <td>0.893</td>\n",
       "      <td>11</td>\n",
       "      <td>-3.340</td>\n",
       "      <td>0</td>\n",
       "      <td>0.0426</td>\n",
       "      <td>0.01300</td>\n",
       "      <td>0.00384</td>\n",
       "      <td>0.0898</td>\n",
       "      <td>0.246</td>\n",
       "      <td>115.005</td>\n",
       "      <td>259773</td>\n",
       "      <td>4</td>\n",
       "    </tr>\n",
       "    <tr>\n",
       "      <th>3</th>\n",
       "      <td>00ko9WaS4jOX1kEk3gvHjf</td>\n",
       "      <td>Chance the Rapper</td>\n",
       "      <td>Hot Shower</td>\n",
       "      <td>The Big Day</td>\n",
       "      <td>74</td>\n",
       "      <td>0.899</td>\n",
       "      <td>0.509</td>\n",
       "      <td>9</td>\n",
       "      <td>-8.040</td>\n",
       "      <td>1</td>\n",
       "      <td>0.3870</td>\n",
       "      <td>0.00157</td>\n",
       "      <td>0.00000</td>\n",
       "      <td>0.0573</td>\n",
       "      <td>0.599</td>\n",
       "      <td>150.001</td>\n",
       "      <td>225924</td>\n",
       "      <td>4</td>\n",
       "    </tr>\n",
       "    <tr>\n",
       "      <th>4</th>\n",
       "      <td>00qOE7OjRl0BpYiCiweZB2</td>\n",
       "      <td>Foreigner</td>\n",
       "      <td>Juke Box Hero</td>\n",
       "      <td>4 (Expanded)</td>\n",
       "      <td>68</td>\n",
       "      <td>0.357</td>\n",
       "      <td>0.653</td>\n",
       "      <td>9</td>\n",
       "      <td>-5.554</td>\n",
       "      <td>1</td>\n",
       "      <td>0.0654</td>\n",
       "      <td>0.08280</td>\n",
       "      <td>0.00000</td>\n",
       "      <td>0.0844</td>\n",
       "      <td>0.522</td>\n",
       "      <td>176.647</td>\n",
       "      <td>259800</td>\n",
       "      <td>4</td>\n",
       "    </tr>\n",
       "  </tbody>\n",
       "</table>\n",
       "</div>"
      ],
      "text/plain": [
       "                       id             artist                       title  \\\n",
       "0  00GOPLxW4PGQuUYdPJh8K1   Childish Gambino              IV. Sweatpants   \n",
       "1  00QyLmjxaSEE8qIZQjBXBj           2 Chainz  We Own It (Fast & Furious)   \n",
       "2  00V7a8gzdZQgvulLe3MDe3          Elliphant                  To The End   \n",
       "3  00ko9WaS4jOX1kEk3gvHjf  Chance the Rapper                  Hot Shower   \n",
       "4  00qOE7OjRl0BpYiCiweZB2          Foreigner               Juke Box Hero   \n",
       "\n",
       "                  album  popularity  danceability  energy  key  loudness  \\\n",
       "0  Because the Internet          71         0.710   0.470    1    -9.330   \n",
       "1      Fast & Furious 6          62         0.554   0.899    8    -4.573   \n",
       "2            To The End           0         0.650   0.893   11    -3.340   \n",
       "3           The Big Day          74         0.899   0.509    9    -8.040   \n",
       "4          4 (Expanded)          68         0.357   0.653    9    -5.554   \n",
       "\n",
       "   mode  speechiness  acousticness  instrumentalness  liveness  valence  \\\n",
       "0     0       0.1420       0.15400           0.00000    0.6430    0.581   \n",
       "1     1       0.4080       0.05210           0.00000    0.0568    0.552   \n",
       "2     0       0.0426       0.01300           0.00384    0.0898    0.246   \n",
       "3     1       0.3870       0.00157           0.00000    0.0573    0.599   \n",
       "4     1       0.0654       0.08280           0.00000    0.0844    0.522   \n",
       "\n",
       "     tempo  duration_ms  time_signature  \n",
       "0   80.027       180675               4  \n",
       "1  171.966       227893               4  \n",
       "2  115.005       259773               4  \n",
       "3  150.001       225924               4  \n",
       "4  176.647       259800               4  "
      ]
     },
     "execution_count": 157,
     "metadata": {},
     "output_type": "execute_result"
    },
    {
     "data": {
      "application/javascript": [
       "\n",
       "            setTimeout(function() {\n",
       "                var nbb_cell_id = 157;\n",
       "                var nbb_unformatted_code = \"running.drop(columns=\\\"Unnamed: 0\\\", inplace=True)\\nrunning.head()\";\n",
       "                var nbb_formatted_code = \"running.drop(columns=\\\"Unnamed: 0\\\", inplace=True)\\nrunning.head()\";\n",
       "                var nbb_cells = Jupyter.notebook.get_cells();\n",
       "                for (var i = 0; i < nbb_cells.length; ++i) {\n",
       "                    if (nbb_cells[i].input_prompt_number == nbb_cell_id) {\n",
       "                        if (nbb_cells[i].get_text() == nbb_unformatted_code) {\n",
       "                             nbb_cells[i].set_text(nbb_formatted_code);\n",
       "                        }\n",
       "                        break;\n",
       "                    }\n",
       "                }\n",
       "            }, 500);\n",
       "            "
      ],
      "text/plain": [
       "<IPython.core.display.Javascript object>"
      ]
     },
     "metadata": {},
     "output_type": "display_data"
    },
    {
     "data": {
      "application/javascript": [
       "\n",
       "            setTimeout(function() {\n",
       "                var nbb_cell_id = 157;\n",
       "                var nbb_unformatted_code = \"running.drop(columns=\\\"Unnamed: 0\\\", inplace=True)\\nrunning.head()\";\n",
       "                var nbb_formatted_code = \"running.drop(columns=\\\"Unnamed: 0\\\", inplace=True)\\nrunning.head()\";\n",
       "                var nbb_cells = Jupyter.notebook.get_cells();\n",
       "                for (var i = 0; i < nbb_cells.length; ++i) {\n",
       "                    if (nbb_cells[i].input_prompt_number == nbb_cell_id) {\n",
       "                        if (nbb_cells[i].get_text() == nbb_unformatted_code) {\n",
       "                             nbb_cells[i].set_text(nbb_formatted_code);\n",
       "                        }\n",
       "                        break;\n",
       "                    }\n",
       "                }\n",
       "            }, 500);\n",
       "            "
      ],
      "text/plain": [
       "<IPython.core.display.Javascript object>"
      ]
     },
     "metadata": {},
     "output_type": "display_data"
    }
   ],
   "source": [
    "running.drop(columns=\"Unnamed: 0\", inplace=True)\n",
    "running.head()"
   ]
  }
 ],
 "metadata": {
  "kernelspec": {
   "display_name": "Python 3",
   "language": "python",
   "name": "python3"
  },
  "language_info": {
   "codemirror_mode": {
    "name": "ipython",
    "version": 3
   },
   "file_extension": ".py",
   "mimetype": "text/x-python",
   "name": "python",
   "nbconvert_exporter": "python",
   "pygments_lexer": "ipython3",
   "version": "3.7.6"
  }
 },
 "nbformat": 4,
 "nbformat_minor": 4
}
